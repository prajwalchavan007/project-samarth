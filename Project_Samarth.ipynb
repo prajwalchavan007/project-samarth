{
  "cells": [
    {
      "cell_type": "markdown",
      "metadata": {
        "id": "SZxFTYdMYFYR"
      },
      "source": [
        "## **Project Samarth**\n"
      ]
    },
    {
      "cell_type": "markdown",
      "metadata": {
        "id": "i6DLiRbIl7sZ"
      },
      "source": [
        "# Step 1: Install Libraries\n"
      ]
    },
    {
      "cell_type": "code",
      "execution_count": 46,
      "metadata": {
        "id": "klKLg3WJmINw"
      },
      "outputs": [],
      "source": [
        "import requests\n",
        "import pandas as pd\n",
        "from transformers import pipeline"
      ]
    },
    {
      "cell_type": "markdown",
      "metadata": {
        "id": "pqa35NrfmrRo"
      },
      "source": [
        "# Step 2: Data Discovery & Integration\n",
        "# For sourcing\n",
        "# crop_url = \"/content/drive/MyDrive/PROJECT SAMARTH/crop_production.csv\"  # Example: Replace with real URL\n",
        "# climate_url = \"/content/drive/MyDrive/PROJECT SAMARTH/weather-1.csv\"  #"
      ]
    },
    {
      "cell_type": "markdown",
      "metadata": {
        "id": "FhxKWYzkm3cP"
      },
      "source": [
        "# For now, using local CSVs (upload to Colab: crop_production.csv, climate_data.csv)\n",
        "# Assume crop_production.csv has columns:State', 'District', 'Year', 'Season', 'Crop', 'Area', 'Production\n",
        "# Assume climate_data.csv has columns:State', 'District', 'Temperature', 'Condition', 'Humidity ', 'Wind Speed', 'Year"
      ]
    },
    {
      "cell_type": "code",
      "execution_count": 47,
      "metadata": {
        "colab": {
          "base_uri": "https://localhost:8080/"
        },
        "id": "PVnF4ke7m56Y",
        "outputId": "81ab2b88-d17c-4d78-a547-ad2b7707aa0d"
      },
      "outputs": [
        {
          "output_type": "stream",
          "name": "stderr",
          "text": [
            "/tmp/ipython-input-4230534721.py:2: DtypeWarning: Columns (0,1,3) have mixed types. Specify dtype option on import or set low_memory=False.\n",
            "  climate_df = pd.read_csv('/content/drive/MyDrive/PROJECT SAMARTH/weather-1.csv')  # Upload your file\n"
          ]
        }
      ],
      "source": [
        "crop_df = pd.read_csv('/content/drive/MyDrive/PROJECT SAMARTH/crop_production.csv')  # Upload your file\n",
        "climate_df = pd.read_csv('/content/drive/MyDrive/PROJECT SAMARTH/weather-1.csv')  # Upload your file"
      ]
    },
    {
      "cell_type": "markdown",
      "metadata": {
        "id": "JeZJ2RqAnIAo"
      },
      "source": [
        "# Clean and Integrate\n"
      ]
    },
    {
      "cell_type": "code",
      "execution_count": 48,
      "metadata": {
        "id": "GILi8mWGnI8Q"
      },
      "outputs": [],
      "source": [
        "# Clean and Integrate\n",
        "crop_df['State'] = crop_df['State'].str.lower().str.strip()  # Normalize\n",
        "climate_df['State'] = climate_df['State'].str.lower().str.strip()\n",
        "integrated_df = pd.merge(crop_df, climate_df, on=['State', 'Year'], how='outer')  # Merge on State and Year\n",
        "integrated_df.fillna(0, inplace=True)  # Handle missing values"
      ]
    },
    {
      "cell_type": "code",
      "execution_count": 49,
      "metadata": {
        "colab": {
          "base_uri": "https://localhost:8080/"
        },
        "id": "ff86ac31",
        "outputId": "54831d8b-64c4-43de-db21-19c87274d125"
      },
      "outputs": [
        {
          "output_type": "stream",
          "name": "stdout",
          "text": [
            "Crop DF columns: ['State', 'District', 'Year', 'Season', 'Crop', 'Area', 'Production']\n",
            "Climate DF columns: ['State', 'District', 'Temperature', 'Condition', 'Humidity ', 'Wind Speed', 'Year']\n"
          ]
        }
      ],
      "source": [
        "print(\"Crop DF columns:\", crop_df.columns.tolist())\n",
        "print(\"Climate DF columns:\", climate_df.columns.tolist())"
      ]
    },
    {
      "cell_type": "code",
      "execution_count": 50,
      "metadata": {
        "colab": {
          "base_uri": "https://localhost:8080/"
        },
        "id": "OkOHSYtZsnQ7",
        "outputId": "f5177fa5-5600-44a5-a450-b78d6bf8e55c"
      },
      "outputs": [
        {
          "output_type": "stream",
          "name": "stdout",
          "text": [
            "                         State District_x  Year       Season  \\\n",
            "0  andaman and nicobar islands          0  1999            0   \n",
            "1  andaman and nicobar islands          0  1999            0   \n",
            "2  andaman and nicobar islands          0  1999            0   \n",
            "3  andaman and nicobar islands   NICOBARS  2000  Kharif        \n",
            "4  andaman and nicobar islands   NICOBARS  2000  Kharif        \n",
            "\n",
            "                  Crop    Area  Production                District_y  \\\n",
            "0                    0     0.0         0.0                   Nicobar   \n",
            "1                    0     0.0         0.0  North and Middle Andaman   \n",
            "2                    0     0.0         0.0             South Andaman   \n",
            "3             Arecanut  1254.0      2000.0                         0   \n",
            "4  Other Kharif pulses     2.0         1.0                         0   \n",
            "\n",
            "   Temperature          Condition  Humidity   Wind Speed  \n",
            "0         27.2  Light rain shower       80.0        27.7  \n",
            "1         27.2  Light rain shower       80.0        27.7  \n",
            "2         27.2  Light rain shower       80.0        27.7  \n",
            "3          0.0                  0        0.0         0.0  \n",
            "4          0.0                  0        0.0         0.0  \n"
          ]
        }
      ],
      "source": [
        "print(integrated_df.head())"
      ]
    },
    {
      "cell_type": "markdown",
      "metadata": {
        "id": "E9_MZdiepnEb"
      },
      "source": [
        "# Step 3: Q&A System\n",
        "# Simple NLP for entity extraction (using Hugging Face)"
      ]
    },
    {
      "cell_type": "code",
      "execution_count": 51,
      "metadata": {
        "colab": {
          "base_uri": "https://localhost:8080/"
        },
        "id": "6H3VV13GpqQK",
        "outputId": "575b66f3-8e9e-4005-b79f-ade91437a66b"
      },
      "outputs": [
        {
          "output_type": "stream",
          "name": "stderr",
          "text": [
            "Some weights of the model checkpoint at dbmdz/bert-large-cased-finetuned-conll03-english were not used when initializing BertForTokenClassification: ['bert.pooler.dense.bias', 'bert.pooler.dense.weight']\n",
            "- This IS expected if you are initializing BertForTokenClassification from the checkpoint of a model trained on another task or with another architecture (e.g. initializing a BertForSequenceClassification model from a BertForPreTraining model).\n",
            "- This IS NOT expected if you are initializing BertForTokenClassification from the checkpoint of a model that you expect to be exactly identical (initializing a BertForSequenceClassification model from a BertForSequenceClassification model).\n",
            "Device set to use cpu\n"
          ]
        }
      ],
      "source": [
        "nlp = pipeline(\"ner\", model=\"dbmdz/bert-large-cased-finetuned-conll03-english\")\n"
      ]
    },
    {
      "cell_type": "code",
      "execution_count": 52,
      "metadata": {
        "id": "EjRNHZyxp2K_"
      },
      "outputs": [],
      "source": [
        "def parse_question(question):\n",
        "    # Full list of Indian states/UTs (lowercased)\n",
        "    states = [\n",
        "        'andhra pradesh', 'arunachal pradesh', 'assam', 'bihar', 'chhattisgarh', 'goa', 'gujarat', 'haryana',\n",
        "        'himachal pradesh', 'jharkhand', 'karnataka', 'kerala', 'madhya pradesh', 'maharashtra', 'manipur',\n",
        "        'meghalaya', 'mizoram', 'nagaland', 'odisha', 'punjab', 'rajasthan', 'sikkim', 'tamil nadu', 'telangana',\n",
        "        'tripura', 'uttar pradesh', 'uttarakhand', 'west bengal', 'delhi', 'jammu and kashmir', 'ladakh',\n",
        "        'puducherry', 'chandigarh', 'dadra and nagar haveli and daman and diu', 'lakshadweep', 'andaman and nicobar islands'\n",
        "    ]\n",
        "    question_lower = question.lower().replace('state of ', '').replace('state ', '')  # Handle variations like \"State of Karnataka\"\n",
        "    found_states = [s for s in states if s in question_lower]\n",
        "    print(f\"Debug: Question lower: {question_lower}\")  # Temporary debug\n",
        "    print(f\"Debug: Found states: {found_states}\")  # Temporary debug\n",
        "    state1 = found_states[0] if len(found_states) > 0 else None\n",
        "    state2 = found_states[1] if len(found_states) > 1 else None\n",
        "    crop = None  # Extend for crops if needed\n",
        "    region = None\n",
        "    return {'state1': state1, 'state2': state2, 'crop': crop, 'region': region}\n"
      ]
    },
    {
      "cell_type": "code",
      "execution_count": 53,
      "metadata": {
        "id": "ERZ9vB9Bp7Uo"
      },
      "outputs": [],
      "source": [
        "def answer_question(question):\n",
        "    try:\n",
        "        parsed = parse_question(question)\n",
        "        state1 = parsed.get('state1', '').lower().strip() if parsed.get('state1') else None\n",
        "        state2 = parsed.get('state2', '').lower().strip() if parsed.get('state2') else None\n",
        "\n",
        "        if not state1 or not state2:\n",
        "            return \"Error: Could not parse states from question. Try: 'Compare production in Karnataka and Maharashtra'.\"\n",
        "\n",
        "        n = 5  # Last 5 years\n",
        "        max_year = int(integrated_df['Year'].max())\n",
        "        years = list(range(max_year - n + 1, max_year + 1))\n",
        "\n",
        "        data1 = integrated_df[(integrated_df['State'] == state1) & (integrated_df['Year'].isin(years))]\n",
        "        data2 = integrated_df[(integrated_df['State'] == state2) & (integrated_df['Year'].isin(years))]\n",
        "\n",
        "        if data1.empty or data2.empty:\n",
        "            return f\"Error: No data found for {state1.title()} or {state2.title()} in the last {n} years.\"\n",
        "\n",
        "        question_lower = question.lower()\n",
        "\n",
        "        # Check if the question is about rainfall\n",
        "        if \"rainfall\" in question_lower:\n",
        "            if 'Rainfall_mm' in data1.columns and 'Rainfall_mm' in data2.columns:\n",
        "                avg_rainfall1 = data1['Rainfall_mm'].mean()\n",
        "                avg_rainfall2 = data2['Rainfall_mm'].mean()\n",
        "                answer = f\"Average rainfall in {state1.title()} (last {n} years): {avg_rainfall1:.2f} mm. Average rainfall in {state2.title()} (last {n} years): {avg_rainfall2:.2f} mm. Sources: Climate data from relevant sources.\"\n",
        "            else:\n",
        "                answer = \"Rainfall data not available in the expected format.\"\n",
        "        # Check if the question is about temperature\n",
        "        elif \"temperature\" in question_lower:\n",
        "            if 'Temperature' in data1.columns and 'Temperature' in data2.columns:\n",
        "                avg_temp1 = data1['Temperature'].mean()\n",
        "                avg_temp2 = data2['Temperature'].mean()\n",
        "                answer = f\"Average temperature in {state1.title()} (last {n} years): {avg_temp1:.2f}°C. Average temperature in {state2.title()} (last {n} years): {avg_temp2:.2f}°C. Sources: Climate data from relevant sources.\"\n",
        "            else:\n",
        "                answer = \"Temperature data not available in the expected format.\"\n",
        "        # Check if the question is about humidity\n",
        "        elif \"humidity\" in question_lower:\n",
        "            if 'Humidity ' in data1.columns and 'Humidity ' in data2.columns: # Note the space after Humidity\n",
        "                avg_humidity1 = data1['Humidity '].mean()\n",
        "                avg_humidity2 = data2['Humidity '].mean()\n",
        "                answer = f\"Average humidity in {state1.title()} (last {n} years): {avg_humidity1:.2f}%. Average humidity in {state2.title()} (last {n} years): {avg_humidity2:.2f}%. Sources: Climate data from relevant sources.\"\n",
        "            else:\n",
        "                 answer = \"Humidity data not available in the expected format.\"\n",
        "        # Check if the question is about production\n",
        "        elif \"production\" in question_lower or \"crop\" in question_lower:\n",
        "            # For production: Compare top crops by volume and average production\n",
        "            top_crop1 = data1.groupby('Crop')['Production'].sum().idxmax() if not data1['Crop'].empty else \"No crop data\"\n",
        "            top_prod1 = data1.groupby('Crop')['Production'].sum().max() if not data1['Crop'].empty else 0\n",
        "            top_crop2 = data2.groupby('Crop')['Production'].sum().idxmax() if not data2['Crop'].empty else \"No crop data\"\n",
        "            top_prod2 = data2.groupby('Crop')['Production'].sum().max() if not data2['Crop'].empty else 0\n",
        "            answer = f\"Top produced crop in {state1.title()}: {top_crop1} (Volume: {top_prod1:.2f}). In {state2.title()}: {top_crop2} (Volume: {top_prod2:.2f}). Sources: Crop data from Ministry of Agriculture & Farmers Welfare.\"\n",
        "        else:\n",
        "            answer = \"I can provide information about crop production, rainfall, temperature, or humidity. Please rephrase your question.\"\n",
        "\n",
        "        return answer\n",
        "    except Exception as e:\n",
        "        return f\"Error processing question: {str(e)}. Check data or question format.\""
      ]
    },
    {
      "cell_type": "code",
      "execution_count": 54,
      "metadata": {
        "colab": {
          "base_uri": "https://localhost:8080/"
        },
        "id": "d4s231y-vLMq",
        "outputId": "20841fae-ca1b-4a14-d320-f9b1c1d03b94"
      },
      "outputs": [
        {
          "output_type": "stream",
          "name": "stdout",
          "text": [
            "Crop DF columns: ['State', 'District', 'Year', 'Season', 'Crop', 'Area', 'Production']\n",
            "Climate DF columns: ['State', 'District', 'Temperature', 'Condition', 'Humidity ', 'Wind Speed', 'Year']\n",
            "Integrated DF columns: ['State', 'District_x', 'Year', 'Season', 'Crop', 'Area', 'Production', 'District_y', 'Temperature', 'Condition', 'Humidity ', 'Wind Speed']\n",
            "                         State District_x  Year       Season  \\\n",
            "0  andaman and nicobar islands          0  1999            0   \n",
            "1  andaman and nicobar islands          0  1999            0   \n",
            "2  andaman and nicobar islands          0  1999            0   \n",
            "3  andaman and nicobar islands   NICOBARS  2000  Kharif        \n",
            "4  andaman and nicobar islands   NICOBARS  2000  Kharif        \n",
            "\n",
            "                  Crop    Area  Production                District_y  \\\n",
            "0                    0     0.0         0.0                   Nicobar   \n",
            "1                    0     0.0         0.0  North and Middle Andaman   \n",
            "2                    0     0.0         0.0             South Andaman   \n",
            "3             Arecanut  1254.0      2000.0                         0   \n",
            "4  Other Kharif pulses     2.0         1.0                         0   \n",
            "\n",
            "   Temperature          Condition  Humidity   Wind Speed  \n",
            "0         27.2  Light rain shower       80.0        27.7  \n",
            "1         27.2  Light rain shower       80.0        27.7  \n",
            "2         27.2  Light rain shower       80.0        27.7  \n",
            "3          0.0                  0        0.0         0.0  \n",
            "4          0.0                  0        0.0         0.0  \n"
          ]
        }
      ],
      "source": [
        "print(\"Crop DF columns:\", crop_df.columns.tolist())\n",
        "print(\"Climate DF columns:\", climate_df.columns.tolist())\n",
        "print(\"Integrated DF columns:\", integrated_df.columns.tolist())\n",
        "print(integrated_df.head())"
      ]
    },
    {
      "cell_type": "markdown",
      "metadata": {
        "id": "W8-JmuextDDL"
      },
      "source": [
        "Test a function  to check if it outputs a response.\n",
        "\n",
        "---\n",
        "\n"
      ]
    },
    {
      "cell_type": "markdown",
      "metadata": {
        "id": "fJBUFjX8zGjS"
      },
      "source": [
        "Humidity"
      ]
    },
    {
      "cell_type": "code",
      "execution_count": 55,
      "metadata": {
        "colab": {
          "base_uri": "https://localhost:8080/"
        },
        "id": "d39cdd83",
        "outputId": "ef465577-3586-492e-f6a2-259d0deed94f"
      },
      "outputs": [
        {
          "output_type": "stream",
          "name": "stdout",
          "text": [
            "Debug: Question lower: compare humidity in andhra pradesh and assam\n",
            "Debug: Found states: ['andhra pradesh', 'assam']\n",
            "Average humidity in Andhra Pradesh (last 5 years): 50.61%. Average humidity in Assam (last 5 years): 39.14%. Sources: Climate data from relevant sources.\n"
          ]
        }
      ],
      "source": [
        "print(answer_question(\"Compare humidity in Andhra Pradesh and Assam\"))"
      ]
    },
    {
      "cell_type": "code",
      "execution_count": 56,
      "metadata": {
        "colab": {
          "base_uri": "https://localhost:8080/"
        },
        "id": "Dx3oytq9tDvz",
        "outputId": "f383f535-9af3-4d4a-c358-a4998a9d1746"
      },
      "outputs": [
        {
          "output_type": "stream",
          "name": "stdout",
          "text": [
            "Debug: Question lower: compare humidity in karnataka and maharashtra\n",
            "Debug: Found states: ['karnataka', 'maharashtra']\n",
            "Average humidity in Karnataka (last 5 years): 41.25%. Average humidity in Maharashtra (last 5 years): 17.75%. Sources: Climate data from relevant sources.\n"
          ]
        }
      ],
      "source": [
        "print(answer_question(\"Compare Humidity in Karnataka and Maharashtra\"))"
      ]
    },
    {
      "cell_type": "markdown",
      "metadata": {
        "id": "MwFRj7c7zKPy"
      },
      "source": [
        "production"
      ]
    },
    {
      "cell_type": "code",
      "execution_count": 57,
      "metadata": {
        "colab": {
          "base_uri": "https://localhost:8080/"
        },
        "id": "b33dc139",
        "outputId": "352f9981-3cc6-4923-beed-95fd625db2c6"
      },
      "outputs": [
        {
          "output_type": "stream",
          "name": "stdout",
          "text": [
            "Debug: Question lower: compare production in karnataka and maharashtra\n",
            "Debug: Found states: ['karnataka', 'maharashtra']\n",
            "Top produced crop in Karnataka: Sugarcane (Volume: 551404144.00). In Maharashtra: Sugarcane (Volume: 706435600.00). Sources: Crop data from Ministry of Agriculture & Farmers Welfare.\n"
          ]
        }
      ],
      "source": [
        "print(answer_question(\"Compare production in Karnataka and Maharashtra\"))"
      ]
    },
    {
      "cell_type": "code",
      "execution_count": 58,
      "metadata": {
        "colab": {
          "base_uri": "https://localhost:8080/"
        },
        "id": "lVrQ2gD2z4fy",
        "outputId": "0f5c42fe-f538-46d1-fb76-bc4f45ad3a40"
      },
      "outputs": [
        {
          "output_type": "stream",
          "name": "stdout",
          "text": [
            "Debug: Question lower: compare production in andhra pradesh and assam\n",
            "Debug: Found states: ['andhra pradesh', 'assam']\n",
            "Top produced crop in Andhra Pradesh: Coconut  (Volume: 21283845445.00). In Assam: Rice (Volume: 66992165.00). Sources: Crop data from Ministry of Agriculture & Farmers Welfare.\n"
          ]
        }
      ],
      "source": [
        "print(answer_question(\"Compare production in Andhra Pradesh and Assam\"))"
      ]
    },
    {
      "cell_type": "markdown",
      "metadata": {
        "id": "yHevInqAzMrt"
      },
      "source": [
        "Rainfall"
      ]
    },
    {
      "cell_type": "code",
      "execution_count": 59,
      "metadata": {
        "colab": {
          "base_uri": "https://localhost:8080/"
        },
        "id": "49cf9296",
        "outputId": "e3bb9a06-ec0c-4861-d6c4-5a01034a11de"
      },
      "outputs": [
        {
          "output_type": "stream",
          "name": "stdout",
          "text": [
            "Debug: Question lower: compare rainfall in karnataka and maharashtra\n",
            "Debug: Found states: ['karnataka', 'maharashtra']\n",
            "Rainfall data not available in the expected format.\n"
          ]
        }
      ],
      "source": [
        "print(answer_question(\"Compare rainfall in Karnataka and Maharashtra\"))"
      ]
    },
    {
      "cell_type": "markdown",
      "metadata": {
        "id": "OQherAYQzR2k"
      },
      "source": [
        "Temperature"
      ]
    },
    {
      "cell_type": "code",
      "execution_count": 60,
      "metadata": {
        "colab": {
          "base_uri": "https://localhost:8080/"
        },
        "id": "c4532721",
        "outputId": "f8532667-c6c1-467f-cea0-23f06ebc9762"
      },
      "outputs": [
        {
          "output_type": "stream",
          "name": "stdout",
          "text": [
            "Debug: Question lower: compare temperature in karnataka and maharashtra\n",
            "Debug: Found states: ['karnataka', 'maharashtra']\n",
            "Average temperature in Karnataka (last 5 years): 18.38°C. Average temperature in Maharashtra (last 5 years): 12.90°C. Sources: Climate data from relevant sources.\n"
          ]
        }
      ],
      "source": [
        "print(answer_question(\"Compare temperature in Karnataka and Maharashtra\"))"
      ]
    },
    {
      "cell_type": "code",
      "execution_count": 61,
      "metadata": {
        "colab": {
          "base_uri": "https://localhost:8080/"
        },
        "id": "l8xaQZEi0Bpv",
        "outputId": "c809937f-5763-4f6e-ac09-83d43fce7420"
      },
      "outputs": [
        {
          "output_type": "stream",
          "name": "stdout",
          "text": [
            "Debug: Question lower: compare temperature in andhra pradesh and assam\n",
            "Debug: Found states: ['andhra pradesh', 'assam']\n",
            "Average temperature in Andhra Pradesh (last 5 years): 18.95°C. Average temperature in Assam (last 5 years): 14.80°C. Sources: Climate data from relevant sources.\n"
          ]
        }
      ],
      "source": [
        "print(answer_question(\"Compare temperature in Andhra Pradesh and Assam\"))"
      ]
    },
    {
      "cell_type": "markdown",
      "metadata": {
        "id": "OSpvF5b8p_Gc"
      },
      "source": [
        "# Step 4: Front-End with Gradio\n",
        "\n"
      ]
    },
    {
      "cell_type": "code",
      "execution_count": 62,
      "metadata": {
        "colab": {
          "base_uri": "https://localhost:8080/"
        },
        "id": "BXxPFSgS-4nF",
        "outputId": "8a893abd-e976-4639-fdec-4bad911041f3"
      },
      "outputs": [
        {
          "output_type": "stream",
          "name": "stdout",
          "text": [
            "Requirement already satisfied: gradio in /usr/local/lib/python3.12/dist-packages (5.49.1)\n",
            "Requirement already satisfied: aiofiles<25.0,>=22.0 in /usr/local/lib/python3.12/dist-packages (from gradio) (24.1.0)\n",
            "Requirement already satisfied: anyio<5.0,>=3.0 in /usr/local/lib/python3.12/dist-packages (from gradio) (4.11.0)\n",
            "Requirement already satisfied: brotli>=1.1.0 in /usr/local/lib/python3.12/dist-packages (from gradio) (1.1.0)\n",
            "Requirement already satisfied: fastapi<1.0,>=0.115.2 in /usr/local/lib/python3.12/dist-packages (from gradio) (0.120.1)\n",
            "Requirement already satisfied: ffmpy in /usr/local/lib/python3.12/dist-packages (from gradio) (0.6.4)\n",
            "Requirement already satisfied: gradio-client==1.13.3 in /usr/local/lib/python3.12/dist-packages (from gradio) (1.13.3)\n",
            "Requirement already satisfied: groovy~=0.1 in /usr/local/lib/python3.12/dist-packages (from gradio) (0.1.2)\n",
            "Requirement already satisfied: httpx<1.0,>=0.24.1 in /usr/local/lib/python3.12/dist-packages (from gradio) (0.28.1)\n",
            "Requirement already satisfied: huggingface-hub<2.0,>=0.33.5 in /usr/local/lib/python3.12/dist-packages (from gradio) (0.36.0)\n",
            "Requirement already satisfied: jinja2<4.0 in /usr/local/lib/python3.12/dist-packages (from gradio) (3.1.6)\n",
            "Requirement already satisfied: markupsafe<4.0,>=2.0 in /usr/local/lib/python3.12/dist-packages (from gradio) (3.0.3)\n",
            "Requirement already satisfied: numpy<3.0,>=1.0 in /usr/local/lib/python3.12/dist-packages (from gradio) (2.0.2)\n",
            "Requirement already satisfied: orjson~=3.0 in /usr/local/lib/python3.12/dist-packages (from gradio) (3.11.4)\n",
            "Requirement already satisfied: packaging in /usr/local/lib/python3.12/dist-packages (from gradio) (25.0)\n",
            "Requirement already satisfied: pandas<3.0,>=1.0 in /usr/local/lib/python3.12/dist-packages (from gradio) (2.2.2)\n",
            "Requirement already satisfied: pillow<12.0,>=8.0 in /usr/local/lib/python3.12/dist-packages (from gradio) (11.3.0)\n",
            "Requirement already satisfied: pydantic<2.12,>=2.0 in /usr/local/lib/python3.12/dist-packages (from gradio) (2.11.10)\n",
            "Requirement already satisfied: pydub in /usr/local/lib/python3.12/dist-packages (from gradio) (0.25.1)\n",
            "Requirement already satisfied: python-multipart>=0.0.18 in /usr/local/lib/python3.12/dist-packages (from gradio) (0.0.20)\n",
            "Requirement already satisfied: pyyaml<7.0,>=5.0 in /usr/local/lib/python3.12/dist-packages (from gradio) (6.0.3)\n",
            "Requirement already satisfied: ruff>=0.9.3 in /usr/local/lib/python3.12/dist-packages (from gradio) (0.14.2)\n",
            "Requirement already satisfied: safehttpx<0.2.0,>=0.1.6 in /usr/local/lib/python3.12/dist-packages (from gradio) (0.1.7)\n",
            "Requirement already satisfied: semantic-version~=2.0 in /usr/local/lib/python3.12/dist-packages (from gradio) (2.10.0)\n",
            "Requirement already satisfied: starlette<1.0,>=0.40.0 in /usr/local/lib/python3.12/dist-packages (from gradio) (0.49.1)\n",
            "Requirement already satisfied: tomlkit<0.14.0,>=0.12.0 in /usr/local/lib/python3.12/dist-packages (from gradio) (0.13.3)\n",
            "Requirement already satisfied: typer<1.0,>=0.12 in /usr/local/lib/python3.12/dist-packages (from gradio) (0.20.0)\n",
            "Requirement already satisfied: typing-extensions~=4.0 in /usr/local/lib/python3.12/dist-packages (from gradio) (4.15.0)\n",
            "Requirement already satisfied: uvicorn>=0.14.0 in /usr/local/lib/python3.12/dist-packages (from gradio) (0.38.0)\n",
            "Requirement already satisfied: fsspec in /usr/local/lib/python3.12/dist-packages (from gradio-client==1.13.3->gradio) (2025.3.0)\n",
            "Requirement already satisfied: websockets<16.0,>=13.0 in /usr/local/lib/python3.12/dist-packages (from gradio-client==1.13.3->gradio) (15.0.1)\n",
            "Requirement already satisfied: idna>=2.8 in /usr/local/lib/python3.12/dist-packages (from anyio<5.0,>=3.0->gradio) (3.11)\n",
            "Requirement already satisfied: sniffio>=1.1 in /usr/local/lib/python3.12/dist-packages (from anyio<5.0,>=3.0->gradio) (1.3.1)\n",
            "Requirement already satisfied: annotated-doc>=0.0.2 in /usr/local/lib/python3.12/dist-packages (from fastapi<1.0,>=0.115.2->gradio) (0.0.3)\n",
            "Requirement already satisfied: certifi in /usr/local/lib/python3.12/dist-packages (from httpx<1.0,>=0.24.1->gradio) (2025.10.5)\n",
            "Requirement already satisfied: httpcore==1.* in /usr/local/lib/python3.12/dist-packages (from httpx<1.0,>=0.24.1->gradio) (1.0.9)\n",
            "Requirement already satisfied: h11>=0.16 in /usr/local/lib/python3.12/dist-packages (from httpcore==1.*->httpx<1.0,>=0.24.1->gradio) (0.16.0)\n",
            "Requirement already satisfied: filelock in /usr/local/lib/python3.12/dist-packages (from huggingface-hub<2.0,>=0.33.5->gradio) (3.20.0)\n",
            "Requirement already satisfied: requests in /usr/local/lib/python3.12/dist-packages (from huggingface-hub<2.0,>=0.33.5->gradio) (2.32.4)\n",
            "Requirement already satisfied: tqdm>=4.42.1 in /usr/local/lib/python3.12/dist-packages (from huggingface-hub<2.0,>=0.33.5->gradio) (4.67.1)\n",
            "Requirement already satisfied: hf-xet<2.0.0,>=1.1.3 in /usr/local/lib/python3.12/dist-packages (from huggingface-hub<2.0,>=0.33.5->gradio) (1.2.0)\n",
            "Requirement already satisfied: python-dateutil>=2.8.2 in /usr/local/lib/python3.12/dist-packages (from pandas<3.0,>=1.0->gradio) (2.9.0.post0)\n",
            "Requirement already satisfied: pytz>=2020.1 in /usr/local/lib/python3.12/dist-packages (from pandas<3.0,>=1.0->gradio) (2025.2)\n",
            "Requirement already satisfied: tzdata>=2022.7 in /usr/local/lib/python3.12/dist-packages (from pandas<3.0,>=1.0->gradio) (2025.2)\n",
            "Requirement already satisfied: annotated-types>=0.6.0 in /usr/local/lib/python3.12/dist-packages (from pydantic<2.12,>=2.0->gradio) (0.7.0)\n",
            "Requirement already satisfied: pydantic-core==2.33.2 in /usr/local/lib/python3.12/dist-packages (from pydantic<2.12,>=2.0->gradio) (2.33.2)\n",
            "Requirement already satisfied: typing-inspection>=0.4.0 in /usr/local/lib/python3.12/dist-packages (from pydantic<2.12,>=2.0->gradio) (0.4.2)\n",
            "Requirement already satisfied: click>=8.0.0 in /usr/local/lib/python3.12/dist-packages (from typer<1.0,>=0.12->gradio) (8.3.0)\n",
            "Requirement already satisfied: shellingham>=1.3.0 in /usr/local/lib/python3.12/dist-packages (from typer<1.0,>=0.12->gradio) (1.5.4)\n",
            "Requirement already satisfied: rich>=10.11.0 in /usr/local/lib/python3.12/dist-packages (from typer<1.0,>=0.12->gradio) (13.9.4)\n",
            "Requirement already satisfied: six>=1.5 in /usr/local/lib/python3.12/dist-packages (from python-dateutil>=2.8.2->pandas<3.0,>=1.0->gradio) (1.17.0)\n",
            "Requirement already satisfied: markdown-it-py>=2.2.0 in /usr/local/lib/python3.12/dist-packages (from rich>=10.11.0->typer<1.0,>=0.12->gradio) (4.0.0)\n",
            "Requirement already satisfied: pygments<3.0.0,>=2.13.0 in /usr/local/lib/python3.12/dist-packages (from rich>=10.11.0->typer<1.0,>=0.12->gradio) (2.19.2)\n",
            "Requirement already satisfied: charset_normalizer<4,>=2 in /usr/local/lib/python3.12/dist-packages (from requests->huggingface-hub<2.0,>=0.33.5->gradio) (3.4.4)\n",
            "Requirement already satisfied: urllib3<3,>=1.21.1 in /usr/local/lib/python3.12/dist-packages (from requests->huggingface-hub<2.0,>=0.33.5->gradio) (2.5.0)\n",
            "Requirement already satisfied: mdurl~=0.1 in /usr/local/lib/python3.12/dist-packages (from markdown-it-py>=2.2.0->rich>=10.11.0->typer<1.0,>=0.12->gradio) (0.1.2)\n"
          ]
        }
      ],
      "source": [
        "!pip install gradio"
      ]
    },
    {
      "cell_type": "markdown",
      "metadata": {
        "id": "3mHCJZPpABJu"
      },
      "source": [
        " OUTPUT :                                                                     \n",
        " In the web interface: Enter a sample question (e.g., \"Compare average Temperature in Karnataka and Maharashtra for the last 5 years\"). Click \"Get Answer\". Verify the response appears with data and citations (e.g., \"Average temperature in Karnataka (last 5 years): 18.38°C. Average temperature in Maharashtra (last 5 years): 12.90°C. Sources: Climate data from relevant sources.\"). Test 2-3 sample questions to ensure end-to-end functionality."
      ]
    },
    {
      "cell_type": "code",
      "execution_count": 63,
      "metadata": {
        "colab": {
          "base_uri": "https://localhost:8080/",
          "height": 611
        },
        "id": "_-_ZIe5F_GIj",
        "outputId": "2acf2c2a-a48e-480a-a5c1-0c0f8acfd15a"
      },
      "outputs": [
        {
          "output_type": "stream",
          "name": "stdout",
          "text": [
            "Colab notebook detected. To show errors in colab notebook, set debug=True in launch()\n",
            "* Running on public URL: https://08fa0b9f9899913268.gradio.live\n",
            "\n",
            "This share link expires in 1 week. For free permanent hosting and GPU upgrades, run `gradio deploy` from the terminal in the working directory to deploy to Hugging Face Spaces (https://huggingface.co/spaces)\n"
          ]
        },
        {
          "output_type": "display_data",
          "data": {
            "text/plain": [
              "<IPython.core.display.HTML object>"
            ],
            "text/html": [
              "<div><iframe src=\"https://08fa0b9f9899913268.gradio.live\" width=\"100%\" height=\"500\" allow=\"autoplay; camera; microphone; clipboard-read; clipboard-write;\" frameborder=\"0\" allowfullscreen></iframe></div>"
            ]
          },
          "metadata": {}
        },
        {
          "output_type": "execute_result",
          "data": {
            "text/plain": []
          },
          "metadata": {},
          "execution_count": 63
        }
      ],
      "source": [
        "import gradio as gr\n",
        "import pandas as pd\n",
        "from transformers import pipeline\n",
        "\n",
        "# Copy your data loading and functions here (e.g., integrated_df, parse_question, answer_question)\n",
        "\n",
        "def gradio_interface(question):\n",
        "    return answer_question(question)\n",
        "\n",
        "iface = gr.Interface(fn=gradio_interface, inputs=\"text\", outputs=\"text\", title=\"Project Samarth: Agricultural Q&A System\")\n",
        "iface.launch(share=True)  # Generates a public link automatically"
      ]
    },
    {
      "cell_type": "markdown",
      "source": [
        "Deployment"
      ],
      "metadata": {
        "id": "8cYZ9xzyfjUk"
      }
    },
    {
      "cell_type": "code",
      "source": [
        "!pip install huggingface_hub gradio\n",
        "from huggingface_hub import login\n",
        "login()"
      ],
      "metadata": {
        "colab": {
          "base_uri": "https://localhost:8080/",
          "height": 1000,
          "referenced_widgets": [
            "239abd5e6ac346cfb2002bf29ae884c6",
            "eaf78245412342a6aa2ceacbd33d081d",
            "2db1575e3da744c69b275fddf63ea1ea",
            "745b80842d5e441fb8349d9514377699",
            "338968a6184d4a2599463ab6661f0686",
            "70fa0227d922403a951b61c6a8755126",
            "77b54d8dad2e4674b1c3b1d537f5abc6",
            "ed3553560a2a4b1299eea07e88d4093f",
            "e017219813a84e649b6e35d161356f75",
            "9ee2cd53b6d2486eba573692add378bd",
            "e72b5639be994ff48519e1f1f5bec538",
            "7d4b845580e440698618dd29c59534d9",
            "e56d6de6c88948178c5d8c72fe1678e4",
            "f5de517ed7a1420d9babaf8dfce12862",
            "3df7113bb32e46e28d6637058c82ae9d",
            "cc0f129889fd4b81b45e60ee8803bd8c",
            "53b0361bd66243f2ab7bfc1612ec3554"
          ]
        },
        "id": "WV3uxCgLV2gD",
        "outputId": "543d0b31-9813-42f1-b9b7-1532a4d6284e"
      },
      "execution_count": 64,
      "outputs": [
        {
          "output_type": "stream",
          "name": "stdout",
          "text": [
            "Requirement already satisfied: huggingface_hub in /usr/local/lib/python3.12/dist-packages (0.36.0)\n",
            "Requirement already satisfied: gradio in /usr/local/lib/python3.12/dist-packages (5.49.1)\n",
            "Requirement already satisfied: filelock in /usr/local/lib/python3.12/dist-packages (from huggingface_hub) (3.20.0)\n",
            "Requirement already satisfied: fsspec>=2023.5.0 in /usr/local/lib/python3.12/dist-packages (from huggingface_hub) (2025.3.0)\n",
            "Requirement already satisfied: packaging>=20.9 in /usr/local/lib/python3.12/dist-packages (from huggingface_hub) (25.0)\n",
            "Requirement already satisfied: pyyaml>=5.1 in /usr/local/lib/python3.12/dist-packages (from huggingface_hub) (6.0.3)\n",
            "Requirement already satisfied: requests in /usr/local/lib/python3.12/dist-packages (from huggingface_hub) (2.32.4)\n",
            "Requirement already satisfied: tqdm>=4.42.1 in /usr/local/lib/python3.12/dist-packages (from huggingface_hub) (4.67.1)\n",
            "Requirement already satisfied: typing-extensions>=3.7.4.3 in /usr/local/lib/python3.12/dist-packages (from huggingface_hub) (4.15.0)\n",
            "Requirement already satisfied: hf-xet<2.0.0,>=1.1.3 in /usr/local/lib/python3.12/dist-packages (from huggingface_hub) (1.2.0)\n",
            "Requirement already satisfied: aiofiles<25.0,>=22.0 in /usr/local/lib/python3.12/dist-packages (from gradio) (24.1.0)\n",
            "Requirement already satisfied: anyio<5.0,>=3.0 in /usr/local/lib/python3.12/dist-packages (from gradio) (4.11.0)\n",
            "Requirement already satisfied: brotli>=1.1.0 in /usr/local/lib/python3.12/dist-packages (from gradio) (1.1.0)\n",
            "Requirement already satisfied: fastapi<1.0,>=0.115.2 in /usr/local/lib/python3.12/dist-packages (from gradio) (0.120.1)\n",
            "Requirement already satisfied: ffmpy in /usr/local/lib/python3.12/dist-packages (from gradio) (0.6.4)\n",
            "Requirement already satisfied: gradio-client==1.13.3 in /usr/local/lib/python3.12/dist-packages (from gradio) (1.13.3)\n",
            "Requirement already satisfied: groovy~=0.1 in /usr/local/lib/python3.12/dist-packages (from gradio) (0.1.2)\n",
            "Requirement already satisfied: httpx<1.0,>=0.24.1 in /usr/local/lib/python3.12/dist-packages (from gradio) (0.28.1)\n",
            "Requirement already satisfied: jinja2<4.0 in /usr/local/lib/python3.12/dist-packages (from gradio) (3.1.6)\n",
            "Requirement already satisfied: markupsafe<4.0,>=2.0 in /usr/local/lib/python3.12/dist-packages (from gradio) (3.0.3)\n",
            "Requirement already satisfied: numpy<3.0,>=1.0 in /usr/local/lib/python3.12/dist-packages (from gradio) (2.0.2)\n",
            "Requirement already satisfied: orjson~=3.0 in /usr/local/lib/python3.12/dist-packages (from gradio) (3.11.4)\n",
            "Requirement already satisfied: pandas<3.0,>=1.0 in /usr/local/lib/python3.12/dist-packages (from gradio) (2.2.2)\n",
            "Requirement already satisfied: pillow<12.0,>=8.0 in /usr/local/lib/python3.12/dist-packages (from gradio) (11.3.0)\n",
            "Requirement already satisfied: pydantic<2.12,>=2.0 in /usr/local/lib/python3.12/dist-packages (from gradio) (2.11.10)\n",
            "Requirement already satisfied: pydub in /usr/local/lib/python3.12/dist-packages (from gradio) (0.25.1)\n",
            "Requirement already satisfied: python-multipart>=0.0.18 in /usr/local/lib/python3.12/dist-packages (from gradio) (0.0.20)\n",
            "Requirement already satisfied: ruff>=0.9.3 in /usr/local/lib/python3.12/dist-packages (from gradio) (0.14.2)\n",
            "Requirement already satisfied: safehttpx<0.2.0,>=0.1.6 in /usr/local/lib/python3.12/dist-packages (from gradio) (0.1.7)\n",
            "Requirement already satisfied: semantic-version~=2.0 in /usr/local/lib/python3.12/dist-packages (from gradio) (2.10.0)\n",
            "Requirement already satisfied: starlette<1.0,>=0.40.0 in /usr/local/lib/python3.12/dist-packages (from gradio) (0.49.1)\n",
            "Requirement already satisfied: tomlkit<0.14.0,>=0.12.0 in /usr/local/lib/python3.12/dist-packages (from gradio) (0.13.3)\n",
            "Requirement already satisfied: typer<1.0,>=0.12 in /usr/local/lib/python3.12/dist-packages (from gradio) (0.20.0)\n",
            "Requirement already satisfied: uvicorn>=0.14.0 in /usr/local/lib/python3.12/dist-packages (from gradio) (0.38.0)\n",
            "Requirement already satisfied: websockets<16.0,>=13.0 in /usr/local/lib/python3.12/dist-packages (from gradio-client==1.13.3->gradio) (15.0.1)\n",
            "Requirement already satisfied: idna>=2.8 in /usr/local/lib/python3.12/dist-packages (from anyio<5.0,>=3.0->gradio) (3.11)\n",
            "Requirement already satisfied: sniffio>=1.1 in /usr/local/lib/python3.12/dist-packages (from anyio<5.0,>=3.0->gradio) (1.3.1)\n",
            "Requirement already satisfied: annotated-doc>=0.0.2 in /usr/local/lib/python3.12/dist-packages (from fastapi<1.0,>=0.115.2->gradio) (0.0.3)\n",
            "Requirement already satisfied: certifi in /usr/local/lib/python3.12/dist-packages (from httpx<1.0,>=0.24.1->gradio) (2025.10.5)\n",
            "Requirement already satisfied: httpcore==1.* in /usr/local/lib/python3.12/dist-packages (from httpx<1.0,>=0.24.1->gradio) (1.0.9)\n",
            "Requirement already satisfied: h11>=0.16 in /usr/local/lib/python3.12/dist-packages (from httpcore==1.*->httpx<1.0,>=0.24.1->gradio) (0.16.0)\n",
            "Requirement already satisfied: python-dateutil>=2.8.2 in /usr/local/lib/python3.12/dist-packages (from pandas<3.0,>=1.0->gradio) (2.9.0.post0)\n",
            "Requirement already satisfied: pytz>=2020.1 in /usr/local/lib/python3.12/dist-packages (from pandas<3.0,>=1.0->gradio) (2025.2)\n",
            "Requirement already satisfied: tzdata>=2022.7 in /usr/local/lib/python3.12/dist-packages (from pandas<3.0,>=1.0->gradio) (2025.2)\n",
            "Requirement already satisfied: annotated-types>=0.6.0 in /usr/local/lib/python3.12/dist-packages (from pydantic<2.12,>=2.0->gradio) (0.7.0)\n",
            "Requirement already satisfied: pydantic-core==2.33.2 in /usr/local/lib/python3.12/dist-packages (from pydantic<2.12,>=2.0->gradio) (2.33.2)\n",
            "Requirement already satisfied: typing-inspection>=0.4.0 in /usr/local/lib/python3.12/dist-packages (from pydantic<2.12,>=2.0->gradio) (0.4.2)\n",
            "Requirement already satisfied: click>=8.0.0 in /usr/local/lib/python3.12/dist-packages (from typer<1.0,>=0.12->gradio) (8.3.0)\n",
            "Requirement already satisfied: shellingham>=1.3.0 in /usr/local/lib/python3.12/dist-packages (from typer<1.0,>=0.12->gradio) (1.5.4)\n",
            "Requirement already satisfied: rich>=10.11.0 in /usr/local/lib/python3.12/dist-packages (from typer<1.0,>=0.12->gradio) (13.9.4)\n",
            "Requirement already satisfied: charset_normalizer<4,>=2 in /usr/local/lib/python3.12/dist-packages (from requests->huggingface_hub) (3.4.4)\n",
            "Requirement already satisfied: urllib3<3,>=1.21.1 in /usr/local/lib/python3.12/dist-packages (from requests->huggingface_hub) (2.5.0)\n",
            "Requirement already satisfied: six>=1.5 in /usr/local/lib/python3.12/dist-packages (from python-dateutil>=2.8.2->pandas<3.0,>=1.0->gradio) (1.17.0)\n",
            "Requirement already satisfied: markdown-it-py>=2.2.0 in /usr/local/lib/python3.12/dist-packages (from rich>=10.11.0->typer<1.0,>=0.12->gradio) (4.0.0)\n",
            "Requirement already satisfied: pygments<3.0.0,>=2.13.0 in /usr/local/lib/python3.12/dist-packages (from rich>=10.11.0->typer<1.0,>=0.12->gradio) (2.19.2)\n",
            "Requirement already satisfied: mdurl~=0.1 in /usr/local/lib/python3.12/dist-packages (from markdown-it-py>=2.2.0->rich>=10.11.0->typer<1.0,>=0.12->gradio) (0.1.2)\n"
          ]
        },
        {
          "output_type": "display_data",
          "data": {
            "text/plain": [
              "VBox(children=(HTML(value='<center> <img\\nsrc=https://huggingface.co/front/assets/huggingface_logo-noborder.sv…"
            ],
            "application/vnd.jupyter.widget-view+json": {
              "version_major": 2,
              "version_minor": 0,
              "model_id": "239abd5e6ac346cfb2002bf29ae884c6"
            }
          },
          "metadata": {}
        }
      ]
    },
    {
      "cell_type": "code",
      "source": [
        "import pandas as pd\n",
        "import transformers\n",
        "import gradio\n",
        "\n",
        "print(f\"Pandas version: {pd.__version__}\")\n",
        "print(f\"Transformers version: {transformers.__version__}\")\n",
        "print(f\"Gradio version: {gradio.__version__}\")"
      ],
      "metadata": {
        "colab": {
          "base_uri": "https://localhost:8080/"
        },
        "id": "Xmmr1l4xaX5F",
        "outputId": "1aa5ba60-fa87-4de4-c72e-d094aad834df"
      },
      "execution_count": 65,
      "outputs": [
        {
          "output_type": "stream",
          "name": "stdout",
          "text": [
            "Pandas version: 2.2.2\n",
            "Transformers version: 4.57.1\n",
            "Gradio version: 5.49.1\n"
          ]
        }
      ]
    },
    {
      "cell_type": "code",
      "source": [
        "!rm -rf project-samarth"
      ],
      "metadata": {
        "id": "Etfiqly_cH43"
      },
      "execution_count": 66,
      "outputs": []
    },
    {
      "cell_type": "code",
      "source": [
        "!pip install -q huggingface_hub gradio"
      ],
      "metadata": {
        "id": "i2tqtUhFcQ3e"
      },
      "execution_count": 67,
      "outputs": []
    },
    {
      "cell_type": "code",
      "source": [
        "from huggingface_hub import login\n",
        "login()"
      ],
      "metadata": {
        "colab": {
          "base_uri": "https://localhost:8080/",
          "height": 331,
          "referenced_widgets": [
            "32818d4ec02a4f279b5f9286249fac92",
            "137032aa188e4543b878cc089b049c28",
            "3ef7fea98f1d429e8d6f85301baa4a21",
            "c30dd561ae3849249a402fc5043144e7",
            "be987c265c5c4bb4ac91c8a6e8a088b7",
            "782ac183779e41f497436c50c86fdb0c",
            "023aae65cf664a9ea4a614f7b2b67806",
            "29876be2fa8642379b89be5ae4a86059",
            "aa09382e574945988231cbbbf4de9614",
            "c7cd217b216e4ce6b96d03dcb407b31e",
            "3a8597fb2a184be0925d959a060b1651",
            "80ed83001ee44e46b90a331baf33cba5",
            "c0506de6cf2f41a0b41f9ea1f63694bb",
            "f979451b688e4f28b969e47bb7fea27e",
            "0b3da66809264eb4a3279163e50f9b75",
            "70009c62a8c24afc9ab8ca7f5c0ce30f",
            "b6bdb2402588488e85234f888361c646"
          ]
        },
        "id": "QYyxaQFjchD2",
        "outputId": "b8d4e838-acae-4e72-83a7-6ab32f074b92"
      },
      "execution_count": 68,
      "outputs": [
        {
          "output_type": "display_data",
          "data": {
            "text/plain": [
              "VBox(children=(HTML(value='<center> <img\\nsrc=https://huggingface.co/front/assets/huggingface_logo-noborder.sv…"
            ],
            "application/vnd.jupyter.widget-view+json": {
              "version_major": 2,
              "version_minor": 0,
              "model_id": "32818d4ec02a4f279b5f9286249fac92"
            }
          },
          "metadata": {}
        }
      ]
    },
    {
      "cell_type": "code",
      "source": [
        "!git clone https://huggingface.co/spaces/prajwalchavan/project-samarth"
      ],
      "metadata": {
        "colab": {
          "base_uri": "https://localhost:8080/"
        },
        "id": "cCbckgADdsui",
        "outputId": "17d993aa-3316-4675-8110-4dbec632bba0"
      },
      "execution_count": 69,
      "outputs": [
        {
          "output_type": "stream",
          "name": "stdout",
          "text": [
            "Cloning into 'project-samarth'...\n",
            "remote: Enumerating objects: 4, done.\u001b[K\n",
            "remote: Total 4 (delta 0), reused 0 (delta 0), pack-reused 4 (from 1)\u001b[K\n",
            "Unpacking objects: 100% (4/4), 1.28 KiB | 1.28 MiB/s, done.\n"
          ]
        }
      ]
    },
    {
      "cell_type": "code",
      "source": [
        "!cp app.py requirements.txt crop_production.csv weather-1.csv project-samarth/"
      ],
      "metadata": {
        "colab": {
          "base_uri": "https://localhost:8080/"
        },
        "id": "6TF1zlebeGkt",
        "outputId": "80de3c38-d00b-472f-cc72-1e0940635e19"
      },
      "execution_count": 70,
      "outputs": [
        {
          "output_type": "stream",
          "name": "stdout",
          "text": [
            "cp: cannot stat 'app.py': No such file or directory\n",
            "cp: cannot stat 'requirements.txt': No such file or directory\n",
            "cp: cannot stat 'crop_production.csv': No such file or directory\n",
            "cp: cannot stat 'weather-1.csv': No such file or directory\n"
          ]
        }
      ]
    },
    {
      "cell_type": "code",
      "source": [
        "!git config --global user.email \"prajwalchavan354@gmail.com\"\n",
        "!git config --global user.name \"Prajwal Chavan\""
      ],
      "metadata": {
        "id": "u6sQRvFkfCrt"
      },
      "execution_count": 71,
      "outputs": []
    },
    {
      "cell_type": "code",
      "source": [
        "%cd project-samarth\n",
        "!git add .\n",
        "!git commit -m \"Initial Project Samarth upload\"\n",
        "!git push"
      ],
      "metadata": {
        "colab": {
          "base_uri": "https://localhost:8080/"
        },
        "id": "0IpM94HueOcZ",
        "outputId": "3abf6b46-4af2-40df-89c9-308d84ddab70"
      },
      "execution_count": 72,
      "outputs": [
        {
          "output_type": "stream",
          "name": "stdout",
          "text": [
            "/content/project-samarth/project-samarth\n",
            "On branch main\n",
            "Your branch is up to date with 'origin/main'.\n",
            "\n",
            "nothing to commit, working tree clean\n",
            "Everything up-to-date\n"
          ]
        }
      ]
    }
  ],
  "metadata": {
    "accelerator": "GPU",
    "colab": {
      "gpuType": "T4",
      "provenance": []
    },
    "kernelspec": {
      "display_name": "Python 3",
      "name": "python3"
    },
    "language_info": {
      "name": "python"
    },
    "widgets": {
      "application/vnd.jupyter.widget-state+json": {
        "239abd5e6ac346cfb2002bf29ae884c6": {
          "model_module": "@jupyter-widgets/controls",
          "model_name": "VBoxModel",
          "model_module_version": "1.5.0",
          "state": {
            "_dom_classes": [],
            "_model_module": "@jupyter-widgets/controls",
            "_model_module_version": "1.5.0",
            "_model_name": "VBoxModel",
            "_view_count": null,
            "_view_module": "@jupyter-widgets/controls",
            "_view_module_version": "1.5.0",
            "_view_name": "VBoxView",
            "box_style": "",
            "children": [
              "IPY_MODEL_eaf78245412342a6aa2ceacbd33d081d",
              "IPY_MODEL_2db1575e3da744c69b275fddf63ea1ea",
              "IPY_MODEL_745b80842d5e441fb8349d9514377699",
              "IPY_MODEL_338968a6184d4a2599463ab6661f0686",
              "IPY_MODEL_70fa0227d922403a951b61c6a8755126"
            ],
            "layout": "IPY_MODEL_77b54d8dad2e4674b1c3b1d537f5abc6"
          }
        },
        "eaf78245412342a6aa2ceacbd33d081d": {
          "model_module": "@jupyter-widgets/controls",
          "model_name": "HTMLModel",
          "model_module_version": "1.5.0",
          "state": {
            "_dom_classes": [],
            "_model_module": "@jupyter-widgets/controls",
            "_model_module_version": "1.5.0",
            "_model_name": "HTMLModel",
            "_view_count": null,
            "_view_module": "@jupyter-widgets/controls",
            "_view_module_version": "1.5.0",
            "_view_name": "HTMLView",
            "description": "",
            "description_tooltip": null,
            "layout": "IPY_MODEL_ed3553560a2a4b1299eea07e88d4093f",
            "placeholder": "​",
            "style": "IPY_MODEL_e017219813a84e649b6e35d161356f75",
            "value": "<center> <img\nsrc=https://huggingface.co/front/assets/huggingface_logo-noborder.svg\nalt='Hugging Face'> <br> Copy a token from <a\nhref=\"https://huggingface.co/settings/tokens\" target=\"_blank\">your Hugging Face\ntokens page</a> and paste it below. <br> Immediately click login after copying\nyour token or it might be stored in plain text in this notebook file. </center>"
          }
        },
        "2db1575e3da744c69b275fddf63ea1ea": {
          "model_module": "@jupyter-widgets/controls",
          "model_name": "PasswordModel",
          "model_module_version": "1.5.0",
          "state": {
            "_dom_classes": [],
            "_model_module": "@jupyter-widgets/controls",
            "_model_module_version": "1.5.0",
            "_model_name": "PasswordModel",
            "_view_count": null,
            "_view_module": "@jupyter-widgets/controls",
            "_view_module_version": "1.5.0",
            "_view_name": "PasswordView",
            "continuous_update": true,
            "description": "Token:",
            "description_tooltip": null,
            "disabled": false,
            "layout": "IPY_MODEL_9ee2cd53b6d2486eba573692add378bd",
            "placeholder": "​",
            "style": "IPY_MODEL_e72b5639be994ff48519e1f1f5bec538",
            "value": ""
          }
        },
        "745b80842d5e441fb8349d9514377699": {
          "model_module": "@jupyter-widgets/controls",
          "model_name": "CheckboxModel",
          "model_module_version": "1.5.0",
          "state": {
            "_dom_classes": [],
            "_model_module": "@jupyter-widgets/controls",
            "_model_module_version": "1.5.0",
            "_model_name": "CheckboxModel",
            "_view_count": null,
            "_view_module": "@jupyter-widgets/controls",
            "_view_module_version": "1.5.0",
            "_view_name": "CheckboxView",
            "description": "Add token as git credential?",
            "description_tooltip": null,
            "disabled": false,
            "indent": true,
            "layout": "IPY_MODEL_7d4b845580e440698618dd29c59534d9",
            "style": "IPY_MODEL_e56d6de6c88948178c5d8c72fe1678e4",
            "value": true
          }
        },
        "338968a6184d4a2599463ab6661f0686": {
          "model_module": "@jupyter-widgets/controls",
          "model_name": "ButtonModel",
          "model_module_version": "1.5.0",
          "state": {
            "_dom_classes": [],
            "_model_module": "@jupyter-widgets/controls",
            "_model_module_version": "1.5.0",
            "_model_name": "ButtonModel",
            "_view_count": null,
            "_view_module": "@jupyter-widgets/controls",
            "_view_module_version": "1.5.0",
            "_view_name": "ButtonView",
            "button_style": "",
            "description": "Login",
            "disabled": false,
            "icon": "",
            "layout": "IPY_MODEL_f5de517ed7a1420d9babaf8dfce12862",
            "style": "IPY_MODEL_3df7113bb32e46e28d6637058c82ae9d",
            "tooltip": ""
          }
        },
        "70fa0227d922403a951b61c6a8755126": {
          "model_module": "@jupyter-widgets/controls",
          "model_name": "HTMLModel",
          "model_module_version": "1.5.0",
          "state": {
            "_dom_classes": [],
            "_model_module": "@jupyter-widgets/controls",
            "_model_module_version": "1.5.0",
            "_model_name": "HTMLModel",
            "_view_count": null,
            "_view_module": "@jupyter-widgets/controls",
            "_view_module_version": "1.5.0",
            "_view_name": "HTMLView",
            "description": "",
            "description_tooltip": null,
            "layout": "IPY_MODEL_cc0f129889fd4b81b45e60ee8803bd8c",
            "placeholder": "​",
            "style": "IPY_MODEL_53b0361bd66243f2ab7bfc1612ec3554",
            "value": "\n<b>Pro Tip:</b> If you don't already have one, you can create a dedicated\n'notebooks' token with 'write' access, that you can then easily reuse for all\nnotebooks. </center>"
          }
        },
        "77b54d8dad2e4674b1c3b1d537f5abc6": {
          "model_module": "@jupyter-widgets/base",
          "model_name": "LayoutModel",
          "model_module_version": "1.2.0",
          "state": {
            "_model_module": "@jupyter-widgets/base",
            "_model_module_version": "1.2.0",
            "_model_name": "LayoutModel",
            "_view_count": null,
            "_view_module": "@jupyter-widgets/base",
            "_view_module_version": "1.2.0",
            "_view_name": "LayoutView",
            "align_content": null,
            "align_items": "center",
            "align_self": null,
            "border": null,
            "bottom": null,
            "display": "flex",
            "flex": null,
            "flex_flow": "column",
            "grid_area": null,
            "grid_auto_columns": null,
            "grid_auto_flow": null,
            "grid_auto_rows": null,
            "grid_column": null,
            "grid_gap": null,
            "grid_row": null,
            "grid_template_areas": null,
            "grid_template_columns": null,
            "grid_template_rows": null,
            "height": null,
            "justify_content": null,
            "justify_items": null,
            "left": null,
            "margin": null,
            "max_height": null,
            "max_width": null,
            "min_height": null,
            "min_width": null,
            "object_fit": null,
            "object_position": null,
            "order": null,
            "overflow": null,
            "overflow_x": null,
            "overflow_y": null,
            "padding": null,
            "right": null,
            "top": null,
            "visibility": null,
            "width": "50%"
          }
        },
        "ed3553560a2a4b1299eea07e88d4093f": {
          "model_module": "@jupyter-widgets/base",
          "model_name": "LayoutModel",
          "model_module_version": "1.2.0",
          "state": {
            "_model_module": "@jupyter-widgets/base",
            "_model_module_version": "1.2.0",
            "_model_name": "LayoutModel",
            "_view_count": null,
            "_view_module": "@jupyter-widgets/base",
            "_view_module_version": "1.2.0",
            "_view_name": "LayoutView",
            "align_content": null,
            "align_items": null,
            "align_self": null,
            "border": null,
            "bottom": null,
            "display": null,
            "flex": null,
            "flex_flow": null,
            "grid_area": null,
            "grid_auto_columns": null,
            "grid_auto_flow": null,
            "grid_auto_rows": null,
            "grid_column": null,
            "grid_gap": null,
            "grid_row": null,
            "grid_template_areas": null,
            "grid_template_columns": null,
            "grid_template_rows": null,
            "height": null,
            "justify_content": null,
            "justify_items": null,
            "left": null,
            "margin": null,
            "max_height": null,
            "max_width": null,
            "min_height": null,
            "min_width": null,
            "object_fit": null,
            "object_position": null,
            "order": null,
            "overflow": null,
            "overflow_x": null,
            "overflow_y": null,
            "padding": null,
            "right": null,
            "top": null,
            "visibility": null,
            "width": null
          }
        },
        "e017219813a84e649b6e35d161356f75": {
          "model_module": "@jupyter-widgets/controls",
          "model_name": "DescriptionStyleModel",
          "model_module_version": "1.5.0",
          "state": {
            "_model_module": "@jupyter-widgets/controls",
            "_model_module_version": "1.5.0",
            "_model_name": "DescriptionStyleModel",
            "_view_count": null,
            "_view_module": "@jupyter-widgets/base",
            "_view_module_version": "1.2.0",
            "_view_name": "StyleView",
            "description_width": ""
          }
        },
        "9ee2cd53b6d2486eba573692add378bd": {
          "model_module": "@jupyter-widgets/base",
          "model_name": "LayoutModel",
          "model_module_version": "1.2.0",
          "state": {
            "_model_module": "@jupyter-widgets/base",
            "_model_module_version": "1.2.0",
            "_model_name": "LayoutModel",
            "_view_count": null,
            "_view_module": "@jupyter-widgets/base",
            "_view_module_version": "1.2.0",
            "_view_name": "LayoutView",
            "align_content": null,
            "align_items": null,
            "align_self": null,
            "border": null,
            "bottom": null,
            "display": null,
            "flex": null,
            "flex_flow": null,
            "grid_area": null,
            "grid_auto_columns": null,
            "grid_auto_flow": null,
            "grid_auto_rows": null,
            "grid_column": null,
            "grid_gap": null,
            "grid_row": null,
            "grid_template_areas": null,
            "grid_template_columns": null,
            "grid_template_rows": null,
            "height": null,
            "justify_content": null,
            "justify_items": null,
            "left": null,
            "margin": null,
            "max_height": null,
            "max_width": null,
            "min_height": null,
            "min_width": null,
            "object_fit": null,
            "object_position": null,
            "order": null,
            "overflow": null,
            "overflow_x": null,
            "overflow_y": null,
            "padding": null,
            "right": null,
            "top": null,
            "visibility": null,
            "width": null
          }
        },
        "e72b5639be994ff48519e1f1f5bec538": {
          "model_module": "@jupyter-widgets/controls",
          "model_name": "DescriptionStyleModel",
          "model_module_version": "1.5.0",
          "state": {
            "_model_module": "@jupyter-widgets/controls",
            "_model_module_version": "1.5.0",
            "_model_name": "DescriptionStyleModel",
            "_view_count": null,
            "_view_module": "@jupyter-widgets/base",
            "_view_module_version": "1.2.0",
            "_view_name": "StyleView",
            "description_width": ""
          }
        },
        "7d4b845580e440698618dd29c59534d9": {
          "model_module": "@jupyter-widgets/base",
          "model_name": "LayoutModel",
          "model_module_version": "1.2.0",
          "state": {
            "_model_module": "@jupyter-widgets/base",
            "_model_module_version": "1.2.0",
            "_model_name": "LayoutModel",
            "_view_count": null,
            "_view_module": "@jupyter-widgets/base",
            "_view_module_version": "1.2.0",
            "_view_name": "LayoutView",
            "align_content": null,
            "align_items": null,
            "align_self": null,
            "border": null,
            "bottom": null,
            "display": null,
            "flex": null,
            "flex_flow": null,
            "grid_area": null,
            "grid_auto_columns": null,
            "grid_auto_flow": null,
            "grid_auto_rows": null,
            "grid_column": null,
            "grid_gap": null,
            "grid_row": null,
            "grid_template_areas": null,
            "grid_template_columns": null,
            "grid_template_rows": null,
            "height": null,
            "justify_content": null,
            "justify_items": null,
            "left": null,
            "margin": null,
            "max_height": null,
            "max_width": null,
            "min_height": null,
            "min_width": null,
            "object_fit": null,
            "object_position": null,
            "order": null,
            "overflow": null,
            "overflow_x": null,
            "overflow_y": null,
            "padding": null,
            "right": null,
            "top": null,
            "visibility": null,
            "width": null
          }
        },
        "e56d6de6c88948178c5d8c72fe1678e4": {
          "model_module": "@jupyter-widgets/controls",
          "model_name": "DescriptionStyleModel",
          "model_module_version": "1.5.0",
          "state": {
            "_model_module": "@jupyter-widgets/controls",
            "_model_module_version": "1.5.0",
            "_model_name": "DescriptionStyleModel",
            "_view_count": null,
            "_view_module": "@jupyter-widgets/base",
            "_view_module_version": "1.2.0",
            "_view_name": "StyleView",
            "description_width": ""
          }
        },
        "f5de517ed7a1420d9babaf8dfce12862": {
          "model_module": "@jupyter-widgets/base",
          "model_name": "LayoutModel",
          "model_module_version": "1.2.0",
          "state": {
            "_model_module": "@jupyter-widgets/base",
            "_model_module_version": "1.2.0",
            "_model_name": "LayoutModel",
            "_view_count": null,
            "_view_module": "@jupyter-widgets/base",
            "_view_module_version": "1.2.0",
            "_view_name": "LayoutView",
            "align_content": null,
            "align_items": null,
            "align_self": null,
            "border": null,
            "bottom": null,
            "display": null,
            "flex": null,
            "flex_flow": null,
            "grid_area": null,
            "grid_auto_columns": null,
            "grid_auto_flow": null,
            "grid_auto_rows": null,
            "grid_column": null,
            "grid_gap": null,
            "grid_row": null,
            "grid_template_areas": null,
            "grid_template_columns": null,
            "grid_template_rows": null,
            "height": null,
            "justify_content": null,
            "justify_items": null,
            "left": null,
            "margin": null,
            "max_height": null,
            "max_width": null,
            "min_height": null,
            "min_width": null,
            "object_fit": null,
            "object_position": null,
            "order": null,
            "overflow": null,
            "overflow_x": null,
            "overflow_y": null,
            "padding": null,
            "right": null,
            "top": null,
            "visibility": null,
            "width": null
          }
        },
        "3df7113bb32e46e28d6637058c82ae9d": {
          "model_module": "@jupyter-widgets/controls",
          "model_name": "ButtonStyleModel",
          "model_module_version": "1.5.0",
          "state": {
            "_model_module": "@jupyter-widgets/controls",
            "_model_module_version": "1.5.0",
            "_model_name": "ButtonStyleModel",
            "_view_count": null,
            "_view_module": "@jupyter-widgets/base",
            "_view_module_version": "1.2.0",
            "_view_name": "StyleView",
            "button_color": null,
            "font_weight": ""
          }
        },
        "cc0f129889fd4b81b45e60ee8803bd8c": {
          "model_module": "@jupyter-widgets/base",
          "model_name": "LayoutModel",
          "model_module_version": "1.2.0",
          "state": {
            "_model_module": "@jupyter-widgets/base",
            "_model_module_version": "1.2.0",
            "_model_name": "LayoutModel",
            "_view_count": null,
            "_view_module": "@jupyter-widgets/base",
            "_view_module_version": "1.2.0",
            "_view_name": "LayoutView",
            "align_content": null,
            "align_items": null,
            "align_self": null,
            "border": null,
            "bottom": null,
            "display": null,
            "flex": null,
            "flex_flow": null,
            "grid_area": null,
            "grid_auto_columns": null,
            "grid_auto_flow": null,
            "grid_auto_rows": null,
            "grid_column": null,
            "grid_gap": null,
            "grid_row": null,
            "grid_template_areas": null,
            "grid_template_columns": null,
            "grid_template_rows": null,
            "height": null,
            "justify_content": null,
            "justify_items": null,
            "left": null,
            "margin": null,
            "max_height": null,
            "max_width": null,
            "min_height": null,
            "min_width": null,
            "object_fit": null,
            "object_position": null,
            "order": null,
            "overflow": null,
            "overflow_x": null,
            "overflow_y": null,
            "padding": null,
            "right": null,
            "top": null,
            "visibility": null,
            "width": null
          }
        },
        "53b0361bd66243f2ab7bfc1612ec3554": {
          "model_module": "@jupyter-widgets/controls",
          "model_name": "DescriptionStyleModel",
          "model_module_version": "1.5.0",
          "state": {
            "_model_module": "@jupyter-widgets/controls",
            "_model_module_version": "1.5.0",
            "_model_name": "DescriptionStyleModel",
            "_view_count": null,
            "_view_module": "@jupyter-widgets/base",
            "_view_module_version": "1.2.0",
            "_view_name": "StyleView",
            "description_width": ""
          }
        },
        "32818d4ec02a4f279b5f9286249fac92": {
          "model_module": "@jupyter-widgets/controls",
          "model_name": "VBoxModel",
          "model_module_version": "1.5.0",
          "state": {
            "_dom_classes": [],
            "_model_module": "@jupyter-widgets/controls",
            "_model_module_version": "1.5.0",
            "_model_name": "VBoxModel",
            "_view_count": null,
            "_view_module": "@jupyter-widgets/controls",
            "_view_module_version": "1.5.0",
            "_view_name": "VBoxView",
            "box_style": "",
            "children": [
              "IPY_MODEL_137032aa188e4543b878cc089b049c28",
              "IPY_MODEL_3ef7fea98f1d429e8d6f85301baa4a21",
              "IPY_MODEL_c30dd561ae3849249a402fc5043144e7",
              "IPY_MODEL_be987c265c5c4bb4ac91c8a6e8a088b7",
              "IPY_MODEL_782ac183779e41f497436c50c86fdb0c"
            ],
            "layout": "IPY_MODEL_023aae65cf664a9ea4a614f7b2b67806"
          }
        },
        "137032aa188e4543b878cc089b049c28": {
          "model_module": "@jupyter-widgets/controls",
          "model_name": "HTMLModel",
          "model_module_version": "1.5.0",
          "state": {
            "_dom_classes": [],
            "_model_module": "@jupyter-widgets/controls",
            "_model_module_version": "1.5.0",
            "_model_name": "HTMLModel",
            "_view_count": null,
            "_view_module": "@jupyter-widgets/controls",
            "_view_module_version": "1.5.0",
            "_view_name": "HTMLView",
            "description": "",
            "description_tooltip": null,
            "layout": "IPY_MODEL_29876be2fa8642379b89be5ae4a86059",
            "placeholder": "​",
            "style": "IPY_MODEL_aa09382e574945988231cbbbf4de9614",
            "value": "<center> <img\nsrc=https://huggingface.co/front/assets/huggingface_logo-noborder.svg\nalt='Hugging Face'> <br> Copy a token from <a\nhref=\"https://huggingface.co/settings/tokens\" target=\"_blank\">your Hugging Face\ntokens page</a> and paste it below. <br> Immediately click login after copying\nyour token or it might be stored in plain text in this notebook file. </center>"
          }
        },
        "3ef7fea98f1d429e8d6f85301baa4a21": {
          "model_module": "@jupyter-widgets/controls",
          "model_name": "PasswordModel",
          "model_module_version": "1.5.0",
          "state": {
            "_dom_classes": [],
            "_model_module": "@jupyter-widgets/controls",
            "_model_module_version": "1.5.0",
            "_model_name": "PasswordModel",
            "_view_count": null,
            "_view_module": "@jupyter-widgets/controls",
            "_view_module_version": "1.5.0",
            "_view_name": "PasswordView",
            "continuous_update": true,
            "description": "Token:",
            "description_tooltip": null,
            "disabled": false,
            "layout": "IPY_MODEL_c7cd217b216e4ce6b96d03dcb407b31e",
            "placeholder": "​",
            "style": "IPY_MODEL_3a8597fb2a184be0925d959a060b1651",
            "value": ""
          }
        },
        "c30dd561ae3849249a402fc5043144e7": {
          "model_module": "@jupyter-widgets/controls",
          "model_name": "CheckboxModel",
          "model_module_version": "1.5.0",
          "state": {
            "_dom_classes": [],
            "_model_module": "@jupyter-widgets/controls",
            "_model_module_version": "1.5.0",
            "_model_name": "CheckboxModel",
            "_view_count": null,
            "_view_module": "@jupyter-widgets/controls",
            "_view_module_version": "1.5.0",
            "_view_name": "CheckboxView",
            "description": "Add token as git credential?",
            "description_tooltip": null,
            "disabled": false,
            "indent": true,
            "layout": "IPY_MODEL_80ed83001ee44e46b90a331baf33cba5",
            "style": "IPY_MODEL_c0506de6cf2f41a0b41f9ea1f63694bb",
            "value": true
          }
        },
        "be987c265c5c4bb4ac91c8a6e8a088b7": {
          "model_module": "@jupyter-widgets/controls",
          "model_name": "ButtonModel",
          "model_module_version": "1.5.0",
          "state": {
            "_dom_classes": [],
            "_model_module": "@jupyter-widgets/controls",
            "_model_module_version": "1.5.0",
            "_model_name": "ButtonModel",
            "_view_count": null,
            "_view_module": "@jupyter-widgets/controls",
            "_view_module_version": "1.5.0",
            "_view_name": "ButtonView",
            "button_style": "",
            "description": "Login",
            "disabled": false,
            "icon": "",
            "layout": "IPY_MODEL_f979451b688e4f28b969e47bb7fea27e",
            "style": "IPY_MODEL_0b3da66809264eb4a3279163e50f9b75",
            "tooltip": ""
          }
        },
        "782ac183779e41f497436c50c86fdb0c": {
          "model_module": "@jupyter-widgets/controls",
          "model_name": "HTMLModel",
          "model_module_version": "1.5.0",
          "state": {
            "_dom_classes": [],
            "_model_module": "@jupyter-widgets/controls",
            "_model_module_version": "1.5.0",
            "_model_name": "HTMLModel",
            "_view_count": null,
            "_view_module": "@jupyter-widgets/controls",
            "_view_module_version": "1.5.0",
            "_view_name": "HTMLView",
            "description": "",
            "description_tooltip": null,
            "layout": "IPY_MODEL_70009c62a8c24afc9ab8ca7f5c0ce30f",
            "placeholder": "​",
            "style": "IPY_MODEL_b6bdb2402588488e85234f888361c646",
            "value": "\n<b>Pro Tip:</b> If you don't already have one, you can create a dedicated\n'notebooks' token with 'write' access, that you can then easily reuse for all\nnotebooks. </center>"
          }
        },
        "023aae65cf664a9ea4a614f7b2b67806": {
          "model_module": "@jupyter-widgets/base",
          "model_name": "LayoutModel",
          "model_module_version": "1.2.0",
          "state": {
            "_model_module": "@jupyter-widgets/base",
            "_model_module_version": "1.2.0",
            "_model_name": "LayoutModel",
            "_view_count": null,
            "_view_module": "@jupyter-widgets/base",
            "_view_module_version": "1.2.0",
            "_view_name": "LayoutView",
            "align_content": null,
            "align_items": "center",
            "align_self": null,
            "border": null,
            "bottom": null,
            "display": "flex",
            "flex": null,
            "flex_flow": "column",
            "grid_area": null,
            "grid_auto_columns": null,
            "grid_auto_flow": null,
            "grid_auto_rows": null,
            "grid_column": null,
            "grid_gap": null,
            "grid_row": null,
            "grid_template_areas": null,
            "grid_template_columns": null,
            "grid_template_rows": null,
            "height": null,
            "justify_content": null,
            "justify_items": null,
            "left": null,
            "margin": null,
            "max_height": null,
            "max_width": null,
            "min_height": null,
            "min_width": null,
            "object_fit": null,
            "object_position": null,
            "order": null,
            "overflow": null,
            "overflow_x": null,
            "overflow_y": null,
            "padding": null,
            "right": null,
            "top": null,
            "visibility": null,
            "width": "50%"
          }
        },
        "29876be2fa8642379b89be5ae4a86059": {
          "model_module": "@jupyter-widgets/base",
          "model_name": "LayoutModel",
          "model_module_version": "1.2.0",
          "state": {
            "_model_module": "@jupyter-widgets/base",
            "_model_module_version": "1.2.0",
            "_model_name": "LayoutModel",
            "_view_count": null,
            "_view_module": "@jupyter-widgets/base",
            "_view_module_version": "1.2.0",
            "_view_name": "LayoutView",
            "align_content": null,
            "align_items": null,
            "align_self": null,
            "border": null,
            "bottom": null,
            "display": null,
            "flex": null,
            "flex_flow": null,
            "grid_area": null,
            "grid_auto_columns": null,
            "grid_auto_flow": null,
            "grid_auto_rows": null,
            "grid_column": null,
            "grid_gap": null,
            "grid_row": null,
            "grid_template_areas": null,
            "grid_template_columns": null,
            "grid_template_rows": null,
            "height": null,
            "justify_content": null,
            "justify_items": null,
            "left": null,
            "margin": null,
            "max_height": null,
            "max_width": null,
            "min_height": null,
            "min_width": null,
            "object_fit": null,
            "object_position": null,
            "order": null,
            "overflow": null,
            "overflow_x": null,
            "overflow_y": null,
            "padding": null,
            "right": null,
            "top": null,
            "visibility": null,
            "width": null
          }
        },
        "aa09382e574945988231cbbbf4de9614": {
          "model_module": "@jupyter-widgets/controls",
          "model_name": "DescriptionStyleModel",
          "model_module_version": "1.5.0",
          "state": {
            "_model_module": "@jupyter-widgets/controls",
            "_model_module_version": "1.5.0",
            "_model_name": "DescriptionStyleModel",
            "_view_count": null,
            "_view_module": "@jupyter-widgets/base",
            "_view_module_version": "1.2.0",
            "_view_name": "StyleView",
            "description_width": ""
          }
        },
        "c7cd217b216e4ce6b96d03dcb407b31e": {
          "model_module": "@jupyter-widgets/base",
          "model_name": "LayoutModel",
          "model_module_version": "1.2.0",
          "state": {
            "_model_module": "@jupyter-widgets/base",
            "_model_module_version": "1.2.0",
            "_model_name": "LayoutModel",
            "_view_count": null,
            "_view_module": "@jupyter-widgets/base",
            "_view_module_version": "1.2.0",
            "_view_name": "LayoutView",
            "align_content": null,
            "align_items": null,
            "align_self": null,
            "border": null,
            "bottom": null,
            "display": null,
            "flex": null,
            "flex_flow": null,
            "grid_area": null,
            "grid_auto_columns": null,
            "grid_auto_flow": null,
            "grid_auto_rows": null,
            "grid_column": null,
            "grid_gap": null,
            "grid_row": null,
            "grid_template_areas": null,
            "grid_template_columns": null,
            "grid_template_rows": null,
            "height": null,
            "justify_content": null,
            "justify_items": null,
            "left": null,
            "margin": null,
            "max_height": null,
            "max_width": null,
            "min_height": null,
            "min_width": null,
            "object_fit": null,
            "object_position": null,
            "order": null,
            "overflow": null,
            "overflow_x": null,
            "overflow_y": null,
            "padding": null,
            "right": null,
            "top": null,
            "visibility": null,
            "width": null
          }
        },
        "3a8597fb2a184be0925d959a060b1651": {
          "model_module": "@jupyter-widgets/controls",
          "model_name": "DescriptionStyleModel",
          "model_module_version": "1.5.0",
          "state": {
            "_model_module": "@jupyter-widgets/controls",
            "_model_module_version": "1.5.0",
            "_model_name": "DescriptionStyleModel",
            "_view_count": null,
            "_view_module": "@jupyter-widgets/base",
            "_view_module_version": "1.2.0",
            "_view_name": "StyleView",
            "description_width": ""
          }
        },
        "80ed83001ee44e46b90a331baf33cba5": {
          "model_module": "@jupyter-widgets/base",
          "model_name": "LayoutModel",
          "model_module_version": "1.2.0",
          "state": {
            "_model_module": "@jupyter-widgets/base",
            "_model_module_version": "1.2.0",
            "_model_name": "LayoutModel",
            "_view_count": null,
            "_view_module": "@jupyter-widgets/base",
            "_view_module_version": "1.2.0",
            "_view_name": "LayoutView",
            "align_content": null,
            "align_items": null,
            "align_self": null,
            "border": null,
            "bottom": null,
            "display": null,
            "flex": null,
            "flex_flow": null,
            "grid_area": null,
            "grid_auto_columns": null,
            "grid_auto_flow": null,
            "grid_auto_rows": null,
            "grid_column": null,
            "grid_gap": null,
            "grid_row": null,
            "grid_template_areas": null,
            "grid_template_columns": null,
            "grid_template_rows": null,
            "height": null,
            "justify_content": null,
            "justify_items": null,
            "left": null,
            "margin": null,
            "max_height": null,
            "max_width": null,
            "min_height": null,
            "min_width": null,
            "object_fit": null,
            "object_position": null,
            "order": null,
            "overflow": null,
            "overflow_x": null,
            "overflow_y": null,
            "padding": null,
            "right": null,
            "top": null,
            "visibility": null,
            "width": null
          }
        },
        "c0506de6cf2f41a0b41f9ea1f63694bb": {
          "model_module": "@jupyter-widgets/controls",
          "model_name": "DescriptionStyleModel",
          "model_module_version": "1.5.0",
          "state": {
            "_model_module": "@jupyter-widgets/controls",
            "_model_module_version": "1.5.0",
            "_model_name": "DescriptionStyleModel",
            "_view_count": null,
            "_view_module": "@jupyter-widgets/base",
            "_view_module_version": "1.2.0",
            "_view_name": "StyleView",
            "description_width": ""
          }
        },
        "f979451b688e4f28b969e47bb7fea27e": {
          "model_module": "@jupyter-widgets/base",
          "model_name": "LayoutModel",
          "model_module_version": "1.2.0",
          "state": {
            "_model_module": "@jupyter-widgets/base",
            "_model_module_version": "1.2.0",
            "_model_name": "LayoutModel",
            "_view_count": null,
            "_view_module": "@jupyter-widgets/base",
            "_view_module_version": "1.2.0",
            "_view_name": "LayoutView",
            "align_content": null,
            "align_items": null,
            "align_self": null,
            "border": null,
            "bottom": null,
            "display": null,
            "flex": null,
            "flex_flow": null,
            "grid_area": null,
            "grid_auto_columns": null,
            "grid_auto_flow": null,
            "grid_auto_rows": null,
            "grid_column": null,
            "grid_gap": null,
            "grid_row": null,
            "grid_template_areas": null,
            "grid_template_columns": null,
            "grid_template_rows": null,
            "height": null,
            "justify_content": null,
            "justify_items": null,
            "left": null,
            "margin": null,
            "max_height": null,
            "max_width": null,
            "min_height": null,
            "min_width": null,
            "object_fit": null,
            "object_position": null,
            "order": null,
            "overflow": null,
            "overflow_x": null,
            "overflow_y": null,
            "padding": null,
            "right": null,
            "top": null,
            "visibility": null,
            "width": null
          }
        },
        "0b3da66809264eb4a3279163e50f9b75": {
          "model_module": "@jupyter-widgets/controls",
          "model_name": "ButtonStyleModel",
          "model_module_version": "1.5.0",
          "state": {
            "_model_module": "@jupyter-widgets/controls",
            "_model_module_version": "1.5.0",
            "_model_name": "ButtonStyleModel",
            "_view_count": null,
            "_view_module": "@jupyter-widgets/base",
            "_view_module_version": "1.2.0",
            "_view_name": "StyleView",
            "button_color": null,
            "font_weight": ""
          }
        },
        "70009c62a8c24afc9ab8ca7f5c0ce30f": {
          "model_module": "@jupyter-widgets/base",
          "model_name": "LayoutModel",
          "model_module_version": "1.2.0",
          "state": {
            "_model_module": "@jupyter-widgets/base",
            "_model_module_version": "1.2.0",
            "_model_name": "LayoutModel",
            "_view_count": null,
            "_view_module": "@jupyter-widgets/base",
            "_view_module_version": "1.2.0",
            "_view_name": "LayoutView",
            "align_content": null,
            "align_items": null,
            "align_self": null,
            "border": null,
            "bottom": null,
            "display": null,
            "flex": null,
            "flex_flow": null,
            "grid_area": null,
            "grid_auto_columns": null,
            "grid_auto_flow": null,
            "grid_auto_rows": null,
            "grid_column": null,
            "grid_gap": null,
            "grid_row": null,
            "grid_template_areas": null,
            "grid_template_columns": null,
            "grid_template_rows": null,
            "height": null,
            "justify_content": null,
            "justify_items": null,
            "left": null,
            "margin": null,
            "max_height": null,
            "max_width": null,
            "min_height": null,
            "min_width": null,
            "object_fit": null,
            "object_position": null,
            "order": null,
            "overflow": null,
            "overflow_x": null,
            "overflow_y": null,
            "padding": null,
            "right": null,
            "top": null,
            "visibility": null,
            "width": null
          }
        },
        "b6bdb2402588488e85234f888361c646": {
          "model_module": "@jupyter-widgets/controls",
          "model_name": "DescriptionStyleModel",
          "model_module_version": "1.5.0",
          "state": {
            "_model_module": "@jupyter-widgets/controls",
            "_model_module_version": "1.5.0",
            "_model_name": "DescriptionStyleModel",
            "_view_count": null,
            "_view_module": "@jupyter-widgets/base",
            "_view_module_version": "1.2.0",
            "_view_name": "StyleView",
            "description_width": ""
          }
        }
      }
    }
  },
  "nbformat": 4,
  "nbformat_minor": 0
}