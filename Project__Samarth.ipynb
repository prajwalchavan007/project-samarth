{
  "cells": [
    {
      "cell_type": "markdown",
      "metadata": {
        "id": "SZxFTYdMYFYR"
      },
      "source": [
        "## **Project Samarth**\n"
      ]
    },
    {
      "cell_type": "markdown",
      "metadata": {
        "id": "i6DLiRbIl7sZ"
      },
      "source": [
        "# Step 1: Install Libraries\n"
      ]
    },
    {
      "cell_type": "code",
      "execution_count": 2,
      "metadata": {
        "id": "klKLg3WJmINw"
      },
      "outputs": [],
      "source": [
        "import requests\n",
        "import pandas as pd\n",
        "from transformers import pipeline"
      ]
    },
    {
      "cell_type": "markdown",
      "metadata": {
        "id": "pqa35NrfmrRo"
      },
      "source": [
        "# Step 3: Data Discovery & Integration\n",
        "# For sourcing\n",
        "# crop_url = \"/content/drive/MyDrive/PROJECT SAMARTH/crop_production.csv\"  # Example: Replace with real URL\n",
        "# climate_url = \"/content/drive/MyDrive/PROJECT SAMARTH/weather-1.csv\"  #"
      ]
    },
    {
      "cell_type": "markdown",
      "metadata": {
        "id": "FhxKWYzkm3cP"
      },
      "source": [
        "# For now, using local CSVs (upload to Colab: crop_production.csv, climate_data.csv)\n",
        "# Assume crop_production.csv has columns:State', 'District', 'Year', 'Season', 'Crop', 'Area', 'Production\n",
        "# Assume climate_data.csv has columns:State', 'District', 'Temperature', 'Condition', 'Humidity ', 'Wind Speed', 'Year"
      ]
    },
    {
      "cell_type": "code",
      "execution_count": 3,
      "metadata": {
        "colab": {
          "base_uri": "https://localhost:8080/"
        },
        "id": "PVnF4ke7m56Y",
        "outputId": "8ed5eb52-2f2e-4940-fe61-09692d6899d2"
      },
      "outputs": [
        {
          "output_type": "stream",
          "name": "stderr",
          "text": [
            "/tmp/ipython-input-4230534721.py:2: DtypeWarning: Columns (0,1,3) have mixed types. Specify dtype option on import or set low_memory=False.\n",
            "  climate_df = pd.read_csv('/content/drive/MyDrive/PROJECT SAMARTH/weather-1.csv')  # Upload your file\n"
          ]
        }
      ],
      "source": [
        "crop_df = pd.read_csv('/content/drive/MyDrive/PROJECT SAMARTH/crop_production.csv')  # Upload your file\n",
        "climate_df = pd.read_csv('/content/drive/MyDrive/PROJECT SAMARTH/weather-1.csv')  # Upload your file"
      ]
    },
    {
      "cell_type": "markdown",
      "metadata": {
        "id": "JeZJ2RqAnIAo"
      },
      "source": [
        "# Clean and Integrate\n"
      ]
    },
    {
      "cell_type": "code",
      "execution_count": 4,
      "metadata": {
        "id": "GILi8mWGnI8Q"
      },
      "outputs": [],
      "source": [
        "# Clean and Integrate\n",
        "crop_df['State'] = crop_df['State'].str.lower().str.strip()  # Normalize\n",
        "climate_df['State'] = climate_df['State'].str.lower().str.strip()\n",
        "integrated_df = pd.merge(crop_df, climate_df, on=['State', 'Year'], how='outer')  # Merge on State and Year\n",
        "integrated_df.fillna(0, inplace=True)  # Handle missing values"
      ]
    },
    {
      "cell_type": "code",
      "execution_count": 5,
      "metadata": {
        "colab": {
          "base_uri": "https://localhost:8080/"
        },
        "id": "ff86ac31",
        "outputId": "0b167896-019d-4ca0-8f74-01c46594e506"
      },
      "outputs": [
        {
          "output_type": "stream",
          "name": "stdout",
          "text": [
            "Crop DF columns: ['State', 'District', 'Year', 'Season', 'Crop', 'Area', 'Production']\n",
            "Climate DF columns: ['State', 'District', 'Temperature', 'Condition', 'Humidity ', 'Wind Speed', 'Year']\n"
          ]
        }
      ],
      "source": [
        "print(\"Crop DF columns:\", crop_df.columns.tolist())\n",
        "print(\"Climate DF columns:\", climate_df.columns.tolist())"
      ]
    },
    {
      "cell_type": "code",
      "execution_count": 6,
      "metadata": {
        "colab": {
          "base_uri": "https://localhost:8080/"
        },
        "id": "OkOHSYtZsnQ7",
        "outputId": "52be8fe4-573c-40ce-c46a-6c7055071952"
      },
      "outputs": [
        {
          "output_type": "stream",
          "name": "stdout",
          "text": [
            "                         State District_x  Year       Season  \\\n",
            "0  andaman and nicobar islands          0  1999            0   \n",
            "1  andaman and nicobar islands          0  1999            0   \n",
            "2  andaman and nicobar islands          0  1999            0   \n",
            "3  andaman and nicobar islands   NICOBARS  2000  Kharif        \n",
            "4  andaman and nicobar islands   NICOBARS  2000  Kharif        \n",
            "\n",
            "                  Crop    Area  Production                District_y  \\\n",
            "0                    0     0.0         0.0                   Nicobar   \n",
            "1                    0     0.0         0.0  North and Middle Andaman   \n",
            "2                    0     0.0         0.0             South Andaman   \n",
            "3             Arecanut  1254.0      2000.0                         0   \n",
            "4  Other Kharif pulses     2.0         1.0                         0   \n",
            "\n",
            "   Temperature          Condition  Humidity   Wind Speed  \n",
            "0         27.2  Light rain shower       80.0        27.7  \n",
            "1         27.2  Light rain shower       80.0        27.7  \n",
            "2         27.2  Light rain shower       80.0        27.7  \n",
            "3          0.0                  0        0.0         0.0  \n",
            "4          0.0                  0        0.0         0.0  \n"
          ]
        }
      ],
      "source": [
        "print(integrated_df.head())"
      ]
    },
    {
      "cell_type": "markdown",
      "metadata": {
        "id": "E9_MZdiepnEb"
      },
      "source": [
        "# Step 4: Q&A System\n",
        "# Simple NLP for entity extraction (using Hugging Face)"
      ]
    },
    {
      "cell_type": "code",
      "execution_count": 7,
      "metadata": {
        "colab": {
          "base_uri": "https://localhost:8080/",
          "height": 338,
          "referenced_widgets": [
            "147be2a564694f98a9a495f7adc588e9",
            "ac6c7381f99a41ab9ea498622e6509a4",
            "2a8b8f7126574fb9af725ff148faea42",
            "b4ec621f524548899e66d945c0d30d1f",
            "175f82ba5af04dfebf42e2b4ac155580",
            "59271eb35cc44f9a9f50df5326d2b836",
            "646cad49e6e14737a3802a50f2613482",
            "1529531b89f0482789be3c6c815853d2",
            "b0a0d4c51e0f487aba5997634f4a7fbe",
            "ccdf34e5a90c4c20996eeeb85b3af865",
            "ab6219ee0d534f0aa7e9345516c719a6",
            "55e3796a858f4f08b176cd520c1d1bbf",
            "60dcfdf2cf1147fc8288b53f899c4361",
            "699fa16dd64641aa83e9ac9f7197c114",
            "1816c3434fb34abcb66696db8deeb10a",
            "0e653cb2afc5448891835ecffcdf92f1",
            "5ed89093390f4bae8aed29a2359f8d90",
            "8dce5dfa2fe74d30be53d592c36086b6",
            "58e185b864754fcbbde0b04c2ba65a07",
            "ce7283d214e14fab89708d3492945773",
            "8296111c0e834cb6a6013d945caca8b5",
            "79ef0f68f45149e4b5619aafc6df72bd",
            "3d242904c65747309dae458c646033d7",
            "f39dff6328804897a1c0ddcb605c0080",
            "0acba03dd33a4aa7bec3029037b2acd8",
            "67795041877e4276a28904ac776bdb52",
            "df9d172aa608412da7da2bf8b0abf7dc",
            "229f3d7a2798466dad9388f837c341a0",
            "0ccbd90622174eaea813a8a89d5fe43a",
            "5cd6af1518784e8ebc720061cf6485bc",
            "0c0bd05476ea4c3ca7425e74acb1f907",
            "fbe91855d58841f8b8d0445750328ce9",
            "3dc1bdea00614b04acd064d14df1a7e3",
            "cee05dc673924c73a0a5da96a7c9acee",
            "18b83eeca6d849898149a77e1baa50e6",
            "ccd3005e206a46a88b37cd7e1fb460e0",
            "f5ba8ea20cd34734a34002b5e4f52fcd",
            "db31f7d55a2c4b488a231b248344e672",
            "efe0ae1f6c0b4fbd85c9b45ac44225dc",
            "5a2784886c1d45d285235278a07d9423",
            "abae07742160426d9a497d689b6aff47",
            "526c5302c16d4e68a6fce99b71caf579",
            "45899a65ba5641c080916e35d1465b09",
            "3fdc7ed92585403d8fec53d9ca72921e"
          ]
        },
        "id": "6H3VV13GpqQK",
        "outputId": "771bfce8-9f6a-4250-d0ec-a37e6dc01a6a"
      },
      "outputs": [
        {
          "output_type": "stream",
          "name": "stderr",
          "text": [
            "/usr/local/lib/python3.12/dist-packages/huggingface_hub/utils/_auth.py:94: UserWarning: \n",
            "The secret `HF_TOKEN` does not exist in your Colab secrets.\n",
            "To authenticate with the Hugging Face Hub, create a token in your settings tab (https://huggingface.co/settings/tokens), set it as secret in your Google Colab and restart your session.\n",
            "You will be able to reuse this secret in all of your notebooks.\n",
            "Please note that authentication is recommended but still optional to access public models or datasets.\n",
            "  warnings.warn(\n"
          ]
        },
        {
          "output_type": "display_data",
          "data": {
            "text/plain": [
              "config.json:   0%|          | 0.00/998 [00:00<?, ?B/s]"
            ],
            "application/vnd.jupyter.widget-view+json": {
              "version_major": 2,
              "version_minor": 0,
              "model_id": "147be2a564694f98a9a495f7adc588e9"
            }
          },
          "metadata": {}
        },
        {
          "output_type": "display_data",
          "data": {
            "text/plain": [
              "model.safetensors:   0%|          | 0.00/1.33G [00:00<?, ?B/s]"
            ],
            "application/vnd.jupyter.widget-view+json": {
              "version_major": 2,
              "version_minor": 0,
              "model_id": "55e3796a858f4f08b176cd520c1d1bbf"
            }
          },
          "metadata": {}
        },
        {
          "output_type": "stream",
          "name": "stderr",
          "text": [
            "Some weights of the model checkpoint at dbmdz/bert-large-cased-finetuned-conll03-english were not used when initializing BertForTokenClassification: ['bert.pooler.dense.bias', 'bert.pooler.dense.weight']\n",
            "- This IS expected if you are initializing BertForTokenClassification from the checkpoint of a model trained on another task or with another architecture (e.g. initializing a BertForSequenceClassification model from a BertForPreTraining model).\n",
            "- This IS NOT expected if you are initializing BertForTokenClassification from the checkpoint of a model that you expect to be exactly identical (initializing a BertForSequenceClassification model from a BertForSequenceClassification model).\n"
          ]
        },
        {
          "output_type": "display_data",
          "data": {
            "text/plain": [
              "tokenizer_config.json:   0%|          | 0.00/60.0 [00:00<?, ?B/s]"
            ],
            "application/vnd.jupyter.widget-view+json": {
              "version_major": 2,
              "version_minor": 0,
              "model_id": "3d242904c65747309dae458c646033d7"
            }
          },
          "metadata": {}
        },
        {
          "output_type": "display_data",
          "data": {
            "text/plain": [
              "vocab.txt: 0.00B [00:00, ?B/s]"
            ],
            "application/vnd.jupyter.widget-view+json": {
              "version_major": 2,
              "version_minor": 0,
              "model_id": "cee05dc673924c73a0a5da96a7c9acee"
            }
          },
          "metadata": {}
        },
        {
          "output_type": "stream",
          "name": "stderr",
          "text": [
            "Device set to use cpu\n"
          ]
        }
      ],
      "source": [
        "nlp = pipeline(\"ner\", model=\"dbmdz/bert-large-cased-finetuned-conll03-english\")\n"
      ]
    },
    {
      "cell_type": "code",
      "execution_count": 8,
      "metadata": {
        "id": "EjRNHZyxp2K_"
      },
      "outputs": [],
      "source": [
        "def parse_question(question):\n",
        "    # Full list of Indian states/UTs (lowercased)\n",
        "    states = [\n",
        "        'andhra pradesh', 'arunachal pradesh', 'assam', 'bihar', 'chhattisgarh', 'goa', 'gujarat', 'haryana',\n",
        "        'himachal pradesh', 'jharkhand', 'karnataka', 'kerala', 'madhya pradesh', 'maharashtra', 'manipur',\n",
        "        'meghalaya', 'mizoram', 'nagaland', 'odisha', 'punjab', 'rajasthan', 'sikkim', 'tamil nadu', 'telangana',\n",
        "        'tripura', 'uttar pradesh', 'uttarakhand', 'west bengal', 'delhi', 'jammu and kashmir', 'ladakh',\n",
        "        'puducherry', 'chandigarh', 'dadra and nagar haveli and daman and diu', 'lakshadweep', 'andaman and nicobar islands'\n",
        "    ]\n",
        "    question_lower = question.lower().replace('state of ', '').replace('state ', '')  # Handle variations like \"State of Karnataka\"\n",
        "    found_states = [s for s in states if s in question_lower]\n",
        "    print(f\"Debug: Question lower: {question_lower}\")  # Temporary debug\n",
        "    print(f\"Debug: Found states: {found_states}\")  # Temporary debug\n",
        "    state1 = found_states[0] if len(found_states) > 0 else None\n",
        "    state2 = found_states[1] if len(found_states) > 1 else None\n",
        "    crop = None  # Extend for crops if needed\n",
        "    region = None\n",
        "    return {'state1': state1, 'state2': state2, 'crop': crop, 'region': region}\n"
      ]
    },
    {
      "cell_type": "code",
      "execution_count": 9,
      "metadata": {
        "id": "ERZ9vB9Bp7Uo"
      },
      "outputs": [],
      "source": [
        "def answer_question(question):\n",
        "    try:\n",
        "        parsed = parse_question(question)\n",
        "        state1 = parsed.get('state1', '').lower().strip() if parsed.get('state1') else None\n",
        "        state2 = parsed.get('state2', '').lower().strip() if parsed.get('state2') else None\n",
        "\n",
        "        if not state1 or not state2:\n",
        "            return \"Error: Could not parse states from question. Try: 'Compare production in Karnataka and Maharashtra'.\"\n",
        "\n",
        "        n = 5  # Last 5 years\n",
        "        max_year = int(integrated_df['Year'].max())\n",
        "        years = list(range(max_year - n + 1, max_year + 1))\n",
        "\n",
        "        data1 = integrated_df[(integrated_df['State'] == state1) & (integrated_df['Year'].isin(years))]\n",
        "        data2 = integrated_df[(integrated_df['State'] == state2) & (integrated_df['Year'].isin(years))]\n",
        "\n",
        "        if data1.empty or data2.empty:\n",
        "            return f\"Error: No data found for {state1.title()} or {state2.title()} in the last {n} years.\"\n",
        "\n",
        "        question_lower = question.lower()\n",
        "\n",
        "        # Check if the question is about rainfall\n",
        "        if \"rainfall\" in question_lower:\n",
        "            if 'Rainfall_mm' in data1.columns and 'Rainfall_mm' in data2.columns:\n",
        "                avg_rainfall1 = data1['Rainfall_mm'].mean()\n",
        "                avg_rainfall2 = data2['Rainfall_mm'].mean()\n",
        "                answer = f\"Average rainfall in {state1.title()} (last {n} years): {avg_rainfall1:.2f} mm. Average rainfall in {state2.title()} (last {n} years): {avg_rainfall2:.2f} mm. Sources: Climate data from relevant sources.\"\n",
        "            else:\n",
        "                answer = \"Rainfall data not available in the expected format.\"\n",
        "        # Check if the question is about temperature\n",
        "        elif \"temperature\" in question_lower:\n",
        "            if 'Temperature' in data1.columns and 'Temperature' in data2.columns:\n",
        "                avg_temp1 = data1['Temperature'].mean()\n",
        "                avg_temp2 = data2['Temperature'].mean()\n",
        "                answer = f\"Average temperature in {state1.title()} (last {n} years): {avg_temp1:.2f}°C. Average temperature in {state2.title()} (last {n} years): {avg_temp2:.2f}°C. Sources: Climate data from relevant sources.\"\n",
        "            else:\n",
        "                answer = \"Temperature data not available in the expected format.\"\n",
        "        # Check if the question is about humidity\n",
        "        elif \"humidity\" in question_lower:\n",
        "            if 'Humidity ' in data1.columns and 'Humidity ' in data2.columns: # Note the space after Humidity\n",
        "                avg_humidity1 = data1['Humidity '].mean()\n",
        "                avg_humidity2 = data2['Humidity '].mean()\n",
        "                answer = f\"Average humidity in {state1.title()} (last {n} years): {avg_humidity1:.2f}%. Average humidity in {state2.title()} (last {n} years): {avg_humidity2:.2f}%. Sources: Climate data from relevant sources.\"\n",
        "            else:\n",
        "                 answer = \"Humidity data not available in the expected format.\"\n",
        "        # Check if the question is about production\n",
        "        elif \"production\" in question_lower or \"crop\" in question_lower:\n",
        "            # For production: Compare top crops by volume and average production\n",
        "            top_crop1 = data1.groupby('Crop')['Production'].sum().idxmax() if not data1['Crop'].empty else \"No crop data\"\n",
        "            top_prod1 = data1.groupby('Crop')['Production'].sum().max() if not data1['Crop'].empty else 0\n",
        "            top_crop2 = data2.groupby('Crop')['Production'].sum().idxmax() if not data2['Crop'].empty else \"No crop data\"\n",
        "            top_prod2 = data2.groupby('Crop')['Production'].sum().max() if not data2['Crop'].empty else 0\n",
        "            answer = f\"Top produced crop in {state1.title()}: {top_crop1} (Volume: {top_prod1:.2f}). In {state2.title()}: {top_crop2} (Volume: {top_prod2:.2f}). Sources: Crop data from Ministry of Agriculture & Farmers Welfare.\"\n",
        "        else:\n",
        "            answer = \"I can provide information about crop production, rainfall, temperature, or humidity. Please rephrase your question.\"\n",
        "\n",
        "        return answer\n",
        "    except Exception as e:\n",
        "        return f\"Error processing question: {str(e)}. Check data or question format.\""
      ]
    },
    {
      "cell_type": "code",
      "execution_count": 10,
      "metadata": {
        "colab": {
          "base_uri": "https://localhost:8080/"
        },
        "id": "d4s231y-vLMq",
        "outputId": "e859630c-c434-4940-8bac-6546e290a44b"
      },
      "outputs": [
        {
          "output_type": "stream",
          "name": "stdout",
          "text": [
            "Crop DF columns: ['State', 'District', 'Year', 'Season', 'Crop', 'Area', 'Production']\n",
            "Climate DF columns: ['State', 'District', 'Temperature', 'Condition', 'Humidity ', 'Wind Speed', 'Year']\n",
            "Integrated DF columns: ['State', 'District_x', 'Year', 'Season', 'Crop', 'Area', 'Production', 'District_y', 'Temperature', 'Condition', 'Humidity ', 'Wind Speed']\n",
            "                         State District_x  Year       Season  \\\n",
            "0  andaman and nicobar islands          0  1999            0   \n",
            "1  andaman and nicobar islands          0  1999            0   \n",
            "2  andaman and nicobar islands          0  1999            0   \n",
            "3  andaman and nicobar islands   NICOBARS  2000  Kharif        \n",
            "4  andaman and nicobar islands   NICOBARS  2000  Kharif        \n",
            "\n",
            "                  Crop    Area  Production                District_y  \\\n",
            "0                    0     0.0         0.0                   Nicobar   \n",
            "1                    0     0.0         0.0  North and Middle Andaman   \n",
            "2                    0     0.0         0.0             South Andaman   \n",
            "3             Arecanut  1254.0      2000.0                         0   \n",
            "4  Other Kharif pulses     2.0         1.0                         0   \n",
            "\n",
            "   Temperature          Condition  Humidity   Wind Speed  \n",
            "0         27.2  Light rain shower       80.0        27.7  \n",
            "1         27.2  Light rain shower       80.0        27.7  \n",
            "2         27.2  Light rain shower       80.0        27.7  \n",
            "3          0.0                  0        0.0         0.0  \n",
            "4          0.0                  0        0.0         0.0  \n"
          ]
        }
      ],
      "source": [
        "print(\"Crop DF columns:\", crop_df.columns.tolist())\n",
        "print(\"Climate DF columns:\", climate_df.columns.tolist())\n",
        "print(\"Integrated DF columns:\", integrated_df.columns.tolist())\n",
        "print(integrated_df.head())"
      ]
    },
    {
      "cell_type": "markdown",
      "metadata": {
        "id": "W8-JmuextDDL"
      },
      "source": [
        "Test a function  to check if it outputs a response.\n",
        "\n",
        "---\n",
        "\n"
      ]
    },
    {
      "cell_type": "markdown",
      "metadata": {
        "id": "fJBUFjX8zGjS"
      },
      "source": [
        "Humidity"
      ]
    },
    {
      "cell_type": "code",
      "execution_count": 11,
      "metadata": {
        "colab": {
          "base_uri": "https://localhost:8080/"
        },
        "id": "d39cdd83",
        "outputId": "1754ce3f-7187-466d-a1e4-d86c20803f1d"
      },
      "outputs": [
        {
          "output_type": "stream",
          "name": "stdout",
          "text": [
            "Debug: Question lower: compare humidity in andhra pradesh and assam\n",
            "Debug: Found states: ['andhra pradesh', 'assam']\n",
            "Average humidity in Andhra Pradesh (last 5 years): 50.61%. Average humidity in Assam (last 5 years): 39.14%. Sources: Climate data from relevant sources.\n"
          ]
        }
      ],
      "source": [
        "print(answer_question(\"Compare humidity in Andhra Pradesh and Assam\"))"
      ]
    },
    {
      "cell_type": "code",
      "execution_count": 12,
      "metadata": {
        "colab": {
          "base_uri": "https://localhost:8080/"
        },
        "id": "Dx3oytq9tDvz",
        "outputId": "e9f3603a-aad1-414a-829d-cf4c745d0a0b"
      },
      "outputs": [
        {
          "output_type": "stream",
          "name": "stdout",
          "text": [
            "Debug: Question lower: compare humidity in karnataka and maharashtra\n",
            "Debug: Found states: ['karnataka', 'maharashtra']\n",
            "Average humidity in Karnataka (last 5 years): 41.25%. Average humidity in Maharashtra (last 5 years): 17.75%. Sources: Climate data from relevant sources.\n"
          ]
        }
      ],
      "source": [
        "print(answer_question(\"Compare Humidity in Karnataka and Maharashtra\"))"
      ]
    },
    {
      "cell_type": "markdown",
      "metadata": {
        "id": "MwFRj7c7zKPy"
      },
      "source": [
        "production"
      ]
    },
    {
      "cell_type": "code",
      "execution_count": 13,
      "metadata": {
        "colab": {
          "base_uri": "https://localhost:8080/"
        },
        "id": "b33dc139",
        "outputId": "9ccea509-8546-4276-9cf8-61b978ef049b"
      },
      "outputs": [
        {
          "output_type": "stream",
          "name": "stdout",
          "text": [
            "Debug: Question lower: compare production in karnataka and maharashtra\n",
            "Debug: Found states: ['karnataka', 'maharashtra']\n",
            "Top produced crop in Karnataka: Sugarcane (Volume: 551404144.00). In Maharashtra: Sugarcane (Volume: 706435600.00). Sources: Crop data from Ministry of Agriculture & Farmers Welfare.\n"
          ]
        }
      ],
      "source": [
        "print(answer_question(\"Compare production in Karnataka and Maharashtra\"))"
      ]
    },
    {
      "cell_type": "code",
      "execution_count": 14,
      "metadata": {
        "colab": {
          "base_uri": "https://localhost:8080/"
        },
        "id": "lVrQ2gD2z4fy",
        "outputId": "0492f485-ba0a-4587-bbf0-f914c2d5abd2"
      },
      "outputs": [
        {
          "output_type": "stream",
          "name": "stdout",
          "text": [
            "Debug: Question lower: compare production in andhra pradesh and assam\n",
            "Debug: Found states: ['andhra pradesh', 'assam']\n",
            "Top produced crop in Andhra Pradesh: Coconut  (Volume: 21283845445.00). In Assam: Rice (Volume: 66992165.00). Sources: Crop data from Ministry of Agriculture & Farmers Welfare.\n"
          ]
        }
      ],
      "source": [
        "print(answer_question(\"Compare production in Andhra Pradesh and Assam\"))"
      ]
    },
    {
      "cell_type": "markdown",
      "metadata": {
        "id": "yHevInqAzMrt"
      },
      "source": [
        "Rainfall"
      ]
    },
    {
      "cell_type": "code",
      "execution_count": 15,
      "metadata": {
        "colab": {
          "base_uri": "https://localhost:8080/"
        },
        "id": "49cf9296",
        "outputId": "87e227d4-530f-4195-bfb5-81d4a81d1465"
      },
      "outputs": [
        {
          "output_type": "stream",
          "name": "stdout",
          "text": [
            "Debug: Question lower: compare rainfall in karnataka and maharashtra\n",
            "Debug: Found states: ['karnataka', 'maharashtra']\n",
            "Rainfall data not available in the expected format.\n"
          ]
        }
      ],
      "source": [
        "print(answer_question(\"Compare rainfall in Karnataka and Maharashtra\"))"
      ]
    },
    {
      "cell_type": "markdown",
      "metadata": {
        "id": "OQherAYQzR2k"
      },
      "source": [
        "Temperature"
      ]
    },
    {
      "cell_type": "code",
      "execution_count": 16,
      "metadata": {
        "colab": {
          "base_uri": "https://localhost:8080/"
        },
        "id": "c4532721",
        "outputId": "23d6dafa-187b-4599-f988-e0f2f199f78d"
      },
      "outputs": [
        {
          "output_type": "stream",
          "name": "stdout",
          "text": [
            "Debug: Question lower: compare temperature in karnataka and maharashtra\n",
            "Debug: Found states: ['karnataka', 'maharashtra']\n",
            "Average temperature in Karnataka (last 5 years): 18.38°C. Average temperature in Maharashtra (last 5 years): 12.90°C. Sources: Climate data from relevant sources.\n"
          ]
        }
      ],
      "source": [
        "print(answer_question(\"Compare temperature in Karnataka and Maharashtra\"))"
      ]
    },
    {
      "cell_type": "code",
      "execution_count": 17,
      "metadata": {
        "colab": {
          "base_uri": "https://localhost:8080/"
        },
        "id": "l8xaQZEi0Bpv",
        "outputId": "e7139d27-58dc-452a-8a01-7295dc5c4165"
      },
      "outputs": [
        {
          "output_type": "stream",
          "name": "stdout",
          "text": [
            "Debug: Question lower: compare temperature in andhra pradesh and assam\n",
            "Debug: Found states: ['andhra pradesh', 'assam']\n",
            "Average temperature in Andhra Pradesh (last 5 years): 18.95°C. Average temperature in Assam (last 5 years): 14.80°C. Sources: Climate data from relevant sources.\n"
          ]
        }
      ],
      "source": [
        "print(answer_question(\"Compare temperature in Andhra Pradesh and Assam\"))"
      ]
    },
    {
      "cell_type": "markdown",
      "metadata": {
        "id": "OSpvF5b8p_Gc"
      },
      "source": [
        "# Step 5: Front-End with Gradio\n",
        "\n"
      ]
    },
    {
      "cell_type": "code",
      "execution_count": 18,
      "metadata": {
        "colab": {
          "base_uri": "https://localhost:8080/"
        },
        "id": "BXxPFSgS-4nF",
        "outputId": "d7d673c5-38be-4324-f891-f3b417420400"
      },
      "outputs": [
        {
          "output_type": "stream",
          "name": "stdout",
          "text": [
            "Requirement already satisfied: gradio in /usr/local/lib/python3.12/dist-packages (5.49.1)\n",
            "Requirement already satisfied: aiofiles<25.0,>=22.0 in /usr/local/lib/python3.12/dist-packages (from gradio) (24.1.0)\n",
            "Requirement already satisfied: anyio<5.0,>=3.0 in /usr/local/lib/python3.12/dist-packages (from gradio) (4.11.0)\n",
            "Requirement already satisfied: brotli>=1.1.0 in /usr/local/lib/python3.12/dist-packages (from gradio) (1.1.0)\n",
            "Requirement already satisfied: fastapi<1.0,>=0.115.2 in /usr/local/lib/python3.12/dist-packages (from gradio) (0.120.1)\n",
            "Requirement already satisfied: ffmpy in /usr/local/lib/python3.12/dist-packages (from gradio) (0.6.4)\n",
            "Requirement already satisfied: gradio-client==1.13.3 in /usr/local/lib/python3.12/dist-packages (from gradio) (1.13.3)\n",
            "Requirement already satisfied: groovy~=0.1 in /usr/local/lib/python3.12/dist-packages (from gradio) (0.1.2)\n",
            "Requirement already satisfied: httpx<1.0,>=0.24.1 in /usr/local/lib/python3.12/dist-packages (from gradio) (0.28.1)\n",
            "Requirement already satisfied: huggingface-hub<2.0,>=0.33.5 in /usr/local/lib/python3.12/dist-packages (from gradio) (0.36.0)\n",
            "Requirement already satisfied: jinja2<4.0 in /usr/local/lib/python3.12/dist-packages (from gradio) (3.1.6)\n",
            "Requirement already satisfied: markupsafe<4.0,>=2.0 in /usr/local/lib/python3.12/dist-packages (from gradio) (3.0.3)\n",
            "Requirement already satisfied: numpy<3.0,>=1.0 in /usr/local/lib/python3.12/dist-packages (from gradio) (2.0.2)\n",
            "Requirement already satisfied: orjson~=3.0 in /usr/local/lib/python3.12/dist-packages (from gradio) (3.11.4)\n",
            "Requirement already satisfied: packaging in /usr/local/lib/python3.12/dist-packages (from gradio) (25.0)\n",
            "Requirement already satisfied: pandas<3.0,>=1.0 in /usr/local/lib/python3.12/dist-packages (from gradio) (2.2.2)\n",
            "Requirement already satisfied: pillow<12.0,>=8.0 in /usr/local/lib/python3.12/dist-packages (from gradio) (11.3.0)\n",
            "Requirement already satisfied: pydantic<2.12,>=2.0 in /usr/local/lib/python3.12/dist-packages (from gradio) (2.11.10)\n",
            "Requirement already satisfied: pydub in /usr/local/lib/python3.12/dist-packages (from gradio) (0.25.1)\n",
            "Requirement already satisfied: python-multipart>=0.0.18 in /usr/local/lib/python3.12/dist-packages (from gradio) (0.0.20)\n",
            "Requirement already satisfied: pyyaml<7.0,>=5.0 in /usr/local/lib/python3.12/dist-packages (from gradio) (6.0.3)\n",
            "Requirement already satisfied: ruff>=0.9.3 in /usr/local/lib/python3.12/dist-packages (from gradio) (0.14.2)\n",
            "Requirement already satisfied: safehttpx<0.2.0,>=0.1.6 in /usr/local/lib/python3.12/dist-packages (from gradio) (0.1.7)\n",
            "Requirement already satisfied: semantic-version~=2.0 in /usr/local/lib/python3.12/dist-packages (from gradio) (2.10.0)\n",
            "Requirement already satisfied: starlette<1.0,>=0.40.0 in /usr/local/lib/python3.12/dist-packages (from gradio) (0.49.1)\n",
            "Requirement already satisfied: tomlkit<0.14.0,>=0.12.0 in /usr/local/lib/python3.12/dist-packages (from gradio) (0.13.3)\n",
            "Requirement already satisfied: typer<1.0,>=0.12 in /usr/local/lib/python3.12/dist-packages (from gradio) (0.20.0)\n",
            "Requirement already satisfied: typing-extensions~=4.0 in /usr/local/lib/python3.12/dist-packages (from gradio) (4.15.0)\n",
            "Requirement already satisfied: uvicorn>=0.14.0 in /usr/local/lib/python3.12/dist-packages (from gradio) (0.38.0)\n",
            "Requirement already satisfied: fsspec in /usr/local/lib/python3.12/dist-packages (from gradio-client==1.13.3->gradio) (2025.3.0)\n",
            "Requirement already satisfied: websockets<16.0,>=13.0 in /usr/local/lib/python3.12/dist-packages (from gradio-client==1.13.3->gradio) (15.0.1)\n",
            "Requirement already satisfied: idna>=2.8 in /usr/local/lib/python3.12/dist-packages (from anyio<5.0,>=3.0->gradio) (3.11)\n",
            "Requirement already satisfied: sniffio>=1.1 in /usr/local/lib/python3.12/dist-packages (from anyio<5.0,>=3.0->gradio) (1.3.1)\n",
            "Requirement already satisfied: annotated-doc>=0.0.2 in /usr/local/lib/python3.12/dist-packages (from fastapi<1.0,>=0.115.2->gradio) (0.0.3)\n",
            "Requirement already satisfied: certifi in /usr/local/lib/python3.12/dist-packages (from httpx<1.0,>=0.24.1->gradio) (2025.10.5)\n",
            "Requirement already satisfied: httpcore==1.* in /usr/local/lib/python3.12/dist-packages (from httpx<1.0,>=0.24.1->gradio) (1.0.9)\n",
            "Requirement already satisfied: h11>=0.16 in /usr/local/lib/python3.12/dist-packages (from httpcore==1.*->httpx<1.0,>=0.24.1->gradio) (0.16.0)\n",
            "Requirement already satisfied: filelock in /usr/local/lib/python3.12/dist-packages (from huggingface-hub<2.0,>=0.33.5->gradio) (3.20.0)\n",
            "Requirement already satisfied: requests in /usr/local/lib/python3.12/dist-packages (from huggingface-hub<2.0,>=0.33.5->gradio) (2.32.4)\n",
            "Requirement already satisfied: tqdm>=4.42.1 in /usr/local/lib/python3.12/dist-packages (from huggingface-hub<2.0,>=0.33.5->gradio) (4.67.1)\n",
            "Requirement already satisfied: hf-xet<2.0.0,>=1.1.3 in /usr/local/lib/python3.12/dist-packages (from huggingface-hub<2.0,>=0.33.5->gradio) (1.2.0)\n",
            "Requirement already satisfied: python-dateutil>=2.8.2 in /usr/local/lib/python3.12/dist-packages (from pandas<3.0,>=1.0->gradio) (2.9.0.post0)\n",
            "Requirement already satisfied: pytz>=2020.1 in /usr/local/lib/python3.12/dist-packages (from pandas<3.0,>=1.0->gradio) (2025.2)\n",
            "Requirement already satisfied: tzdata>=2022.7 in /usr/local/lib/python3.12/dist-packages (from pandas<3.0,>=1.0->gradio) (2025.2)\n",
            "Requirement already satisfied: annotated-types>=0.6.0 in /usr/local/lib/python3.12/dist-packages (from pydantic<2.12,>=2.0->gradio) (0.7.0)\n",
            "Requirement already satisfied: pydantic-core==2.33.2 in /usr/local/lib/python3.12/dist-packages (from pydantic<2.12,>=2.0->gradio) (2.33.2)\n",
            "Requirement already satisfied: typing-inspection>=0.4.0 in /usr/local/lib/python3.12/dist-packages (from pydantic<2.12,>=2.0->gradio) (0.4.2)\n",
            "Requirement already satisfied: click>=8.0.0 in /usr/local/lib/python3.12/dist-packages (from typer<1.0,>=0.12->gradio) (8.3.0)\n",
            "Requirement already satisfied: shellingham>=1.3.0 in /usr/local/lib/python3.12/dist-packages (from typer<1.0,>=0.12->gradio) (1.5.4)\n",
            "Requirement already satisfied: rich>=10.11.0 in /usr/local/lib/python3.12/dist-packages (from typer<1.0,>=0.12->gradio) (13.9.4)\n",
            "Requirement already satisfied: six>=1.5 in /usr/local/lib/python3.12/dist-packages (from python-dateutil>=2.8.2->pandas<3.0,>=1.0->gradio) (1.17.0)\n",
            "Requirement already satisfied: markdown-it-py>=2.2.0 in /usr/local/lib/python3.12/dist-packages (from rich>=10.11.0->typer<1.0,>=0.12->gradio) (4.0.0)\n",
            "Requirement already satisfied: pygments<3.0.0,>=2.13.0 in /usr/local/lib/python3.12/dist-packages (from rich>=10.11.0->typer<1.0,>=0.12->gradio) (2.19.2)\n",
            "Requirement already satisfied: charset_normalizer<4,>=2 in /usr/local/lib/python3.12/dist-packages (from requests->huggingface-hub<2.0,>=0.33.5->gradio) (3.4.4)\n",
            "Requirement already satisfied: urllib3<3,>=1.21.1 in /usr/local/lib/python3.12/dist-packages (from requests->huggingface-hub<2.0,>=0.33.5->gradio) (2.5.0)\n",
            "Requirement already satisfied: mdurl~=0.1 in /usr/local/lib/python3.12/dist-packages (from markdown-it-py>=2.2.0->rich>=10.11.0->typer<1.0,>=0.12->gradio) (0.1.2)\n"
          ]
        }
      ],
      "source": [
        "!pip install gradio"
      ]
    },
    {
      "cell_type": "markdown",
      "metadata": {
        "id": "3mHCJZPpABJu"
      },
      "source": [
        " OUTPUT :                                                                     \n",
        " In the web interface: Enter a sample question (e.g., \"Compare average Temperature in Karnataka and Maharashtra for the last 5 years\"). Click \"Get Answer\". Verify the response appears with data and citations (e.g., \"Average temperature in Karnataka (last 5 years): 18.38°C. Average temperature in Maharashtra (last 5 years): 12.90°C. Sources: Climate data from relevant sources.\"). Test 2-3 sample questions to ensure end-to-end functionality."
      ]
    },
    {
      "cell_type": "code",
      "execution_count": 19,
      "metadata": {
        "colab": {
          "base_uri": "https://localhost:8080/",
          "height": 611
        },
        "id": "_-_ZIe5F_GIj",
        "outputId": "70d6c550-caa0-4269-b387-b2db5d716592"
      },
      "outputs": [
        {
          "output_type": "stream",
          "name": "stdout",
          "text": [
            "Colab notebook detected. To show errors in colab notebook, set debug=True in launch()\n",
            "* Running on public URL: https://b9c877407b595c7ca0.gradio.live\n",
            "\n",
            "This share link expires in 1 week. For free permanent hosting and GPU upgrades, run `gradio deploy` from the terminal in the working directory to deploy to Hugging Face Spaces (https://huggingface.co/spaces)\n"
          ]
        },
        {
          "output_type": "display_data",
          "data": {
            "text/plain": [
              "<IPython.core.display.HTML object>"
            ],
            "text/html": [
              "<div><iframe src=\"https://b9c877407b595c7ca0.gradio.live\" width=\"100%\" height=\"500\" allow=\"autoplay; camera; microphone; clipboard-read; clipboard-write;\" frameborder=\"0\" allowfullscreen></iframe></div>"
            ]
          },
          "metadata": {}
        },
        {
          "output_type": "execute_result",
          "data": {
            "text/plain": []
          },
          "metadata": {},
          "execution_count": 19
        }
      ],
      "source": [
        "import gradio as gr\n",
        "import pandas as pd\n",
        "from transformers import pipeline\n",
        "\n",
        "# Copy your data loading and functions here (e.g., integrated_df, parse_question, answer_question)\n",
        "\n",
        "def gradio_interface(question):\n",
        "    return answer_question(question)\n",
        "\n",
        "iface = gr.Interface(fn=gradio_interface, inputs=\"text\", outputs=\"text\", title=\"Project Samarth: Agricultural Q&A System\")\n",
        "iface.launch(share=True)  # Generates a public link automatically"
      ]
    },
    {
      "cell_type": "code",
      "source": [
        "!pip install huggingface_hub gradio\n",
        "from huggingface_hub import login\n",
        "login()"
      ],
      "metadata": {
        "colab": {
          "base_uri": "https://localhost:8080/",
          "height": 1000,
          "referenced_widgets": [
            "8ccd71639c65483f93b709be556fe762",
            "9cfc153adfcc408d86e8b23c31433f83",
            "935127f8d067440fac48f9925aa3f2e7",
            "d1f67dec09f847f7954037ca576275ed",
            "9aa472b9bf114fa98000800181323ded",
            "251ae1140a9044b5880b4595381b92df",
            "04afbef050a94a9497dcc0d2ce24fd75",
            "253e85ebb2404592b940aa678cceb24f",
            "a4b7ad9f537e45b286c0ae6b5c3a0af9",
            "908f83b3cc1a40039545c928d288b3bf",
            "d033df30462e46a1b2f071b24ecf25f6",
            "e947f323187a4639889522ab74c95179",
            "ce590aeca0c5431ea7ce2adde9579d8d",
            "a6835d381649442b9359aac1837db5e5",
            "7dc4a4b66be2436bbca770b35a21591f",
            "4853eec23b024947ae7749c9955e5531",
            "7f895753a659485580d213b140b86b5c"
          ]
        },
        "id": "WV3uxCgLV2gD",
        "outputId": "9b5f1fb6-102c-4256-bad5-ef0a46bd044a"
      },
      "execution_count": 2,
      "outputs": [
        {
          "output_type": "stream",
          "name": "stdout",
          "text": [
            "Requirement already satisfied: huggingface_hub in /usr/local/lib/python3.12/dist-packages (0.36.0)\n",
            "Requirement already satisfied: gradio in /usr/local/lib/python3.12/dist-packages (5.49.1)\n",
            "Requirement already satisfied: filelock in /usr/local/lib/python3.12/dist-packages (from huggingface_hub) (3.20.0)\n",
            "Requirement already satisfied: fsspec>=2023.5.0 in /usr/local/lib/python3.12/dist-packages (from huggingface_hub) (2025.3.0)\n",
            "Requirement already satisfied: packaging>=20.9 in /usr/local/lib/python3.12/dist-packages (from huggingface_hub) (25.0)\n",
            "Requirement already satisfied: pyyaml>=5.1 in /usr/local/lib/python3.12/dist-packages (from huggingface_hub) (6.0.3)\n",
            "Requirement already satisfied: requests in /usr/local/lib/python3.12/dist-packages (from huggingface_hub) (2.32.4)\n",
            "Requirement already satisfied: tqdm>=4.42.1 in /usr/local/lib/python3.12/dist-packages (from huggingface_hub) (4.67.1)\n",
            "Requirement already satisfied: typing-extensions>=3.7.4.3 in /usr/local/lib/python3.12/dist-packages (from huggingface_hub) (4.15.0)\n",
            "Requirement already satisfied: hf-xet<2.0.0,>=1.1.3 in /usr/local/lib/python3.12/dist-packages (from huggingface_hub) (1.2.0)\n",
            "Requirement already satisfied: aiofiles<25.0,>=22.0 in /usr/local/lib/python3.12/dist-packages (from gradio) (24.1.0)\n",
            "Requirement already satisfied: anyio<5.0,>=3.0 in /usr/local/lib/python3.12/dist-packages (from gradio) (4.11.0)\n",
            "Requirement already satisfied: brotli>=1.1.0 in /usr/local/lib/python3.12/dist-packages (from gradio) (1.1.0)\n",
            "Requirement already satisfied: fastapi<1.0,>=0.115.2 in /usr/local/lib/python3.12/dist-packages (from gradio) (0.120.1)\n",
            "Requirement already satisfied: ffmpy in /usr/local/lib/python3.12/dist-packages (from gradio) (0.6.4)\n",
            "Requirement already satisfied: gradio-client==1.13.3 in /usr/local/lib/python3.12/dist-packages (from gradio) (1.13.3)\n",
            "Requirement already satisfied: groovy~=0.1 in /usr/local/lib/python3.12/dist-packages (from gradio) (0.1.2)\n",
            "Requirement already satisfied: httpx<1.0,>=0.24.1 in /usr/local/lib/python3.12/dist-packages (from gradio) (0.28.1)\n",
            "Requirement already satisfied: jinja2<4.0 in /usr/local/lib/python3.12/dist-packages (from gradio) (3.1.6)\n",
            "Requirement already satisfied: markupsafe<4.0,>=2.0 in /usr/local/lib/python3.12/dist-packages (from gradio) (3.0.3)\n",
            "Requirement already satisfied: numpy<3.0,>=1.0 in /usr/local/lib/python3.12/dist-packages (from gradio) (2.0.2)\n",
            "Requirement already satisfied: orjson~=3.0 in /usr/local/lib/python3.12/dist-packages (from gradio) (3.11.4)\n",
            "Requirement already satisfied: pandas<3.0,>=1.0 in /usr/local/lib/python3.12/dist-packages (from gradio) (2.2.2)\n",
            "Requirement already satisfied: pillow<12.0,>=8.0 in /usr/local/lib/python3.12/dist-packages (from gradio) (11.3.0)\n",
            "Requirement already satisfied: pydantic<2.12,>=2.0 in /usr/local/lib/python3.12/dist-packages (from gradio) (2.11.10)\n",
            "Requirement already satisfied: pydub in /usr/local/lib/python3.12/dist-packages (from gradio) (0.25.1)\n",
            "Requirement already satisfied: python-multipart>=0.0.18 in /usr/local/lib/python3.12/dist-packages (from gradio) (0.0.20)\n",
            "Requirement already satisfied: ruff>=0.9.3 in /usr/local/lib/python3.12/dist-packages (from gradio) (0.14.2)\n",
            "Requirement already satisfied: safehttpx<0.2.0,>=0.1.6 in /usr/local/lib/python3.12/dist-packages (from gradio) (0.1.7)\n",
            "Requirement already satisfied: semantic-version~=2.0 in /usr/local/lib/python3.12/dist-packages (from gradio) (2.10.0)\n",
            "Requirement already satisfied: starlette<1.0,>=0.40.0 in /usr/local/lib/python3.12/dist-packages (from gradio) (0.49.1)\n",
            "Requirement already satisfied: tomlkit<0.14.0,>=0.12.0 in /usr/local/lib/python3.12/dist-packages (from gradio) (0.13.3)\n",
            "Requirement already satisfied: typer<1.0,>=0.12 in /usr/local/lib/python3.12/dist-packages (from gradio) (0.20.0)\n",
            "Requirement already satisfied: uvicorn>=0.14.0 in /usr/local/lib/python3.12/dist-packages (from gradio) (0.38.0)\n",
            "Requirement already satisfied: websockets<16.0,>=13.0 in /usr/local/lib/python3.12/dist-packages (from gradio-client==1.13.3->gradio) (15.0.1)\n",
            "Requirement already satisfied: idna>=2.8 in /usr/local/lib/python3.12/dist-packages (from anyio<5.0,>=3.0->gradio) (3.11)\n",
            "Requirement already satisfied: sniffio>=1.1 in /usr/local/lib/python3.12/dist-packages (from anyio<5.0,>=3.0->gradio) (1.3.1)\n",
            "Requirement already satisfied: annotated-doc>=0.0.2 in /usr/local/lib/python3.12/dist-packages (from fastapi<1.0,>=0.115.2->gradio) (0.0.3)\n",
            "Requirement already satisfied: certifi in /usr/local/lib/python3.12/dist-packages (from httpx<1.0,>=0.24.1->gradio) (2025.10.5)\n",
            "Requirement already satisfied: httpcore==1.* in /usr/local/lib/python3.12/dist-packages (from httpx<1.0,>=0.24.1->gradio) (1.0.9)\n",
            "Requirement already satisfied: h11>=0.16 in /usr/local/lib/python3.12/dist-packages (from httpcore==1.*->httpx<1.0,>=0.24.1->gradio) (0.16.0)\n",
            "Requirement already satisfied: python-dateutil>=2.8.2 in /usr/local/lib/python3.12/dist-packages (from pandas<3.0,>=1.0->gradio) (2.9.0.post0)\n",
            "Requirement already satisfied: pytz>=2020.1 in /usr/local/lib/python3.12/dist-packages (from pandas<3.0,>=1.0->gradio) (2025.2)\n",
            "Requirement already satisfied: tzdata>=2022.7 in /usr/local/lib/python3.12/dist-packages (from pandas<3.0,>=1.0->gradio) (2025.2)\n",
            "Requirement already satisfied: annotated-types>=0.6.0 in /usr/local/lib/python3.12/dist-packages (from pydantic<2.12,>=2.0->gradio) (0.7.0)\n",
            "Requirement already satisfied: pydantic-core==2.33.2 in /usr/local/lib/python3.12/dist-packages (from pydantic<2.12,>=2.0->gradio) (2.33.2)\n",
            "Requirement already satisfied: typing-inspection>=0.4.0 in /usr/local/lib/python3.12/dist-packages (from pydantic<2.12,>=2.0->gradio) (0.4.2)\n",
            "Requirement already satisfied: click>=8.0.0 in /usr/local/lib/python3.12/dist-packages (from typer<1.0,>=0.12->gradio) (8.3.0)\n",
            "Requirement already satisfied: shellingham>=1.3.0 in /usr/local/lib/python3.12/dist-packages (from typer<1.0,>=0.12->gradio) (1.5.4)\n",
            "Requirement already satisfied: rich>=10.11.0 in /usr/local/lib/python3.12/dist-packages (from typer<1.0,>=0.12->gradio) (13.9.4)\n",
            "Requirement already satisfied: charset_normalizer<4,>=2 in /usr/local/lib/python3.12/dist-packages (from requests->huggingface_hub) (3.4.4)\n",
            "Requirement already satisfied: urllib3<3,>=1.21.1 in /usr/local/lib/python3.12/dist-packages (from requests->huggingface_hub) (2.5.0)\n",
            "Requirement already satisfied: six>=1.5 in /usr/local/lib/python3.12/dist-packages (from python-dateutil>=2.8.2->pandas<3.0,>=1.0->gradio) (1.17.0)\n",
            "Requirement already satisfied: markdown-it-py>=2.2.0 in /usr/local/lib/python3.12/dist-packages (from rich>=10.11.0->typer<1.0,>=0.12->gradio) (4.0.0)\n",
            "Requirement already satisfied: pygments<3.0.0,>=2.13.0 in /usr/local/lib/python3.12/dist-packages (from rich>=10.11.0->typer<1.0,>=0.12->gradio) (2.19.2)\n",
            "Requirement already satisfied: mdurl~=0.1 in /usr/local/lib/python3.12/dist-packages (from markdown-it-py>=2.2.0->rich>=10.11.0->typer<1.0,>=0.12->gradio) (0.1.2)\n"
          ]
        },
        {
          "output_type": "display_data",
          "data": {
            "text/plain": [
              "VBox(children=(HTML(value='<center> <img\\nsrc=https://huggingface.co/front/assets/huggingface_logo-noborder.sv…"
            ],
            "application/vnd.jupyter.widget-view+json": {
              "version_major": 2,
              "version_minor": 0,
              "model_id": "8ccd71639c65483f93b709be556fe762"
            }
          },
          "metadata": {}
        }
      ]
    },
    {
      "cell_type": "code",
      "source": [
        "import gradio as gr\n",
        "import pandas as pd\n",
        "from transformers import pipeline\n",
        "\n",
        "# Load data\n",
        "crop_df = pd.read_csv(\"/content/drive/MyDrive/PROJECT SAMARTH/crop_production.csv\")\n",
        "climate_df = pd.read_csv(\"/content/drive/MyDrive/PROJECT SAMARTH/weather-1.csv\")\n",
        "\n",
        "# Clean & merge\n",
        "crop_df['State'] = crop_df['State'].str.strip().str.lower()\n",
        "climate_df['State'] = climate_df['State'].str.strip().str.lower()\n",
        "integrated_df = pd.merge(crop_df, climate_df, on=['State','Year'], how='outer')\n",
        "integrated_df.fillna(0, inplace=True)\n",
        "\n",
        "# Define Q&A\n",
        "def answer_question(q):\n",
        "    # Copy your existing answer_question function here\n",
        "    # For now, returning a placeholder\n",
        "    try:\n",
        "        parsed = parse_question(q)\n",
        "        state1 = parsed.get('state1', '').lower().strip() if parsed.get('state1') else None\n",
        "        state2 = parsed.get('state2', '').lower().strip() if parsed.get('state2') else None\n",
        "\n",
        "        if not state1 or not state2:\n",
        "            return \"Error: Could not parse states from question. Try: 'Compare production in Karnataka and Maharashtra'.\"\n",
        "\n",
        "        n = 5  # Last 5 years\n",
        "        max_year = int(integrated_df['Year'].max())\n",
        "        years = list(range(max_year - n + 1, max_year + 1))\n",
        "\n",
        "        data1 = integrated_df[(integrated_df['State'] == state1) & (integrated_df['Year'].isin(years))]\n",
        "        data2 = integrated_df[(integrated_df['State'] == state2) & (integrated_df['Year'].isin(years))]\n",
        "\n",
        "        if data1.empty or data2.empty:\n",
        "            return f\"Error: No data found for {state1.title()} or {state2.title()} in the last {n} years.\"\n",
        "\n",
        "        question_lower = q.lower()\n",
        "\n",
        "        # Check if the question is about rainfall\n",
        "        if \"rainfall\" in question_lower:\n",
        "            if 'Rainfall_mm' in data1.columns and 'Rainfall_mm' in data2.columns:\n",
        "                avg_rainfall1 = data1['Rainfall_mm'].mean()\n",
        "                avg_rainfall2 = data2['Rainfall_mm'].mean()\n",
        "                answer = f\"Average rainfall in {state1.title()} (last {n} years): {avg_rainfall1:.2f} mm. Average rainfall in {state2.title()} (last {n} years): {avg_rainfall2:.2f} mm. Sources: Climate data from relevant sources.\"\n",
        "            else:\n",
        "                answer = \"Rainfall data not available in the expected format.\"\n",
        "        # Check if the question is about temperature\n",
        "        elif \"temperature\" in question_lower:\n",
        "            if 'Temperature' in data1.columns and 'Temperature' in data2.columns:\n",
        "                avg_temp1 = data1['Temperature'].mean()\n",
        "                avg_temp2 = data2['Temperature'].mean()\n",
        "                answer = f\"Average temperature in {state1.title()} (last {n} years): {avg_temp1:.2f}°C. Average temperature in {state2.title()} (last {n} years): {avg_temp2:.2f}°C. Sources: Climate data from relevant sources.\"\n",
        "            else:\n",
        "                answer = \"Temperature data not available in the expected format.\"\n",
        "        # Check if the question is about humidity\n",
        "        elif \"humidity\" in question_lower:\n",
        "            if 'Humidity ' in data1.columns and 'Humidity ' in data2.columns: # Note the space after Humidity\n",
        "                avg_humidity1 = data1['Humidity '].mean()\n",
        "                avg_humidity2 = data2['Humidity '].mean()\n",
        "                answer = f\"Average humidity in {state1.title()} (last {n} years): {avg_humidity1:.2f}%. Average humidity in {state2.title()} (last {n} years): {avg_humidity2:.2f}%. Sources: Climate data from relevant sources.\"\n",
        "            else:\n",
        "                 answer = \"Humidity data not available in the expected format.\"\n",
        "        # Check if the question is about production\n",
        "        elif \"production\" in question_lower or \"crop\" in question_lower:\n",
        "            # For production: Compare top crops by volume and average production\n",
        "            top_crop1 = data1.groupby('Crop')['Production'].sum().idxmax() if not data1['Crop'].empty else \"No crop data\"\n",
        "            top_prod1 = data1.groupby('Crop')['Production'].sum().max() if not data1['Crop'].empty else 0\n",
        "            top_crop2 = data2.groupby('Crop')['Production'].sum().idxmax() if not data2['Crop'].empty else \"No crop data\"\n",
        "            top_prod2 = data2.groupby('Crop')['Production'].sum().max() if not data2['Crop'].empty else 0\n",
        "            answer = f\"Top produced crop in {state1.title()}: {top_crop1} (Volume: {top_prod1:.2f}). In {state2.title()}: {top_crop2} (Volume: {top_prod2:.2f}). Sources: Crop data from Ministry of Agriculture & Farmers Welfare.\"\n",
        "        else:\n",
        "            answer = \"I can provide information about crop production, rainfall, temperature, or humidity. Please rephrase your question.\"\n",
        "\n",
        "        return answer\n",
        "    except Exception as e:\n",
        "        return f\"Error processing question: {str(e)}. Check data or question format.\"\n",
        "\n",
        "\n",
        "iface = gr.Interface(fn=answer_question,\n",
        "                     inputs=\"text\",\n",
        "                     outputs=\"text\",\n",
        "                     title=\"Project Samarth – Agricultural Q&A\",\n",
        "                     description=\"Ask about crop production or weather data.\")\n",
        "iface.launch()"
      ],
      "metadata": {
        "colab": {
          "base_uri": "https://localhost:8080/",
          "height": 681
        },
        "id": "CsI_mGopZ6eA",
        "outputId": "e0eb909b-1990-4cc6-ca56-861c7e904045"
      },
      "execution_count": 4,
      "outputs": [
        {
          "output_type": "stream",
          "name": "stderr",
          "text": [
            "/tmp/ipython-input-1053893513.py:7: DtypeWarning: Columns (0,1,3) have mixed types. Specify dtype option on import or set low_memory=False.\n",
            "  climate_df = pd.read_csv(\"/content/drive/MyDrive/PROJECT SAMARTH/weather-1.csv\")\n"
          ]
        },
        {
          "output_type": "stream",
          "name": "stdout",
          "text": [
            "It looks like you are running Gradio on a hosted Jupyter notebook, which requires `share=True`. Automatically setting `share=True` (you can turn this off by setting `share=False` in `launch()` explicitly).\n",
            "\n",
            "Colab notebook detected. To show errors in colab notebook, set debug=True in launch()\n",
            "* Running on public URL: https://5eecd4cbadc1b172b5.gradio.live\n",
            "\n",
            "This share link expires in 1 week. For free permanent hosting and GPU upgrades, run `gradio deploy` from the terminal in the working directory to deploy to Hugging Face Spaces (https://huggingface.co/spaces)\n"
          ]
        },
        {
          "output_type": "display_data",
          "data": {
            "text/plain": [
              "<IPython.core.display.HTML object>"
            ],
            "text/html": [
              "<div><iframe src=\"https://5eecd4cbadc1b172b5.gradio.live\" width=\"100%\" height=\"500\" allow=\"autoplay; camera; microphone; clipboard-read; clipboard-write;\" frameborder=\"0\" allowfullscreen></iframe></div>"
            ]
          },
          "metadata": {}
        },
        {
          "output_type": "execute_result",
          "data": {
            "text/plain": []
          },
          "metadata": {},
          "execution_count": 4
        }
      ]
    },
    {
      "cell_type": "code",
      "source": [
        "import pandas as pd\n",
        "import transformers\n",
        "import gradio\n",
        "\n",
        "print(f\"Pandas version: {pd.__version__}\")\n",
        "print(f\"Transformers version: {transformers.__version__}\")\n",
        "print(f\"Gradio version: {gradio.__version__}\")"
      ],
      "metadata": {
        "colab": {
          "base_uri": "https://localhost:8080/"
        },
        "id": "Xmmr1l4xaX5F",
        "outputId": "88a0cfe0-c05b-485d-c99f-d104a47c7977"
      },
      "execution_count": 6,
      "outputs": [
        {
          "output_type": "stream",
          "name": "stdout",
          "text": [
            "Pandas version: 2.2.2\n",
            "Transformers version: 4.57.1\n",
            "Gradio version: 5.49.1\n"
          ]
        }
      ]
    },
    {
      "cell_type": "code",
      "source": [
        "!git lfs install\n",
        "!huggingface-cli repo create project-samarth --type=space --sdk=gradio\n",
        "!git clone https://huggingface.co/spaces/yourusername/project-samarth\n",
        "!cp app.py requirements.txt crop_production.csv weather-1.csv project-samarth/\n",
        "%cd project-samarth\n",
        "!git add .\n",
        "!git commit -m \"Initial commit for Project Samarth\"\n",
        "!git push"
      ],
      "metadata": {
        "colab": {
          "base_uri": "https://localhost:8080/"
        },
        "id": "inWLV0cSajRE",
        "outputId": "5ca9db63-f059-4115-ae8c-2de4aa33f99b"
      },
      "execution_count": 7,
      "outputs": [
        {
          "output_type": "stream",
          "name": "stdout",
          "text": [
            "Git LFS initialized.\n",
            "usage: huggingface-cli <command> [<args>]\n",
            "huggingface-cli: error: unrecognized arguments: --sdk=gradio\n",
            "Cloning into 'project-samarth'...\n",
            "fatal: could not read Username for 'https://huggingface.co': No such device or address\n",
            "cp: target 'project-samarth/' is not a directory\n",
            "[Errno 2] No such file or directory: 'project-samarth'\n",
            "/content\n",
            "fatal: not a git repository (or any of the parent directories): .git\n",
            "fatal: not a git repository (or any of the parent directories): .git\n",
            "fatal: not a git repository (or any of the parent directories): .git\n"
          ]
        }
      ]
    }
  ],
  "metadata": {
    "accelerator": "GPU",
    "colab": {
      "gpuType": "T4",
      "provenance": []
    },
    "kernelspec": {
      "display_name": "Python 3",
      "name": "python3"
    },
    "language_info": {
      "name": "python"
    },
    "widgets": {
      "application/vnd.jupyter.widget-state+json": {
        "147be2a564694f98a9a495f7adc588e9": {
          "model_module": "@jupyter-widgets/controls",
          "model_name": "HBoxModel",
          "model_module_version": "1.5.0",
          "state": {
            "_dom_classes": [],
            "_model_module": "@jupyter-widgets/controls",
            "_model_module_version": "1.5.0",
            "_model_name": "HBoxModel",
            "_view_count": null,
            "_view_module": "@jupyter-widgets/controls",
            "_view_module_version": "1.5.0",
            "_view_name": "HBoxView",
            "box_style": "",
            "children": [
              "IPY_MODEL_ac6c7381f99a41ab9ea498622e6509a4",
              "IPY_MODEL_2a8b8f7126574fb9af725ff148faea42",
              "IPY_MODEL_b4ec621f524548899e66d945c0d30d1f"
            ],
            "layout": "IPY_MODEL_175f82ba5af04dfebf42e2b4ac155580"
          }
        },
        "ac6c7381f99a41ab9ea498622e6509a4": {
          "model_module": "@jupyter-widgets/controls",
          "model_name": "HTMLModel",
          "model_module_version": "1.5.0",
          "state": {
            "_dom_classes": [],
            "_model_module": "@jupyter-widgets/controls",
            "_model_module_version": "1.5.0",
            "_model_name": "HTMLModel",
            "_view_count": null,
            "_view_module": "@jupyter-widgets/controls",
            "_view_module_version": "1.5.0",
            "_view_name": "HTMLView",
            "description": "",
            "description_tooltip": null,
            "layout": "IPY_MODEL_59271eb35cc44f9a9f50df5326d2b836",
            "placeholder": "​",
            "style": "IPY_MODEL_646cad49e6e14737a3802a50f2613482",
            "value": "config.json: 100%"
          }
        },
        "2a8b8f7126574fb9af725ff148faea42": {
          "model_module": "@jupyter-widgets/controls",
          "model_name": "FloatProgressModel",
          "model_module_version": "1.5.0",
          "state": {
            "_dom_classes": [],
            "_model_module": "@jupyter-widgets/controls",
            "_model_module_version": "1.5.0",
            "_model_name": "FloatProgressModel",
            "_view_count": null,
            "_view_module": "@jupyter-widgets/controls",
            "_view_module_version": "1.5.0",
            "_view_name": "ProgressView",
            "bar_style": "success",
            "description": "",
            "description_tooltip": null,
            "layout": "IPY_MODEL_1529531b89f0482789be3c6c815853d2",
            "max": 998,
            "min": 0,
            "orientation": "horizontal",
            "style": "IPY_MODEL_b0a0d4c51e0f487aba5997634f4a7fbe",
            "value": 998
          }
        },
        "b4ec621f524548899e66d945c0d30d1f": {
          "model_module": "@jupyter-widgets/controls",
          "model_name": "HTMLModel",
          "model_module_version": "1.5.0",
          "state": {
            "_dom_classes": [],
            "_model_module": "@jupyter-widgets/controls",
            "_model_module_version": "1.5.0",
            "_model_name": "HTMLModel",
            "_view_count": null,
            "_view_module": "@jupyter-widgets/controls",
            "_view_module_version": "1.5.0",
            "_view_name": "HTMLView",
            "description": "",
            "description_tooltip": null,
            "layout": "IPY_MODEL_ccdf34e5a90c4c20996eeeb85b3af865",
            "placeholder": "​",
            "style": "IPY_MODEL_ab6219ee0d534f0aa7e9345516c719a6",
            "value": " 998/998 [00:00&lt;00:00, 37.2kB/s]"
          }
        },
        "175f82ba5af04dfebf42e2b4ac155580": {
          "model_module": "@jupyter-widgets/base",
          "model_name": "LayoutModel",
          "model_module_version": "1.2.0",
          "state": {
            "_model_module": "@jupyter-widgets/base",
            "_model_module_version": "1.2.0",
            "_model_name": "LayoutModel",
            "_view_count": null,
            "_view_module": "@jupyter-widgets/base",
            "_view_module_version": "1.2.0",
            "_view_name": "LayoutView",
            "align_content": null,
            "align_items": null,
            "align_self": null,
            "border": null,
            "bottom": null,
            "display": null,
            "flex": null,
            "flex_flow": null,
            "grid_area": null,
            "grid_auto_columns": null,
            "grid_auto_flow": null,
            "grid_auto_rows": null,
            "grid_column": null,
            "grid_gap": null,
            "grid_row": null,
            "grid_template_areas": null,
            "grid_template_columns": null,
            "grid_template_rows": null,
            "height": null,
            "justify_content": null,
            "justify_items": null,
            "left": null,
            "margin": null,
            "max_height": null,
            "max_width": null,
            "min_height": null,
            "min_width": null,
            "object_fit": null,
            "object_position": null,
            "order": null,
            "overflow": null,
            "overflow_x": null,
            "overflow_y": null,
            "padding": null,
            "right": null,
            "top": null,
            "visibility": null,
            "width": null
          }
        },
        "59271eb35cc44f9a9f50df5326d2b836": {
          "model_module": "@jupyter-widgets/base",
          "model_name": "LayoutModel",
          "model_module_version": "1.2.0",
          "state": {
            "_model_module": "@jupyter-widgets/base",
            "_model_module_version": "1.2.0",
            "_model_name": "LayoutModel",
            "_view_count": null,
            "_view_module": "@jupyter-widgets/base",
            "_view_module_version": "1.2.0",
            "_view_name": "LayoutView",
            "align_content": null,
            "align_items": null,
            "align_self": null,
            "border": null,
            "bottom": null,
            "display": null,
            "flex": null,
            "flex_flow": null,
            "grid_area": null,
            "grid_auto_columns": null,
            "grid_auto_flow": null,
            "grid_auto_rows": null,
            "grid_column": null,
            "grid_gap": null,
            "grid_row": null,
            "grid_template_areas": null,
            "grid_template_columns": null,
            "grid_template_rows": null,
            "height": null,
            "justify_content": null,
            "justify_items": null,
            "left": null,
            "margin": null,
            "max_height": null,
            "max_width": null,
            "min_height": null,
            "min_width": null,
            "object_fit": null,
            "object_position": null,
            "order": null,
            "overflow": null,
            "overflow_x": null,
            "overflow_y": null,
            "padding": null,
            "right": null,
            "top": null,
            "visibility": null,
            "width": null
          }
        },
        "646cad49e6e14737a3802a50f2613482": {
          "model_module": "@jupyter-widgets/controls",
          "model_name": "DescriptionStyleModel",
          "model_module_version": "1.5.0",
          "state": {
            "_model_module": "@jupyter-widgets/controls",
            "_model_module_version": "1.5.0",
            "_model_name": "DescriptionStyleModel",
            "_view_count": null,
            "_view_module": "@jupyter-widgets/base",
            "_view_module_version": "1.2.0",
            "_view_name": "StyleView",
            "description_width": ""
          }
        },
        "1529531b89f0482789be3c6c815853d2": {
          "model_module": "@jupyter-widgets/base",
          "model_name": "LayoutModel",
          "model_module_version": "1.2.0",
          "state": {
            "_model_module": "@jupyter-widgets/base",
            "_model_module_version": "1.2.0",
            "_model_name": "LayoutModel",
            "_view_count": null,
            "_view_module": "@jupyter-widgets/base",
            "_view_module_version": "1.2.0",
            "_view_name": "LayoutView",
            "align_content": null,
            "align_items": null,
            "align_self": null,
            "border": null,
            "bottom": null,
            "display": null,
            "flex": null,
            "flex_flow": null,
            "grid_area": null,
            "grid_auto_columns": null,
            "grid_auto_flow": null,
            "grid_auto_rows": null,
            "grid_column": null,
            "grid_gap": null,
            "grid_row": null,
            "grid_template_areas": null,
            "grid_template_columns": null,
            "grid_template_rows": null,
            "height": null,
            "justify_content": null,
            "justify_items": null,
            "left": null,
            "margin": null,
            "max_height": null,
            "max_width": null,
            "min_height": null,
            "min_width": null,
            "object_fit": null,
            "object_position": null,
            "order": null,
            "overflow": null,
            "overflow_x": null,
            "overflow_y": null,
            "padding": null,
            "right": null,
            "top": null,
            "visibility": null,
            "width": null
          }
        },
        "b0a0d4c51e0f487aba5997634f4a7fbe": {
          "model_module": "@jupyter-widgets/controls",
          "model_name": "ProgressStyleModel",
          "model_module_version": "1.5.0",
          "state": {
            "_model_module": "@jupyter-widgets/controls",
            "_model_module_version": "1.5.0",
            "_model_name": "ProgressStyleModel",
            "_view_count": null,
            "_view_module": "@jupyter-widgets/base",
            "_view_module_version": "1.2.0",
            "_view_name": "StyleView",
            "bar_color": null,
            "description_width": ""
          }
        },
        "ccdf34e5a90c4c20996eeeb85b3af865": {
          "model_module": "@jupyter-widgets/base",
          "model_name": "LayoutModel",
          "model_module_version": "1.2.0",
          "state": {
            "_model_module": "@jupyter-widgets/base",
            "_model_module_version": "1.2.0",
            "_model_name": "LayoutModel",
            "_view_count": null,
            "_view_module": "@jupyter-widgets/base",
            "_view_module_version": "1.2.0",
            "_view_name": "LayoutView",
            "align_content": null,
            "align_items": null,
            "align_self": null,
            "border": null,
            "bottom": null,
            "display": null,
            "flex": null,
            "flex_flow": null,
            "grid_area": null,
            "grid_auto_columns": null,
            "grid_auto_flow": null,
            "grid_auto_rows": null,
            "grid_column": null,
            "grid_gap": null,
            "grid_row": null,
            "grid_template_areas": null,
            "grid_template_columns": null,
            "grid_template_rows": null,
            "height": null,
            "justify_content": null,
            "justify_items": null,
            "left": null,
            "margin": null,
            "max_height": null,
            "max_width": null,
            "min_height": null,
            "min_width": null,
            "object_fit": null,
            "object_position": null,
            "order": null,
            "overflow": null,
            "overflow_x": null,
            "overflow_y": null,
            "padding": null,
            "right": null,
            "top": null,
            "visibility": null,
            "width": null
          }
        },
        "ab6219ee0d534f0aa7e9345516c719a6": {
          "model_module": "@jupyter-widgets/controls",
          "model_name": "DescriptionStyleModel",
          "model_module_version": "1.5.0",
          "state": {
            "_model_module": "@jupyter-widgets/controls",
            "_model_module_version": "1.5.0",
            "_model_name": "DescriptionStyleModel",
            "_view_count": null,
            "_view_module": "@jupyter-widgets/base",
            "_view_module_version": "1.2.0",
            "_view_name": "StyleView",
            "description_width": ""
          }
        },
        "55e3796a858f4f08b176cd520c1d1bbf": {
          "model_module": "@jupyter-widgets/controls",
          "model_name": "HBoxModel",
          "model_module_version": "1.5.0",
          "state": {
            "_dom_classes": [],
            "_model_module": "@jupyter-widgets/controls",
            "_model_module_version": "1.5.0",
            "_model_name": "HBoxModel",
            "_view_count": null,
            "_view_module": "@jupyter-widgets/controls",
            "_view_module_version": "1.5.0",
            "_view_name": "HBoxView",
            "box_style": "",
            "children": [
              "IPY_MODEL_60dcfdf2cf1147fc8288b53f899c4361",
              "IPY_MODEL_699fa16dd64641aa83e9ac9f7197c114",
              "IPY_MODEL_1816c3434fb34abcb66696db8deeb10a"
            ],
            "layout": "IPY_MODEL_0e653cb2afc5448891835ecffcdf92f1"
          }
        },
        "60dcfdf2cf1147fc8288b53f899c4361": {
          "model_module": "@jupyter-widgets/controls",
          "model_name": "HTMLModel",
          "model_module_version": "1.5.0",
          "state": {
            "_dom_classes": [],
            "_model_module": "@jupyter-widgets/controls",
            "_model_module_version": "1.5.0",
            "_model_name": "HTMLModel",
            "_view_count": null,
            "_view_module": "@jupyter-widgets/controls",
            "_view_module_version": "1.5.0",
            "_view_name": "HTMLView",
            "description": "",
            "description_tooltip": null,
            "layout": "IPY_MODEL_5ed89093390f4bae8aed29a2359f8d90",
            "placeholder": "​",
            "style": "IPY_MODEL_8dce5dfa2fe74d30be53d592c36086b6",
            "value": "model.safetensors: 100%"
          }
        },
        "699fa16dd64641aa83e9ac9f7197c114": {
          "model_module": "@jupyter-widgets/controls",
          "model_name": "FloatProgressModel",
          "model_module_version": "1.5.0",
          "state": {
            "_dom_classes": [],
            "_model_module": "@jupyter-widgets/controls",
            "_model_module_version": "1.5.0",
            "_model_name": "FloatProgressModel",
            "_view_count": null,
            "_view_module": "@jupyter-widgets/controls",
            "_view_module_version": "1.5.0",
            "_view_name": "ProgressView",
            "bar_style": "success",
            "description": "",
            "description_tooltip": null,
            "layout": "IPY_MODEL_58e185b864754fcbbde0b04c2ba65a07",
            "max": 1334400964,
            "min": 0,
            "orientation": "horizontal",
            "style": "IPY_MODEL_ce7283d214e14fab89708d3492945773",
            "value": 1334400964
          }
        },
        "1816c3434fb34abcb66696db8deeb10a": {
          "model_module": "@jupyter-widgets/controls",
          "model_name": "HTMLModel",
          "model_module_version": "1.5.0",
          "state": {
            "_dom_classes": [],
            "_model_module": "@jupyter-widgets/controls",
            "_model_module_version": "1.5.0",
            "_model_name": "HTMLModel",
            "_view_count": null,
            "_view_module": "@jupyter-widgets/controls",
            "_view_module_version": "1.5.0",
            "_view_name": "HTMLView",
            "description": "",
            "description_tooltip": null,
            "layout": "IPY_MODEL_8296111c0e834cb6a6013d945caca8b5",
            "placeholder": "​",
            "style": "IPY_MODEL_79ef0f68f45149e4b5619aafc6df72bd",
            "value": " 1.33G/1.33G [00:14&lt;00:00, 126MB/s]"
          }
        },
        "0e653cb2afc5448891835ecffcdf92f1": {
          "model_module": "@jupyter-widgets/base",
          "model_name": "LayoutModel",
          "model_module_version": "1.2.0",
          "state": {
            "_model_module": "@jupyter-widgets/base",
            "_model_module_version": "1.2.0",
            "_model_name": "LayoutModel",
            "_view_count": null,
            "_view_module": "@jupyter-widgets/base",
            "_view_module_version": "1.2.0",
            "_view_name": "LayoutView",
            "align_content": null,
            "align_items": null,
            "align_self": null,
            "border": null,
            "bottom": null,
            "display": null,
            "flex": null,
            "flex_flow": null,
            "grid_area": null,
            "grid_auto_columns": null,
            "grid_auto_flow": null,
            "grid_auto_rows": null,
            "grid_column": null,
            "grid_gap": null,
            "grid_row": null,
            "grid_template_areas": null,
            "grid_template_columns": null,
            "grid_template_rows": null,
            "height": null,
            "justify_content": null,
            "justify_items": null,
            "left": null,
            "margin": null,
            "max_height": null,
            "max_width": null,
            "min_height": null,
            "min_width": null,
            "object_fit": null,
            "object_position": null,
            "order": null,
            "overflow": null,
            "overflow_x": null,
            "overflow_y": null,
            "padding": null,
            "right": null,
            "top": null,
            "visibility": null,
            "width": null
          }
        },
        "5ed89093390f4bae8aed29a2359f8d90": {
          "model_module": "@jupyter-widgets/base",
          "model_name": "LayoutModel",
          "model_module_version": "1.2.0",
          "state": {
            "_model_module": "@jupyter-widgets/base",
            "_model_module_version": "1.2.0",
            "_model_name": "LayoutModel",
            "_view_count": null,
            "_view_module": "@jupyter-widgets/base",
            "_view_module_version": "1.2.0",
            "_view_name": "LayoutView",
            "align_content": null,
            "align_items": null,
            "align_self": null,
            "border": null,
            "bottom": null,
            "display": null,
            "flex": null,
            "flex_flow": null,
            "grid_area": null,
            "grid_auto_columns": null,
            "grid_auto_flow": null,
            "grid_auto_rows": null,
            "grid_column": null,
            "grid_gap": null,
            "grid_row": null,
            "grid_template_areas": null,
            "grid_template_columns": null,
            "grid_template_rows": null,
            "height": null,
            "justify_content": null,
            "justify_items": null,
            "left": null,
            "margin": null,
            "max_height": null,
            "max_width": null,
            "min_height": null,
            "min_width": null,
            "object_fit": null,
            "object_position": null,
            "order": null,
            "overflow": null,
            "overflow_x": null,
            "overflow_y": null,
            "padding": null,
            "right": null,
            "top": null,
            "visibility": null,
            "width": null
          }
        },
        "8dce5dfa2fe74d30be53d592c36086b6": {
          "model_module": "@jupyter-widgets/controls",
          "model_name": "DescriptionStyleModel",
          "model_module_version": "1.5.0",
          "state": {
            "_model_module": "@jupyter-widgets/controls",
            "_model_module_version": "1.5.0",
            "_model_name": "DescriptionStyleModel",
            "_view_count": null,
            "_view_module": "@jupyter-widgets/base",
            "_view_module_version": "1.2.0",
            "_view_name": "StyleView",
            "description_width": ""
          }
        },
        "58e185b864754fcbbde0b04c2ba65a07": {
          "model_module": "@jupyter-widgets/base",
          "model_name": "LayoutModel",
          "model_module_version": "1.2.0",
          "state": {
            "_model_module": "@jupyter-widgets/base",
            "_model_module_version": "1.2.0",
            "_model_name": "LayoutModel",
            "_view_count": null,
            "_view_module": "@jupyter-widgets/base",
            "_view_module_version": "1.2.0",
            "_view_name": "LayoutView",
            "align_content": null,
            "align_items": null,
            "align_self": null,
            "border": null,
            "bottom": null,
            "display": null,
            "flex": null,
            "flex_flow": null,
            "grid_area": null,
            "grid_auto_columns": null,
            "grid_auto_flow": null,
            "grid_auto_rows": null,
            "grid_column": null,
            "grid_gap": null,
            "grid_row": null,
            "grid_template_areas": null,
            "grid_template_columns": null,
            "grid_template_rows": null,
            "height": null,
            "justify_content": null,
            "justify_items": null,
            "left": null,
            "margin": null,
            "max_height": null,
            "max_width": null,
            "min_height": null,
            "min_width": null,
            "object_fit": null,
            "object_position": null,
            "order": null,
            "overflow": null,
            "overflow_x": null,
            "overflow_y": null,
            "padding": null,
            "right": null,
            "top": null,
            "visibility": null,
            "width": null
          }
        },
        "ce7283d214e14fab89708d3492945773": {
          "model_module": "@jupyter-widgets/controls",
          "model_name": "ProgressStyleModel",
          "model_module_version": "1.5.0",
          "state": {
            "_model_module": "@jupyter-widgets/controls",
            "_model_module_version": "1.5.0",
            "_model_name": "ProgressStyleModel",
            "_view_count": null,
            "_view_module": "@jupyter-widgets/base",
            "_view_module_version": "1.2.0",
            "_view_name": "StyleView",
            "bar_color": null,
            "description_width": ""
          }
        },
        "8296111c0e834cb6a6013d945caca8b5": {
          "model_module": "@jupyter-widgets/base",
          "model_name": "LayoutModel",
          "model_module_version": "1.2.0",
          "state": {
            "_model_module": "@jupyter-widgets/base",
            "_model_module_version": "1.2.0",
            "_model_name": "LayoutModel",
            "_view_count": null,
            "_view_module": "@jupyter-widgets/base",
            "_view_module_version": "1.2.0",
            "_view_name": "LayoutView",
            "align_content": null,
            "align_items": null,
            "align_self": null,
            "border": null,
            "bottom": null,
            "display": null,
            "flex": null,
            "flex_flow": null,
            "grid_area": null,
            "grid_auto_columns": null,
            "grid_auto_flow": null,
            "grid_auto_rows": null,
            "grid_column": null,
            "grid_gap": null,
            "grid_row": null,
            "grid_template_areas": null,
            "grid_template_columns": null,
            "grid_template_rows": null,
            "height": null,
            "justify_content": null,
            "justify_items": null,
            "left": null,
            "margin": null,
            "max_height": null,
            "max_width": null,
            "min_height": null,
            "min_width": null,
            "object_fit": null,
            "object_position": null,
            "order": null,
            "overflow": null,
            "overflow_x": null,
            "overflow_y": null,
            "padding": null,
            "right": null,
            "top": null,
            "visibility": null,
            "width": null
          }
        },
        "79ef0f68f45149e4b5619aafc6df72bd": {
          "model_module": "@jupyter-widgets/controls",
          "model_name": "DescriptionStyleModel",
          "model_module_version": "1.5.0",
          "state": {
            "_model_module": "@jupyter-widgets/controls",
            "_model_module_version": "1.5.0",
            "_model_name": "DescriptionStyleModel",
            "_view_count": null,
            "_view_module": "@jupyter-widgets/base",
            "_view_module_version": "1.2.0",
            "_view_name": "StyleView",
            "description_width": ""
          }
        },
        "3d242904c65747309dae458c646033d7": {
          "model_module": "@jupyter-widgets/controls",
          "model_name": "HBoxModel",
          "model_module_version": "1.5.0",
          "state": {
            "_dom_classes": [],
            "_model_module": "@jupyter-widgets/controls",
            "_model_module_version": "1.5.0",
            "_model_name": "HBoxModel",
            "_view_count": null,
            "_view_module": "@jupyter-widgets/controls",
            "_view_module_version": "1.5.0",
            "_view_name": "HBoxView",
            "box_style": "",
            "children": [
              "IPY_MODEL_f39dff6328804897a1c0ddcb605c0080",
              "IPY_MODEL_0acba03dd33a4aa7bec3029037b2acd8",
              "IPY_MODEL_67795041877e4276a28904ac776bdb52"
            ],
            "layout": "IPY_MODEL_df9d172aa608412da7da2bf8b0abf7dc"
          }
        },
        "f39dff6328804897a1c0ddcb605c0080": {
          "model_module": "@jupyter-widgets/controls",
          "model_name": "HTMLModel",
          "model_module_version": "1.5.0",
          "state": {
            "_dom_classes": [],
            "_model_module": "@jupyter-widgets/controls",
            "_model_module_version": "1.5.0",
            "_model_name": "HTMLModel",
            "_view_count": null,
            "_view_module": "@jupyter-widgets/controls",
            "_view_module_version": "1.5.0",
            "_view_name": "HTMLView",
            "description": "",
            "description_tooltip": null,
            "layout": "IPY_MODEL_229f3d7a2798466dad9388f837c341a0",
            "placeholder": "​",
            "style": "IPY_MODEL_0ccbd90622174eaea813a8a89d5fe43a",
            "value": "tokenizer_config.json: 100%"
          }
        },
        "0acba03dd33a4aa7bec3029037b2acd8": {
          "model_module": "@jupyter-widgets/controls",
          "model_name": "FloatProgressModel",
          "model_module_version": "1.5.0",
          "state": {
            "_dom_classes": [],
            "_model_module": "@jupyter-widgets/controls",
            "_model_module_version": "1.5.0",
            "_model_name": "FloatProgressModel",
            "_view_count": null,
            "_view_module": "@jupyter-widgets/controls",
            "_view_module_version": "1.5.0",
            "_view_name": "ProgressView",
            "bar_style": "success",
            "description": "",
            "description_tooltip": null,
            "layout": "IPY_MODEL_5cd6af1518784e8ebc720061cf6485bc",
            "max": 60,
            "min": 0,
            "orientation": "horizontal",
            "style": "IPY_MODEL_0c0bd05476ea4c3ca7425e74acb1f907",
            "value": 60
          }
        },
        "67795041877e4276a28904ac776bdb52": {
          "model_module": "@jupyter-widgets/controls",
          "model_name": "HTMLModel",
          "model_module_version": "1.5.0",
          "state": {
            "_dom_classes": [],
            "_model_module": "@jupyter-widgets/controls",
            "_model_module_version": "1.5.0",
            "_model_name": "HTMLModel",
            "_view_count": null,
            "_view_module": "@jupyter-widgets/controls",
            "_view_module_version": "1.5.0",
            "_view_name": "HTMLView",
            "description": "",
            "description_tooltip": null,
            "layout": "IPY_MODEL_fbe91855d58841f8b8d0445750328ce9",
            "placeholder": "​",
            "style": "IPY_MODEL_3dc1bdea00614b04acd064d14df1a7e3",
            "value": " 60.0/60.0 [00:00&lt;00:00, 2.39kB/s]"
          }
        },
        "df9d172aa608412da7da2bf8b0abf7dc": {
          "model_module": "@jupyter-widgets/base",
          "model_name": "LayoutModel",
          "model_module_version": "1.2.0",
          "state": {
            "_model_module": "@jupyter-widgets/base",
            "_model_module_version": "1.2.0",
            "_model_name": "LayoutModel",
            "_view_count": null,
            "_view_module": "@jupyter-widgets/base",
            "_view_module_version": "1.2.0",
            "_view_name": "LayoutView",
            "align_content": null,
            "align_items": null,
            "align_self": null,
            "border": null,
            "bottom": null,
            "display": null,
            "flex": null,
            "flex_flow": null,
            "grid_area": null,
            "grid_auto_columns": null,
            "grid_auto_flow": null,
            "grid_auto_rows": null,
            "grid_column": null,
            "grid_gap": null,
            "grid_row": null,
            "grid_template_areas": null,
            "grid_template_columns": null,
            "grid_template_rows": null,
            "height": null,
            "justify_content": null,
            "justify_items": null,
            "left": null,
            "margin": null,
            "max_height": null,
            "max_width": null,
            "min_height": null,
            "min_width": null,
            "object_fit": null,
            "object_position": null,
            "order": null,
            "overflow": null,
            "overflow_x": null,
            "overflow_y": null,
            "padding": null,
            "right": null,
            "top": null,
            "visibility": null,
            "width": null
          }
        },
        "229f3d7a2798466dad9388f837c341a0": {
          "model_module": "@jupyter-widgets/base",
          "model_name": "LayoutModel",
          "model_module_version": "1.2.0",
          "state": {
            "_model_module": "@jupyter-widgets/base",
            "_model_module_version": "1.2.0",
            "_model_name": "LayoutModel",
            "_view_count": null,
            "_view_module": "@jupyter-widgets/base",
            "_view_module_version": "1.2.0",
            "_view_name": "LayoutView",
            "align_content": null,
            "align_items": null,
            "align_self": null,
            "border": null,
            "bottom": null,
            "display": null,
            "flex": null,
            "flex_flow": null,
            "grid_area": null,
            "grid_auto_columns": null,
            "grid_auto_flow": null,
            "grid_auto_rows": null,
            "grid_column": null,
            "grid_gap": null,
            "grid_row": null,
            "grid_template_areas": null,
            "grid_template_columns": null,
            "grid_template_rows": null,
            "height": null,
            "justify_content": null,
            "justify_items": null,
            "left": null,
            "margin": null,
            "max_height": null,
            "max_width": null,
            "min_height": null,
            "min_width": null,
            "object_fit": null,
            "object_position": null,
            "order": null,
            "overflow": null,
            "overflow_x": null,
            "overflow_y": null,
            "padding": null,
            "right": null,
            "top": null,
            "visibility": null,
            "width": null
          }
        },
        "0ccbd90622174eaea813a8a89d5fe43a": {
          "model_module": "@jupyter-widgets/controls",
          "model_name": "DescriptionStyleModel",
          "model_module_version": "1.5.0",
          "state": {
            "_model_module": "@jupyter-widgets/controls",
            "_model_module_version": "1.5.0",
            "_model_name": "DescriptionStyleModel",
            "_view_count": null,
            "_view_module": "@jupyter-widgets/base",
            "_view_module_version": "1.2.0",
            "_view_name": "StyleView",
            "description_width": ""
          }
        },
        "5cd6af1518784e8ebc720061cf6485bc": {
          "model_module": "@jupyter-widgets/base",
          "model_name": "LayoutModel",
          "model_module_version": "1.2.0",
          "state": {
            "_model_module": "@jupyter-widgets/base",
            "_model_module_version": "1.2.0",
            "_model_name": "LayoutModel",
            "_view_count": null,
            "_view_module": "@jupyter-widgets/base",
            "_view_module_version": "1.2.0",
            "_view_name": "LayoutView",
            "align_content": null,
            "align_items": null,
            "align_self": null,
            "border": null,
            "bottom": null,
            "display": null,
            "flex": null,
            "flex_flow": null,
            "grid_area": null,
            "grid_auto_columns": null,
            "grid_auto_flow": null,
            "grid_auto_rows": null,
            "grid_column": null,
            "grid_gap": null,
            "grid_row": null,
            "grid_template_areas": null,
            "grid_template_columns": null,
            "grid_template_rows": null,
            "height": null,
            "justify_content": null,
            "justify_items": null,
            "left": null,
            "margin": null,
            "max_height": null,
            "max_width": null,
            "min_height": null,
            "min_width": null,
            "object_fit": null,
            "object_position": null,
            "order": null,
            "overflow": null,
            "overflow_x": null,
            "overflow_y": null,
            "padding": null,
            "right": null,
            "top": null,
            "visibility": null,
            "width": null
          }
        },
        "0c0bd05476ea4c3ca7425e74acb1f907": {
          "model_module": "@jupyter-widgets/controls",
          "model_name": "ProgressStyleModel",
          "model_module_version": "1.5.0",
          "state": {
            "_model_module": "@jupyter-widgets/controls",
            "_model_module_version": "1.5.0",
            "_model_name": "ProgressStyleModel",
            "_view_count": null,
            "_view_module": "@jupyter-widgets/base",
            "_view_module_version": "1.2.0",
            "_view_name": "StyleView",
            "bar_color": null,
            "description_width": ""
          }
        },
        "fbe91855d58841f8b8d0445750328ce9": {
          "model_module": "@jupyter-widgets/base",
          "model_name": "LayoutModel",
          "model_module_version": "1.2.0",
          "state": {
            "_model_module": "@jupyter-widgets/base",
            "_model_module_version": "1.2.0",
            "_model_name": "LayoutModel",
            "_view_count": null,
            "_view_module": "@jupyter-widgets/base",
            "_view_module_version": "1.2.0",
            "_view_name": "LayoutView",
            "align_content": null,
            "align_items": null,
            "align_self": null,
            "border": null,
            "bottom": null,
            "display": null,
            "flex": null,
            "flex_flow": null,
            "grid_area": null,
            "grid_auto_columns": null,
            "grid_auto_flow": null,
            "grid_auto_rows": null,
            "grid_column": null,
            "grid_gap": null,
            "grid_row": null,
            "grid_template_areas": null,
            "grid_template_columns": null,
            "grid_template_rows": null,
            "height": null,
            "justify_content": null,
            "justify_items": null,
            "left": null,
            "margin": null,
            "max_height": null,
            "max_width": null,
            "min_height": null,
            "min_width": null,
            "object_fit": null,
            "object_position": null,
            "order": null,
            "overflow": null,
            "overflow_x": null,
            "overflow_y": null,
            "padding": null,
            "right": null,
            "top": null,
            "visibility": null,
            "width": null
          }
        },
        "3dc1bdea00614b04acd064d14df1a7e3": {
          "model_module": "@jupyter-widgets/controls",
          "model_name": "DescriptionStyleModel",
          "model_module_version": "1.5.0",
          "state": {
            "_model_module": "@jupyter-widgets/controls",
            "_model_module_version": "1.5.0",
            "_model_name": "DescriptionStyleModel",
            "_view_count": null,
            "_view_module": "@jupyter-widgets/base",
            "_view_module_version": "1.2.0",
            "_view_name": "StyleView",
            "description_width": ""
          }
        },
        "cee05dc673924c73a0a5da96a7c9acee": {
          "model_module": "@jupyter-widgets/controls",
          "model_name": "HBoxModel",
          "model_module_version": "1.5.0",
          "state": {
            "_dom_classes": [],
            "_model_module": "@jupyter-widgets/controls",
            "_model_module_version": "1.5.0",
            "_model_name": "HBoxModel",
            "_view_count": null,
            "_view_module": "@jupyter-widgets/controls",
            "_view_module_version": "1.5.0",
            "_view_name": "HBoxView",
            "box_style": "",
            "children": [
              "IPY_MODEL_18b83eeca6d849898149a77e1baa50e6",
              "IPY_MODEL_ccd3005e206a46a88b37cd7e1fb460e0",
              "IPY_MODEL_f5ba8ea20cd34734a34002b5e4f52fcd"
            ],
            "layout": "IPY_MODEL_db31f7d55a2c4b488a231b248344e672"
          }
        },
        "18b83eeca6d849898149a77e1baa50e6": {
          "model_module": "@jupyter-widgets/controls",
          "model_name": "HTMLModel",
          "model_module_version": "1.5.0",
          "state": {
            "_dom_classes": [],
            "_model_module": "@jupyter-widgets/controls",
            "_model_module_version": "1.5.0",
            "_model_name": "HTMLModel",
            "_view_count": null,
            "_view_module": "@jupyter-widgets/controls",
            "_view_module_version": "1.5.0",
            "_view_name": "HTMLView",
            "description": "",
            "description_tooltip": null,
            "layout": "IPY_MODEL_efe0ae1f6c0b4fbd85c9b45ac44225dc",
            "placeholder": "​",
            "style": "IPY_MODEL_5a2784886c1d45d285235278a07d9423",
            "value": "vocab.txt: "
          }
        },
        "ccd3005e206a46a88b37cd7e1fb460e0": {
          "model_module": "@jupyter-widgets/controls",
          "model_name": "FloatProgressModel",
          "model_module_version": "1.5.0",
          "state": {
            "_dom_classes": [],
            "_model_module": "@jupyter-widgets/controls",
            "_model_module_version": "1.5.0",
            "_model_name": "FloatProgressModel",
            "_view_count": null,
            "_view_module": "@jupyter-widgets/controls",
            "_view_module_version": "1.5.0",
            "_view_name": "ProgressView",
            "bar_style": "success",
            "description": "",
            "description_tooltip": null,
            "layout": "IPY_MODEL_abae07742160426d9a497d689b6aff47",
            "max": 1,
            "min": 0,
            "orientation": "horizontal",
            "style": "IPY_MODEL_526c5302c16d4e68a6fce99b71caf579",
            "value": 1
          }
        },
        "f5ba8ea20cd34734a34002b5e4f52fcd": {
          "model_module": "@jupyter-widgets/controls",
          "model_name": "HTMLModel",
          "model_module_version": "1.5.0",
          "state": {
            "_dom_classes": [],
            "_model_module": "@jupyter-widgets/controls",
            "_model_module_version": "1.5.0",
            "_model_name": "HTMLModel",
            "_view_count": null,
            "_view_module": "@jupyter-widgets/controls",
            "_view_module_version": "1.5.0",
            "_view_name": "HTMLView",
            "description": "",
            "description_tooltip": null,
            "layout": "IPY_MODEL_45899a65ba5641c080916e35d1465b09",
            "placeholder": "​",
            "style": "IPY_MODEL_3fdc7ed92585403d8fec53d9ca72921e",
            "value": " 213k/? [00:00&lt;00:00, 3.34MB/s]"
          }
        },
        "db31f7d55a2c4b488a231b248344e672": {
          "model_module": "@jupyter-widgets/base",
          "model_name": "LayoutModel",
          "model_module_version": "1.2.0",
          "state": {
            "_model_module": "@jupyter-widgets/base",
            "_model_module_version": "1.2.0",
            "_model_name": "LayoutModel",
            "_view_count": null,
            "_view_module": "@jupyter-widgets/base",
            "_view_module_version": "1.2.0",
            "_view_name": "LayoutView",
            "align_content": null,
            "align_items": null,
            "align_self": null,
            "border": null,
            "bottom": null,
            "display": null,
            "flex": null,
            "flex_flow": null,
            "grid_area": null,
            "grid_auto_columns": null,
            "grid_auto_flow": null,
            "grid_auto_rows": null,
            "grid_column": null,
            "grid_gap": null,
            "grid_row": null,
            "grid_template_areas": null,
            "grid_template_columns": null,
            "grid_template_rows": null,
            "height": null,
            "justify_content": null,
            "justify_items": null,
            "left": null,
            "margin": null,
            "max_height": null,
            "max_width": null,
            "min_height": null,
            "min_width": null,
            "object_fit": null,
            "object_position": null,
            "order": null,
            "overflow": null,
            "overflow_x": null,
            "overflow_y": null,
            "padding": null,
            "right": null,
            "top": null,
            "visibility": null,
            "width": null
          }
        },
        "efe0ae1f6c0b4fbd85c9b45ac44225dc": {
          "model_module": "@jupyter-widgets/base",
          "model_name": "LayoutModel",
          "model_module_version": "1.2.0",
          "state": {
            "_model_module": "@jupyter-widgets/base",
            "_model_module_version": "1.2.0",
            "_model_name": "LayoutModel",
            "_view_count": null,
            "_view_module": "@jupyter-widgets/base",
            "_view_module_version": "1.2.0",
            "_view_name": "LayoutView",
            "align_content": null,
            "align_items": null,
            "align_self": null,
            "border": null,
            "bottom": null,
            "display": null,
            "flex": null,
            "flex_flow": null,
            "grid_area": null,
            "grid_auto_columns": null,
            "grid_auto_flow": null,
            "grid_auto_rows": null,
            "grid_column": null,
            "grid_gap": null,
            "grid_row": null,
            "grid_template_areas": null,
            "grid_template_columns": null,
            "grid_template_rows": null,
            "height": null,
            "justify_content": null,
            "justify_items": null,
            "left": null,
            "margin": null,
            "max_height": null,
            "max_width": null,
            "min_height": null,
            "min_width": null,
            "object_fit": null,
            "object_position": null,
            "order": null,
            "overflow": null,
            "overflow_x": null,
            "overflow_y": null,
            "padding": null,
            "right": null,
            "top": null,
            "visibility": null,
            "width": null
          }
        },
        "5a2784886c1d45d285235278a07d9423": {
          "model_module": "@jupyter-widgets/controls",
          "model_name": "DescriptionStyleModel",
          "model_module_version": "1.5.0",
          "state": {
            "_model_module": "@jupyter-widgets/controls",
            "_model_module_version": "1.5.0",
            "_model_name": "DescriptionStyleModel",
            "_view_count": null,
            "_view_module": "@jupyter-widgets/base",
            "_view_module_version": "1.2.0",
            "_view_name": "StyleView",
            "description_width": ""
          }
        },
        "abae07742160426d9a497d689b6aff47": {
          "model_module": "@jupyter-widgets/base",
          "model_name": "LayoutModel",
          "model_module_version": "1.2.0",
          "state": {
            "_model_module": "@jupyter-widgets/base",
            "_model_module_version": "1.2.0",
            "_model_name": "LayoutModel",
            "_view_count": null,
            "_view_module": "@jupyter-widgets/base",
            "_view_module_version": "1.2.0",
            "_view_name": "LayoutView",
            "align_content": null,
            "align_items": null,
            "align_self": null,
            "border": null,
            "bottom": null,
            "display": null,
            "flex": null,
            "flex_flow": null,
            "grid_area": null,
            "grid_auto_columns": null,
            "grid_auto_flow": null,
            "grid_auto_rows": null,
            "grid_column": null,
            "grid_gap": null,
            "grid_row": null,
            "grid_template_areas": null,
            "grid_template_columns": null,
            "grid_template_rows": null,
            "height": null,
            "justify_content": null,
            "justify_items": null,
            "left": null,
            "margin": null,
            "max_height": null,
            "max_width": null,
            "min_height": null,
            "min_width": null,
            "object_fit": null,
            "object_position": null,
            "order": null,
            "overflow": null,
            "overflow_x": null,
            "overflow_y": null,
            "padding": null,
            "right": null,
            "top": null,
            "visibility": null,
            "width": "20px"
          }
        },
        "526c5302c16d4e68a6fce99b71caf579": {
          "model_module": "@jupyter-widgets/controls",
          "model_name": "ProgressStyleModel",
          "model_module_version": "1.5.0",
          "state": {
            "_model_module": "@jupyter-widgets/controls",
            "_model_module_version": "1.5.0",
            "_model_name": "ProgressStyleModel",
            "_view_count": null,
            "_view_module": "@jupyter-widgets/base",
            "_view_module_version": "1.2.0",
            "_view_name": "StyleView",
            "bar_color": null,
            "description_width": ""
          }
        },
        "45899a65ba5641c080916e35d1465b09": {
          "model_module": "@jupyter-widgets/base",
          "model_name": "LayoutModel",
          "model_module_version": "1.2.0",
          "state": {
            "_model_module": "@jupyter-widgets/base",
            "_model_module_version": "1.2.0",
            "_model_name": "LayoutModel",
            "_view_count": null,
            "_view_module": "@jupyter-widgets/base",
            "_view_module_version": "1.2.0",
            "_view_name": "LayoutView",
            "align_content": null,
            "align_items": null,
            "align_self": null,
            "border": null,
            "bottom": null,
            "display": null,
            "flex": null,
            "flex_flow": null,
            "grid_area": null,
            "grid_auto_columns": null,
            "grid_auto_flow": null,
            "grid_auto_rows": null,
            "grid_column": null,
            "grid_gap": null,
            "grid_row": null,
            "grid_template_areas": null,
            "grid_template_columns": null,
            "grid_template_rows": null,
            "height": null,
            "justify_content": null,
            "justify_items": null,
            "left": null,
            "margin": null,
            "max_height": null,
            "max_width": null,
            "min_height": null,
            "min_width": null,
            "object_fit": null,
            "object_position": null,
            "order": null,
            "overflow": null,
            "overflow_x": null,
            "overflow_y": null,
            "padding": null,
            "right": null,
            "top": null,
            "visibility": null,
            "width": null
          }
        },
        "3fdc7ed92585403d8fec53d9ca72921e": {
          "model_module": "@jupyter-widgets/controls",
          "model_name": "DescriptionStyleModel",
          "model_module_version": "1.5.0",
          "state": {
            "_model_module": "@jupyter-widgets/controls",
            "_model_module_version": "1.5.0",
            "_model_name": "DescriptionStyleModel",
            "_view_count": null,
            "_view_module": "@jupyter-widgets/base",
            "_view_module_version": "1.2.0",
            "_view_name": "StyleView",
            "description_width": ""
          }
        },
        "8ccd71639c65483f93b709be556fe762": {
          "model_module": "@jupyter-widgets/controls",
          "model_name": "VBoxModel",
          "model_module_version": "1.5.0",
          "state": {
            "_dom_classes": [],
            "_model_module": "@jupyter-widgets/controls",
            "_model_module_version": "1.5.0",
            "_model_name": "VBoxModel",
            "_view_count": null,
            "_view_module": "@jupyter-widgets/controls",
            "_view_module_version": "1.5.0",
            "_view_name": "VBoxView",
            "box_style": "",
            "children": [
              "IPY_MODEL_9cfc153adfcc408d86e8b23c31433f83",
              "IPY_MODEL_935127f8d067440fac48f9925aa3f2e7",
              "IPY_MODEL_d1f67dec09f847f7954037ca576275ed",
              "IPY_MODEL_9aa472b9bf114fa98000800181323ded",
              "IPY_MODEL_251ae1140a9044b5880b4595381b92df"
            ],
            "layout": "IPY_MODEL_04afbef050a94a9497dcc0d2ce24fd75"
          }
        },
        "9cfc153adfcc408d86e8b23c31433f83": {
          "model_module": "@jupyter-widgets/controls",
          "model_name": "HTMLModel",
          "model_module_version": "1.5.0",
          "state": {
            "_dom_classes": [],
            "_model_module": "@jupyter-widgets/controls",
            "_model_module_version": "1.5.0",
            "_model_name": "HTMLModel",
            "_view_count": null,
            "_view_module": "@jupyter-widgets/controls",
            "_view_module_version": "1.5.0",
            "_view_name": "HTMLView",
            "description": "",
            "description_tooltip": null,
            "layout": "IPY_MODEL_253e85ebb2404592b940aa678cceb24f",
            "placeholder": "​",
            "style": "IPY_MODEL_a4b7ad9f537e45b286c0ae6b5c3a0af9",
            "value": "<center> <img\nsrc=https://huggingface.co/front/assets/huggingface_logo-noborder.svg\nalt='Hugging Face'> <br> Copy a token from <a\nhref=\"https://huggingface.co/settings/tokens\" target=\"_blank\">your Hugging Face\ntokens page</a> and paste it below. <br> Immediately click login after copying\nyour token or it might be stored in plain text in this notebook file. </center>"
          }
        },
        "935127f8d067440fac48f9925aa3f2e7": {
          "model_module": "@jupyter-widgets/controls",
          "model_name": "PasswordModel",
          "model_module_version": "1.5.0",
          "state": {
            "_dom_classes": [],
            "_model_module": "@jupyter-widgets/controls",
            "_model_module_version": "1.5.0",
            "_model_name": "PasswordModel",
            "_view_count": null,
            "_view_module": "@jupyter-widgets/controls",
            "_view_module_version": "1.5.0",
            "_view_name": "PasswordView",
            "continuous_update": true,
            "description": "Token:",
            "description_tooltip": null,
            "disabled": false,
            "layout": "IPY_MODEL_908f83b3cc1a40039545c928d288b3bf",
            "placeholder": "​",
            "style": "IPY_MODEL_d033df30462e46a1b2f071b24ecf25f6",
            "value": ""
          }
        },
        "d1f67dec09f847f7954037ca576275ed": {
          "model_module": "@jupyter-widgets/controls",
          "model_name": "CheckboxModel",
          "model_module_version": "1.5.0",
          "state": {
            "_dom_classes": [],
            "_model_module": "@jupyter-widgets/controls",
            "_model_module_version": "1.5.0",
            "_model_name": "CheckboxModel",
            "_view_count": null,
            "_view_module": "@jupyter-widgets/controls",
            "_view_module_version": "1.5.0",
            "_view_name": "CheckboxView",
            "description": "Add token as git credential?",
            "description_tooltip": null,
            "disabled": false,
            "indent": true,
            "layout": "IPY_MODEL_e947f323187a4639889522ab74c95179",
            "style": "IPY_MODEL_ce590aeca0c5431ea7ce2adde9579d8d",
            "value": true
          }
        },
        "9aa472b9bf114fa98000800181323ded": {
          "model_module": "@jupyter-widgets/controls",
          "model_name": "ButtonModel",
          "model_module_version": "1.5.0",
          "state": {
            "_dom_classes": [],
            "_model_module": "@jupyter-widgets/controls",
            "_model_module_version": "1.5.0",
            "_model_name": "ButtonModel",
            "_view_count": null,
            "_view_module": "@jupyter-widgets/controls",
            "_view_module_version": "1.5.0",
            "_view_name": "ButtonView",
            "button_style": "",
            "description": "Login",
            "disabled": false,
            "icon": "",
            "layout": "IPY_MODEL_a6835d381649442b9359aac1837db5e5",
            "style": "IPY_MODEL_7dc4a4b66be2436bbca770b35a21591f",
            "tooltip": ""
          }
        },
        "251ae1140a9044b5880b4595381b92df": {
          "model_module": "@jupyter-widgets/controls",
          "model_name": "HTMLModel",
          "model_module_version": "1.5.0",
          "state": {
            "_dom_classes": [],
            "_model_module": "@jupyter-widgets/controls",
            "_model_module_version": "1.5.0",
            "_model_name": "HTMLModel",
            "_view_count": null,
            "_view_module": "@jupyter-widgets/controls",
            "_view_module_version": "1.5.0",
            "_view_name": "HTMLView",
            "description": "",
            "description_tooltip": null,
            "layout": "IPY_MODEL_4853eec23b024947ae7749c9955e5531",
            "placeholder": "​",
            "style": "IPY_MODEL_7f895753a659485580d213b140b86b5c",
            "value": "\n<b>Pro Tip:</b> If you don't already have one, you can create a dedicated\n'notebooks' token with 'write' access, that you can then easily reuse for all\nnotebooks. </center>"
          }
        },
        "04afbef050a94a9497dcc0d2ce24fd75": {
          "model_module": "@jupyter-widgets/base",
          "model_name": "LayoutModel",
          "model_module_version": "1.2.0",
          "state": {
            "_model_module": "@jupyter-widgets/base",
            "_model_module_version": "1.2.0",
            "_model_name": "LayoutModel",
            "_view_count": null,
            "_view_module": "@jupyter-widgets/base",
            "_view_module_version": "1.2.0",
            "_view_name": "LayoutView",
            "align_content": null,
            "align_items": "center",
            "align_self": null,
            "border": null,
            "bottom": null,
            "display": "flex",
            "flex": null,
            "flex_flow": "column",
            "grid_area": null,
            "grid_auto_columns": null,
            "grid_auto_flow": null,
            "grid_auto_rows": null,
            "grid_column": null,
            "grid_gap": null,
            "grid_row": null,
            "grid_template_areas": null,
            "grid_template_columns": null,
            "grid_template_rows": null,
            "height": null,
            "justify_content": null,
            "justify_items": null,
            "left": null,
            "margin": null,
            "max_height": null,
            "max_width": null,
            "min_height": null,
            "min_width": null,
            "object_fit": null,
            "object_position": null,
            "order": null,
            "overflow": null,
            "overflow_x": null,
            "overflow_y": null,
            "padding": null,
            "right": null,
            "top": null,
            "visibility": null,
            "width": "50%"
          }
        },
        "253e85ebb2404592b940aa678cceb24f": {
          "model_module": "@jupyter-widgets/base",
          "model_name": "LayoutModel",
          "model_module_version": "1.2.0",
          "state": {
            "_model_module": "@jupyter-widgets/base",
            "_model_module_version": "1.2.0",
            "_model_name": "LayoutModel",
            "_view_count": null,
            "_view_module": "@jupyter-widgets/base",
            "_view_module_version": "1.2.0",
            "_view_name": "LayoutView",
            "align_content": null,
            "align_items": null,
            "align_self": null,
            "border": null,
            "bottom": null,
            "display": null,
            "flex": null,
            "flex_flow": null,
            "grid_area": null,
            "grid_auto_columns": null,
            "grid_auto_flow": null,
            "grid_auto_rows": null,
            "grid_column": null,
            "grid_gap": null,
            "grid_row": null,
            "grid_template_areas": null,
            "grid_template_columns": null,
            "grid_template_rows": null,
            "height": null,
            "justify_content": null,
            "justify_items": null,
            "left": null,
            "margin": null,
            "max_height": null,
            "max_width": null,
            "min_height": null,
            "min_width": null,
            "object_fit": null,
            "object_position": null,
            "order": null,
            "overflow": null,
            "overflow_x": null,
            "overflow_y": null,
            "padding": null,
            "right": null,
            "top": null,
            "visibility": null,
            "width": null
          }
        },
        "a4b7ad9f537e45b286c0ae6b5c3a0af9": {
          "model_module": "@jupyter-widgets/controls",
          "model_name": "DescriptionStyleModel",
          "model_module_version": "1.5.0",
          "state": {
            "_model_module": "@jupyter-widgets/controls",
            "_model_module_version": "1.5.0",
            "_model_name": "DescriptionStyleModel",
            "_view_count": null,
            "_view_module": "@jupyter-widgets/base",
            "_view_module_version": "1.2.0",
            "_view_name": "StyleView",
            "description_width": ""
          }
        },
        "908f83b3cc1a40039545c928d288b3bf": {
          "model_module": "@jupyter-widgets/base",
          "model_name": "LayoutModel",
          "model_module_version": "1.2.0",
          "state": {
            "_model_module": "@jupyter-widgets/base",
            "_model_module_version": "1.2.0",
            "_model_name": "LayoutModel",
            "_view_count": null,
            "_view_module": "@jupyter-widgets/base",
            "_view_module_version": "1.2.0",
            "_view_name": "LayoutView",
            "align_content": null,
            "align_items": null,
            "align_self": null,
            "border": null,
            "bottom": null,
            "display": null,
            "flex": null,
            "flex_flow": null,
            "grid_area": null,
            "grid_auto_columns": null,
            "grid_auto_flow": null,
            "grid_auto_rows": null,
            "grid_column": null,
            "grid_gap": null,
            "grid_row": null,
            "grid_template_areas": null,
            "grid_template_columns": null,
            "grid_template_rows": null,
            "height": null,
            "justify_content": null,
            "justify_items": null,
            "left": null,
            "margin": null,
            "max_height": null,
            "max_width": null,
            "min_height": null,
            "min_width": null,
            "object_fit": null,
            "object_position": null,
            "order": null,
            "overflow": null,
            "overflow_x": null,
            "overflow_y": null,
            "padding": null,
            "right": null,
            "top": null,
            "visibility": null,
            "width": null
          }
        },
        "d033df30462e46a1b2f071b24ecf25f6": {
          "model_module": "@jupyter-widgets/controls",
          "model_name": "DescriptionStyleModel",
          "model_module_version": "1.5.0",
          "state": {
            "_model_module": "@jupyter-widgets/controls",
            "_model_module_version": "1.5.0",
            "_model_name": "DescriptionStyleModel",
            "_view_count": null,
            "_view_module": "@jupyter-widgets/base",
            "_view_module_version": "1.2.0",
            "_view_name": "StyleView",
            "description_width": ""
          }
        },
        "e947f323187a4639889522ab74c95179": {
          "model_module": "@jupyter-widgets/base",
          "model_name": "LayoutModel",
          "model_module_version": "1.2.0",
          "state": {
            "_model_module": "@jupyter-widgets/base",
            "_model_module_version": "1.2.0",
            "_model_name": "LayoutModel",
            "_view_count": null,
            "_view_module": "@jupyter-widgets/base",
            "_view_module_version": "1.2.0",
            "_view_name": "LayoutView",
            "align_content": null,
            "align_items": null,
            "align_self": null,
            "border": null,
            "bottom": null,
            "display": null,
            "flex": null,
            "flex_flow": null,
            "grid_area": null,
            "grid_auto_columns": null,
            "grid_auto_flow": null,
            "grid_auto_rows": null,
            "grid_column": null,
            "grid_gap": null,
            "grid_row": null,
            "grid_template_areas": null,
            "grid_template_columns": null,
            "grid_template_rows": null,
            "height": null,
            "justify_content": null,
            "justify_items": null,
            "left": null,
            "margin": null,
            "max_height": null,
            "max_width": null,
            "min_height": null,
            "min_width": null,
            "object_fit": null,
            "object_position": null,
            "order": null,
            "overflow": null,
            "overflow_x": null,
            "overflow_y": null,
            "padding": null,
            "right": null,
            "top": null,
            "visibility": null,
            "width": null
          }
        },
        "ce590aeca0c5431ea7ce2adde9579d8d": {
          "model_module": "@jupyter-widgets/controls",
          "model_name": "DescriptionStyleModel",
          "model_module_version": "1.5.0",
          "state": {
            "_model_module": "@jupyter-widgets/controls",
            "_model_module_version": "1.5.0",
            "_model_name": "DescriptionStyleModel",
            "_view_count": null,
            "_view_module": "@jupyter-widgets/base",
            "_view_module_version": "1.2.0",
            "_view_name": "StyleView",
            "description_width": ""
          }
        },
        "a6835d381649442b9359aac1837db5e5": {
          "model_module": "@jupyter-widgets/base",
          "model_name": "LayoutModel",
          "model_module_version": "1.2.0",
          "state": {
            "_model_module": "@jupyter-widgets/base",
            "_model_module_version": "1.2.0",
            "_model_name": "LayoutModel",
            "_view_count": null,
            "_view_module": "@jupyter-widgets/base",
            "_view_module_version": "1.2.0",
            "_view_name": "LayoutView",
            "align_content": null,
            "align_items": null,
            "align_self": null,
            "border": null,
            "bottom": null,
            "display": null,
            "flex": null,
            "flex_flow": null,
            "grid_area": null,
            "grid_auto_columns": null,
            "grid_auto_flow": null,
            "grid_auto_rows": null,
            "grid_column": null,
            "grid_gap": null,
            "grid_row": null,
            "grid_template_areas": null,
            "grid_template_columns": null,
            "grid_template_rows": null,
            "height": null,
            "justify_content": null,
            "justify_items": null,
            "left": null,
            "margin": null,
            "max_height": null,
            "max_width": null,
            "min_height": null,
            "min_width": null,
            "object_fit": null,
            "object_position": null,
            "order": null,
            "overflow": null,
            "overflow_x": null,
            "overflow_y": null,
            "padding": null,
            "right": null,
            "top": null,
            "visibility": null,
            "width": null
          }
        },
        "7dc4a4b66be2436bbca770b35a21591f": {
          "model_module": "@jupyter-widgets/controls",
          "model_name": "ButtonStyleModel",
          "model_module_version": "1.5.0",
          "state": {
            "_model_module": "@jupyter-widgets/controls",
            "_model_module_version": "1.5.0",
            "_model_name": "ButtonStyleModel",
            "_view_count": null,
            "_view_module": "@jupyter-widgets/base",
            "_view_module_version": "1.2.0",
            "_view_name": "StyleView",
            "button_color": null,
            "font_weight": ""
          }
        },
        "4853eec23b024947ae7749c9955e5531": {
          "model_module": "@jupyter-widgets/base",
          "model_name": "LayoutModel",
          "model_module_version": "1.2.0",
          "state": {
            "_model_module": "@jupyter-widgets/base",
            "_model_module_version": "1.2.0",
            "_model_name": "LayoutModel",
            "_view_count": null,
            "_view_module": "@jupyter-widgets/base",
            "_view_module_version": "1.2.0",
            "_view_name": "LayoutView",
            "align_content": null,
            "align_items": null,
            "align_self": null,
            "border": null,
            "bottom": null,
            "display": null,
            "flex": null,
            "flex_flow": null,
            "grid_area": null,
            "grid_auto_columns": null,
            "grid_auto_flow": null,
            "grid_auto_rows": null,
            "grid_column": null,
            "grid_gap": null,
            "grid_row": null,
            "grid_template_areas": null,
            "grid_template_columns": null,
            "grid_template_rows": null,
            "height": null,
            "justify_content": null,
            "justify_items": null,
            "left": null,
            "margin": null,
            "max_height": null,
            "max_width": null,
            "min_height": null,
            "min_width": null,
            "object_fit": null,
            "object_position": null,
            "order": null,
            "overflow": null,
            "overflow_x": null,
            "overflow_y": null,
            "padding": null,
            "right": null,
            "top": null,
            "visibility": null,
            "width": null
          }
        },
        "7f895753a659485580d213b140b86b5c": {
          "model_module": "@jupyter-widgets/controls",
          "model_name": "DescriptionStyleModel",
          "model_module_version": "1.5.0",
          "state": {
            "_model_module": "@jupyter-widgets/controls",
            "_model_module_version": "1.5.0",
            "_model_name": "DescriptionStyleModel",
            "_view_count": null,
            "_view_module": "@jupyter-widgets/base",
            "_view_module_version": "1.2.0",
            "_view_name": "StyleView",
            "description_width": ""
          }
        }
      }
    }
  },
  "nbformat": 4,
  "nbformat_minor": 0
}